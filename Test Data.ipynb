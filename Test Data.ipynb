{
 "cells": [
  {
   "cell_type": "markdown",
   "metadata": {},
   "source": [
    "Описание полей:<br><br>\n",
    "- **DATE_OF_EVENT** - день клика, заплатить он мог мозже, но все равно тригер реги упадет сюда<br>\n",
    "- **EVENT_ID** - уникальный ID клика, каждый пользователь может сделать неограниченное кол-во кликов<br>\n",
    "- **USER_ID** - уникальный ID пользователя, каждый пользователь может сделать неограниченное кол-во кликов<br>\n",
    "- **WAY_ID** - канал\\сплит<br>\n",
    "- **CAMPAIGN_ID** - группа баннеров, кампания, внутренний идентификатор<br>\n",
    "- **PLACEMENT_ID** - баннер, на который кликнул пользователь.<br>\n",
    "- **INT_CAMPAIGN_ID** - ID кампании<br>\n",
    "- **MEDIUM_ID** - промежуточный баннер с вопросами (типа какой цвет волос нарвится, в каком городе живете, и тд.). Его могут не пройти, тогда будет отвал.<br>\n",
    "- **PRODUCT_ID** - заход на регистрационную форму ID продукта. Тут может заполнить форму и перейти в событию регистрации. Или уйти.<br>\n",
    "- **REG_TRIG** - ивент регистрации, каждый пользователь может зарегистрироваться неограниченном кол-ве продуктов. Но только 1 раз на каждом.<br>\n",
    "- **PMNT_TRIG** - тригер платежа связки \"USER_ID\"-\"PRODUCT_ID\"-\"REG_TRIG\". Т.е данный юзер заплатил на данном продукте после реги. Платеж без невозможен."
   ]
  },
  {
   "cell_type": "code",
   "execution_count": 1,
   "metadata": {},
   "outputs": [],
   "source": [
    "import pandas as pd\n",
    "import numpy as np\n",
    "import seaborn as sns\n",
    "import matplotlib.pyplot as pl"
   ]
  },
  {
   "cell_type": "markdown",
   "metadata": {},
   "source": [
    "### 1. Data overview (1st data set)"
   ]
  },
  {
   "cell_type": "markdown",
   "metadata": {},
   "source": [
    "There are two provided data sets. Here is the quick look at the first one."
   ]
  },
  {
   "cell_type": "code",
   "execution_count": 2,
   "metadata": {},
   "outputs": [
    {
     "data": {
      "text/html": [
       "<div>\n",
       "<style scoped>\n",
       "    .dataframe tbody tr th:only-of-type {\n",
       "        vertical-align: middle;\n",
       "    }\n",
       "\n",
       "    .dataframe tbody tr th {\n",
       "        vertical-align: top;\n",
       "    }\n",
       "\n",
       "    .dataframe thead th {\n",
       "        text-align: right;\n",
       "    }\n",
       "</style>\n",
       "<table border=\"1\" class=\"dataframe\">\n",
       "  <thead>\n",
       "    <tr style=\"text-align: right;\">\n",
       "      <th></th>\n",
       "      <th>DATE_OF_EVENT</th>\n",
       "      <th>EVENT_ID</th>\n",
       "      <th>USER_ID</th>\n",
       "      <th>WAY_ID</th>\n",
       "      <th>CAMPAIGN_ID</th>\n",
       "      <th>PLACEMENT_ID</th>\n",
       "      <th>INT_CAMPAIGN_ID</th>\n",
       "      <th>MEDIUM_ID</th>\n",
       "      <th>PRODUCT_ID</th>\n",
       "      <th>REG_TRIG</th>\n",
       "      <th>PMNT_TRIG</th>\n",
       "    </tr>\n",
       "  </thead>\n",
       "  <tbody>\n",
       "    <tr>\n",
       "      <td>0</td>\n",
       "      <td>2017-05-05</td>\n",
       "      <td>a18841cf5c3208f4c3d7b139589bc897b1f29f45</td>\n",
       "      <td>ea62471c114233e16ef425975d13d51de9e8f20d</td>\n",
       "      <td>b</td>\n",
       "      <td>ex13m</td>\n",
       "      <td>15982135</td>\n",
       "      <td>g6932ish</td>\n",
       "      <td>20484</td>\n",
       "      <td>NaN</td>\n",
       "      <td>0</td>\n",
       "      <td>0</td>\n",
       "    </tr>\n",
       "    <tr>\n",
       "      <td>1</td>\n",
       "      <td>2017-05-05</td>\n",
       "      <td>a1893bd515bf06853f45a3d0d038e96e5210fd72</td>\n",
       "      <td>0afaf3ac1ec6f685582145038bfece98f29f8fee</td>\n",
       "      <td>a</td>\n",
       "      <td>ex13m</td>\n",
       "      <td>16056045</td>\n",
       "      <td>g1417bel</td>\n",
       "      <td>19227</td>\n",
       "      <td>NaN</td>\n",
       "      <td>0</td>\n",
       "      <td>0</td>\n",
       "    </tr>\n",
       "    <tr>\n",
       "      <td>2</td>\n",
       "      <td>2017-05-05</td>\n",
       "      <td>a1893f9ef3cdb2f62db472b0d51bfedf92e499e9</td>\n",
       "      <td>f7135b828d63cb008497f40496a9425d0edc752d</td>\n",
       "      <td>a</td>\n",
       "      <td>ex13p1p</td>\n",
       "      <td>16051115</td>\n",
       "      <td>g6746yar</td>\n",
       "      <td>19769</td>\n",
       "      <td>NaN</td>\n",
       "      <td>0</td>\n",
       "      <td>0</td>\n",
       "    </tr>\n",
       "    <tr>\n",
       "      <td>3</td>\n",
       "      <td>2017-05-05</td>\n",
       "      <td>a189ffe910621a892af40d0ec3a9394bbee69875</td>\n",
       "      <td>b37c9d8a3801885db63369e661c00e5ec6bdfffa</td>\n",
       "      <td>a</td>\n",
       "      <td>tru3wb</td>\n",
       "      <td>231834</td>\n",
       "      <td>g5529bel</td>\n",
       "      <td>20443</td>\n",
       "      <td>wntmRfb4b6dc7647e11e6bf1e984be1741384_b2463e76...</td>\n",
       "      <td>0</td>\n",
       "      <td>0</td>\n",
       "    </tr>\n",
       "    <tr>\n",
       "      <td>4</td>\n",
       "      <td>2017-05-05</td>\n",
       "      <td>a18a240c3691c73d2c9465157824b1ad3e05b4b2</td>\n",
       "      <td>28dc89f5ecc3e14b64e38caedb97ffb959bc9839</td>\n",
       "      <td>a</td>\n",
       "      <td>th3m</td>\n",
       "      <td>In4j9u2h.gi4</td>\n",
       "      <td>g6388kro</td>\n",
       "      <td>17589</td>\n",
       "      <td>NaN</td>\n",
       "      <td>0</td>\n",
       "      <td>0</td>\n",
       "    </tr>\n",
       "  </tbody>\n",
       "</table>\n",
       "</div>"
      ],
      "text/plain": [
       "  DATE_OF_EVENT                                  EVENT_ID  \\\n",
       "0    2017-05-05  a18841cf5c3208f4c3d7b139589bc897b1f29f45   \n",
       "1    2017-05-05  a1893bd515bf06853f45a3d0d038e96e5210fd72   \n",
       "2    2017-05-05  a1893f9ef3cdb2f62db472b0d51bfedf92e499e9   \n",
       "3    2017-05-05  a189ffe910621a892af40d0ec3a9394bbee69875   \n",
       "4    2017-05-05  a18a240c3691c73d2c9465157824b1ad3e05b4b2   \n",
       "\n",
       "                                    USER_ID WAY_ID CAMPAIGN_ID  PLACEMENT_ID  \\\n",
       "0  ea62471c114233e16ef425975d13d51de9e8f20d      b       ex13m      15982135   \n",
       "1  0afaf3ac1ec6f685582145038bfece98f29f8fee      a       ex13m      16056045   \n",
       "2  f7135b828d63cb008497f40496a9425d0edc752d      a     ex13p1p      16051115   \n",
       "3  b37c9d8a3801885db63369e661c00e5ec6bdfffa      a      tru3wb        231834   \n",
       "4  28dc89f5ecc3e14b64e38caedb97ffb959bc9839      a        th3m  In4j9u2h.gi4   \n",
       "\n",
       "  INT_CAMPAIGN_ID MEDIUM_ID  \\\n",
       "0        g6932ish     20484   \n",
       "1        g1417bel     19227   \n",
       "2        g6746yar     19769   \n",
       "3        g5529bel     20443   \n",
       "4        g6388kro     17589   \n",
       "\n",
       "                                          PRODUCT_ID  REG_TRIG  PMNT_TRIG  \n",
       "0                                                NaN         0          0  \n",
       "1                                                NaN         0          0  \n",
       "2                                                NaN         0          0  \n",
       "3  wntmRfb4b6dc7647e11e6bf1e984be1741384_b2463e76...         0          0  \n",
       "4                                                NaN         0          0  "
      ]
     },
     "execution_count": 2,
     "metadata": {},
     "output_type": "execute_result"
    }
   ],
   "source": [
    "df1 = pd.read_csv(\"1.csv\")\n",
    "df1.head()"
   ]
  },
  {
   "cell_type": "markdown",
   "metadata": {},
   "source": [
    "The cell below repesents the overall information about the data set."
   ]
  },
  {
   "cell_type": "code",
   "execution_count": 3,
   "metadata": {},
   "outputs": [
    {
     "name": "stdout",
     "output_type": "stream",
     "text": [
      "<class 'pandas.core.frame.DataFrame'>\n",
      "RangeIndex: 6535884 entries, 0 to 6535883\n",
      "Data columns (total 11 columns):\n",
      "DATE_OF_EVENT      object\n",
      "EVENT_ID           object\n",
      "USER_ID            object\n",
      "WAY_ID             object\n",
      "CAMPAIGN_ID        object\n",
      "PLACEMENT_ID       object\n",
      "INT_CAMPAIGN_ID    object\n",
      "MEDIUM_ID          object\n",
      "PRODUCT_ID         object\n",
      "REG_TRIG           int64\n",
      "PMNT_TRIG          int64\n",
      "dtypes: int64(2), object(9)\n",
      "memory usage: 548.5+ MB\n"
     ]
    }
   ],
   "source": [
    "df1.info()"
   ]
  },
  {
   "cell_type": "markdown",
   "metadata": {},
   "source": [
    "### 2. Check & Clean Duplicated Data"
   ]
  },
  {
   "cell_type": "markdown",
   "metadata": {},
   "source": [
    "The next step is checking if there are duplicate values in the data set."
   ]
  },
  {
   "cell_type": "code",
   "execution_count": 4,
   "metadata": {},
   "outputs": [
    {
     "data": {
      "text/plain": [
       "DATE_OF_EVENT            8\n",
       "EVENT_ID           5791635\n",
       "USER_ID            4386570\n",
       "WAY_ID                   6\n",
       "CAMPAIGN_ID             71\n",
       "PLACEMENT_ID          3267\n",
       "INT_CAMPAIGN_ID        475\n",
       "MEDIUM_ID              334\n",
       "PRODUCT_ID            1074\n",
       "REG_TRIG                 2\n",
       "PMNT_TRIG                2\n",
       "dtype: int64"
      ]
     },
     "execution_count": 4,
     "metadata": {},
     "output_type": "execute_result"
    }
   ],
   "source": [
    "df1.nunique()"
   ]
  },
  {
   "cell_type": "markdown",
   "metadata": {},
   "source": [
    "The Shape attribute will show the number of records and columns."
   ]
  },
  {
   "cell_type": "code",
   "execution_count": 5,
   "metadata": {},
   "outputs": [
    {
     "data": {
      "text/plain": [
       "(6535884, 11)"
      ]
     },
     "execution_count": 5,
     "metadata": {},
     "output_type": "execute_result"
    }
   ],
   "source": [
    "df1.shape"
   ]
  },
  {
   "cell_type": "markdown",
   "metadata": {},
   "source": [
    "According to the fields description, **'EVENT_ID'** should be a unique value representing each unique user activity. **'USER_ID'** may be repeated as each unique user may perform more than one click."
   ]
  },
  {
   "cell_type": "markdown",
   "metadata": {},
   "source": [
    "How many duplicates?"
   ]
  },
  {
   "cell_type": "code",
   "execution_count": 6,
   "metadata": {},
   "outputs": [
    {
     "data": {
      "text/plain": [
       "743799"
      ]
     },
     "execution_count": 6,
     "metadata": {},
     "output_type": "execute_result"
    }
   ],
   "source": [
    "df1.duplicated().sum()"
   ]
  },
  {
   "cell_type": "markdown",
   "metadata": {},
   "source": [
    "Just to be safe I would like to see that duplicated rows are truly identical."
   ]
  },
  {
   "cell_type": "code",
   "execution_count": 7,
   "metadata": {},
   "outputs": [
    {
     "data": {
      "text/html": [
       "<div>\n",
       "<style scoped>\n",
       "    .dataframe tbody tr th:only-of-type {\n",
       "        vertical-align: middle;\n",
       "    }\n",
       "\n",
       "    .dataframe tbody tr th {\n",
       "        vertical-align: top;\n",
       "    }\n",
       "\n",
       "    .dataframe thead th {\n",
       "        text-align: right;\n",
       "    }\n",
       "</style>\n",
       "<table border=\"1\" class=\"dataframe\">\n",
       "  <thead>\n",
       "    <tr style=\"text-align: right;\">\n",
       "      <th></th>\n",
       "      <th>DATE_OF_EVENT</th>\n",
       "      <th>EVENT_ID</th>\n",
       "      <th>USER_ID</th>\n",
       "      <th>WAY_ID</th>\n",
       "      <th>CAMPAIGN_ID</th>\n",
       "      <th>PLACEMENT_ID</th>\n",
       "      <th>INT_CAMPAIGN_ID</th>\n",
       "      <th>MEDIUM_ID</th>\n",
       "      <th>PRODUCT_ID</th>\n",
       "      <th>REG_TRIG</th>\n",
       "      <th>PMNT_TRIG</th>\n",
       "      <th>is_duplicated</th>\n",
       "    </tr>\n",
       "  </thead>\n",
       "  <tbody>\n",
       "    <tr>\n",
       "      <td>513</td>\n",
       "      <td>2017-05-05</td>\n",
       "      <td>000002719a5b3ad89c588626bfe157bed8330830</td>\n",
       "      <td>497a196e0ac6975ac78f9a00d7c94dc430a45051</td>\n",
       "      <td>a</td>\n",
       "      <td>tE4</td>\n",
       "      <td>Ing_4t_556</td>\n",
       "      <td>g2224pod</td>\n",
       "      <td>20443</td>\n",
       "      <td>ndRdb64e45efe9a11e689f9984be1741384_4d5947a22f...</td>\n",
       "      <td>0</td>\n",
       "      <td>0</td>\n",
       "      <td>True</td>\n",
       "    </tr>\n",
       "    <tr>\n",
       "      <td>5770137</td>\n",
       "      <td>2017-05-05</td>\n",
       "      <td>000002719a5b3ad89c588626bfe157bed8330830</td>\n",
       "      <td>497a196e0ac6975ac78f9a00d7c94dc430a45051</td>\n",
       "      <td>a</td>\n",
       "      <td>tE4</td>\n",
       "      <td>Ing_4t_556</td>\n",
       "      <td>g2224pod</td>\n",
       "      <td>20443</td>\n",
       "      <td>ndRdb64e45efe9a11e689f9984be1741384_4d5947a22f...</td>\n",
       "      <td>0</td>\n",
       "      <td>0</td>\n",
       "      <td>True</td>\n",
       "    </tr>\n",
       "    <tr>\n",
       "      <td>3289548</td>\n",
       "      <td>2017-05-05</td>\n",
       "      <td>00001d36c1ab70802418dc4cd166a3766043e4e8</td>\n",
       "      <td>cc2b80426e9dcba4bbe0ada15ca8de8b910130fb</td>\n",
       "      <td>a</td>\n",
       "      <td>78dnm3bm</td>\n",
       "      <td>97104</td>\n",
       "      <td>g7414iva</td>\n",
       "      <td>19274</td>\n",
       "      <td>NaN</td>\n",
       "      <td>0</td>\n",
       "      <td>0</td>\n",
       "      <td>True</td>\n",
       "    </tr>\n",
       "    <tr>\n",
       "      <td>3289547</td>\n",
       "      <td>2017-05-05</td>\n",
       "      <td>00001d36c1ab70802418dc4cd166a3766043e4e8</td>\n",
       "      <td>cc2b80426e9dcba4bbe0ada15ca8de8b910130fb</td>\n",
       "      <td>a</td>\n",
       "      <td>78dnm3bm</td>\n",
       "      <td>97104</td>\n",
       "      <td>g7414iva</td>\n",
       "      <td>19274</td>\n",
       "      <td>NaN</td>\n",
       "      <td>0</td>\n",
       "      <td>0</td>\n",
       "      <td>True</td>\n",
       "    </tr>\n",
       "    <tr>\n",
       "      <td>514</td>\n",
       "      <td>2017-05-05</td>\n",
       "      <td>000062e2b9bb66dced99430bd2f4944ba229e79d</td>\n",
       "      <td>aaac613bc643f96728151530a3927493fbd310e5</td>\n",
       "      <td>d</td>\n",
       "      <td>wh3um</td>\n",
       "      <td>Qt1</td>\n",
       "      <td>g7162bar</td>\n",
       "      <td>20746</td>\n",
       "      <td>NaN</td>\n",
       "      <td>0</td>\n",
       "      <td>0</td>\n",
       "      <td>True</td>\n",
       "    </tr>\n",
       "    <tr>\n",
       "      <td>5770138</td>\n",
       "      <td>2017-05-05</td>\n",
       "      <td>000062e2b9bb66dced99430bd2f4944ba229e79d</td>\n",
       "      <td>aaac613bc643f96728151530a3927493fbd310e5</td>\n",
       "      <td>d</td>\n",
       "      <td>wh3um</td>\n",
       "      <td>Qt1</td>\n",
       "      <td>g7162bar</td>\n",
       "      <td>20746</td>\n",
       "      <td>NaN</td>\n",
       "      <td>0</td>\n",
       "      <td>0</td>\n",
       "      <td>True</td>\n",
       "    </tr>\n",
       "    <tr>\n",
       "      <td>3077</td>\n",
       "      <td>2017-05-05</td>\n",
       "      <td>000087dbc2f56bedfae7f697234547ef91557742</td>\n",
       "      <td>747b1f2e5c3ea16cb183b4e5f4509d7cecea696e</td>\n",
       "      <td>c</td>\n",
       "      <td>wh3um</td>\n",
       "      <td>Qt1</td>\n",
       "      <td>g7162bar</td>\n",
       "      <td>20670</td>\n",
       "      <td>NaN</td>\n",
       "      <td>0</td>\n",
       "      <td>0</td>\n",
       "      <td>True</td>\n",
       "    </tr>\n",
       "    <tr>\n",
       "      <td>3779691</td>\n",
       "      <td>2017-05-05</td>\n",
       "      <td>000087dbc2f56bedfae7f697234547ef91557742</td>\n",
       "      <td>747b1f2e5c3ea16cb183b4e5f4509d7cecea696e</td>\n",
       "      <td>c</td>\n",
       "      <td>wh3um</td>\n",
       "      <td>Qt1</td>\n",
       "      <td>g7162bar</td>\n",
       "      <td>20670</td>\n",
       "      <td>NaN</td>\n",
       "      <td>0</td>\n",
       "      <td>0</td>\n",
       "      <td>True</td>\n",
       "    </tr>\n",
       "    <tr>\n",
       "      <td>515</td>\n",
       "      <td>2017-05-05</td>\n",
       "      <td>0000aa7a3c3e5f73dfdd12cc0f4466fd0128ca20</td>\n",
       "      <td>8da262db93756dd36d80f90f7c7895e335a6f78e</td>\n",
       "      <td>a</td>\n",
       "      <td>rep3m</td>\n",
       "      <td>4809244</td>\n",
       "      <td>g1907iva</td>\n",
       "      <td>19769</td>\n",
       "      <td>NaN</td>\n",
       "      <td>0</td>\n",
       "      <td>0</td>\n",
       "      <td>True</td>\n",
       "    </tr>\n",
       "    <tr>\n",
       "      <td>5770139</td>\n",
       "      <td>2017-05-05</td>\n",
       "      <td>0000aa7a3c3e5f73dfdd12cc0f4466fd0128ca20</td>\n",
       "      <td>8da262db93756dd36d80f90f7c7895e335a6f78e</td>\n",
       "      <td>a</td>\n",
       "      <td>rep3m</td>\n",
       "      <td>4809244</td>\n",
       "      <td>g1907iva</td>\n",
       "      <td>19769</td>\n",
       "      <td>NaN</td>\n",
       "      <td>0</td>\n",
       "      <td>0</td>\n",
       "      <td>True</td>\n",
       "    </tr>\n",
       "  </tbody>\n",
       "</table>\n",
       "</div>"
      ],
      "text/plain": [
       "        DATE_OF_EVENT                                  EVENT_ID  \\\n",
       "513        2017-05-05  000002719a5b3ad89c588626bfe157bed8330830   \n",
       "5770137    2017-05-05  000002719a5b3ad89c588626bfe157bed8330830   \n",
       "3289548    2017-05-05  00001d36c1ab70802418dc4cd166a3766043e4e8   \n",
       "3289547    2017-05-05  00001d36c1ab70802418dc4cd166a3766043e4e8   \n",
       "514        2017-05-05  000062e2b9bb66dced99430bd2f4944ba229e79d   \n",
       "5770138    2017-05-05  000062e2b9bb66dced99430bd2f4944ba229e79d   \n",
       "3077       2017-05-05  000087dbc2f56bedfae7f697234547ef91557742   \n",
       "3779691    2017-05-05  000087dbc2f56bedfae7f697234547ef91557742   \n",
       "515        2017-05-05  0000aa7a3c3e5f73dfdd12cc0f4466fd0128ca20   \n",
       "5770139    2017-05-05  0000aa7a3c3e5f73dfdd12cc0f4466fd0128ca20   \n",
       "\n",
       "                                          USER_ID WAY_ID CAMPAIGN_ID  \\\n",
       "513      497a196e0ac6975ac78f9a00d7c94dc430a45051      a         tE4   \n",
       "5770137  497a196e0ac6975ac78f9a00d7c94dc430a45051      a         tE4   \n",
       "3289548  cc2b80426e9dcba4bbe0ada15ca8de8b910130fb      a    78dnm3bm   \n",
       "3289547  cc2b80426e9dcba4bbe0ada15ca8de8b910130fb      a    78dnm3bm   \n",
       "514      aaac613bc643f96728151530a3927493fbd310e5      d       wh3um   \n",
       "5770138  aaac613bc643f96728151530a3927493fbd310e5      d       wh3um   \n",
       "3077     747b1f2e5c3ea16cb183b4e5f4509d7cecea696e      c       wh3um   \n",
       "3779691  747b1f2e5c3ea16cb183b4e5f4509d7cecea696e      c       wh3um   \n",
       "515      8da262db93756dd36d80f90f7c7895e335a6f78e      a       rep3m   \n",
       "5770139  8da262db93756dd36d80f90f7c7895e335a6f78e      a       rep3m   \n",
       "\n",
       "        PLACEMENT_ID INT_CAMPAIGN_ID MEDIUM_ID  \\\n",
       "513       Ing_4t_556        g2224pod     20443   \n",
       "5770137   Ing_4t_556        g2224pod     20443   \n",
       "3289548        97104        g7414iva     19274   \n",
       "3289547        97104        g7414iva     19274   \n",
       "514              Qt1        g7162bar     20746   \n",
       "5770138          Qt1        g7162bar     20746   \n",
       "3077             Qt1        g7162bar     20670   \n",
       "3779691          Qt1        g7162bar     20670   \n",
       "515          4809244        g1907iva     19769   \n",
       "5770139      4809244        g1907iva     19769   \n",
       "\n",
       "                                                PRODUCT_ID  REG_TRIG  \\\n",
       "513      ndRdb64e45efe9a11e689f9984be1741384_4d5947a22f...         0   \n",
       "5770137  ndRdb64e45efe9a11e689f9984be1741384_4d5947a22f...         0   \n",
       "3289548                                                NaN         0   \n",
       "3289547                                                NaN         0   \n",
       "514                                                    NaN         0   \n",
       "5770138                                                NaN         0   \n",
       "3077                                                   NaN         0   \n",
       "3779691                                                NaN         0   \n",
       "515                                                    NaN         0   \n",
       "5770139                                                NaN         0   \n",
       "\n",
       "         PMNT_TRIG  is_duplicated  \n",
       "513              0           True  \n",
       "5770137          0           True  \n",
       "3289548          0           True  \n",
       "3289547          0           True  \n",
       "514              0           True  \n",
       "5770138          0           True  \n",
       "3077             0           True  \n",
       "3779691          0           True  \n",
       "515              0           True  \n",
       "5770139          0           True  "
      ]
     },
     "execution_count": 7,
     "metadata": {},
     "output_type": "execute_result"
    }
   ],
   "source": [
    "duplicated1 = df1.copy()\n",
    "duplicated1[\"is_duplicated\"] = duplicated1['EVENT_ID'].duplicated(keep = False)\n",
    "duplicated1 = duplicated1.loc[duplicated1['is_duplicated'] == True]\n",
    "duplicated1 = duplicated1.sort_values(by ='EVENT_ID' )\n",
    "duplicated1.head(10)"
   ]
  },
  {
   "cell_type": "markdown",
   "metadata": {},
   "source": [
    "Dropping duplicated rows"
   ]
  },
  {
   "cell_type": "code",
   "execution_count": 8,
   "metadata": {},
   "outputs": [
    {
     "data": {
      "text/plain": [
       "(5791635, 11)"
      ]
     },
     "execution_count": 8,
     "metadata": {},
     "output_type": "execute_result"
    }
   ],
   "source": [
    "df1.drop_duplicates(subset =\"EVENT_ID\", keep = 'first', inplace = True)\n",
    "df1.shape"
   ]
  },
  {
   "cell_type": "markdown",
   "metadata": {},
   "source": [
    "Number of duplicated rows"
   ]
  },
  {
   "cell_type": "code",
   "execution_count": 9,
   "metadata": {},
   "outputs": [
    {
     "data": {
      "text/plain": [
       "0"
      ]
     },
     "execution_count": 9,
     "metadata": {},
     "output_type": "execute_result"
    }
   ],
   "source": [
    "df1.duplicated().sum()"
   ]
  },
  {
   "cell_type": "markdown",
   "metadata": {},
   "source": [
    "### 3. Data overview (2nd data set)"
   ]
  },
  {
   "cell_type": "code",
   "execution_count": 10,
   "metadata": {},
   "outputs": [
    {
     "data": {
      "text/html": [
       "<div>\n",
       "<style scoped>\n",
       "    .dataframe tbody tr th:only-of-type {\n",
       "        vertical-align: middle;\n",
       "    }\n",
       "\n",
       "    .dataframe tbody tr th {\n",
       "        vertical-align: top;\n",
       "    }\n",
       "\n",
       "    .dataframe thead th {\n",
       "        text-align: right;\n",
       "    }\n",
       "</style>\n",
       "<table border=\"1\" class=\"dataframe\">\n",
       "  <thead>\n",
       "    <tr style=\"text-align: right;\">\n",
       "      <th></th>\n",
       "      <th>DATE_OF_EVENT</th>\n",
       "      <th>EVENT_ID</th>\n",
       "      <th>USER_ID</th>\n",
       "      <th>WAY_ID</th>\n",
       "      <th>CAMPAIGN_ID</th>\n",
       "      <th>PLACEMENT_ID</th>\n",
       "      <th>INT_CAMPAIGN_ID</th>\n",
       "      <th>MEDIUM_ID</th>\n",
       "      <th>PRODUCT_ID</th>\n",
       "      <th>REG_TRIG</th>\n",
       "      <th>PMNT_TRIG</th>\n",
       "    </tr>\n",
       "  </thead>\n",
       "  <tbody>\n",
       "    <tr>\n",
       "      <td>0</td>\n",
       "      <td>2017-05-09</td>\n",
       "      <td>b93bd4e6a8aed200b84fb79c8ecf8a90d9449570</td>\n",
       "      <td>07e7283dc09c5808781780aa91168a429ddc8725</td>\n",
       "      <td>c</td>\n",
       "      <td>wh3um</td>\n",
       "      <td>Qt1</td>\n",
       "      <td>g7162bar</td>\n",
       "      <td>20429</td>\n",
       "      <td>NaN</td>\n",
       "      <td>0</td>\n",
       "      <td>0</td>\n",
       "    </tr>\n",
       "    <tr>\n",
       "      <td>1</td>\n",
       "      <td>2017-05-09</td>\n",
       "      <td>b93c645329d984b1cfb31446c18fc622a00f7b3b</td>\n",
       "      <td>a00499d242a6b02d49bf8b5e62543d5fbbc5ace2</td>\n",
       "      <td>a</td>\n",
       "      <td>ex13p1p</td>\n",
       "      <td>16051115</td>\n",
       "      <td>g6746yar</td>\n",
       "      <td>19769</td>\n",
       "      <td>NaN</td>\n",
       "      <td>0</td>\n",
       "      <td>0</td>\n",
       "    </tr>\n",
       "    <tr>\n",
       "      <td>2</td>\n",
       "      <td>2017-05-09</td>\n",
       "      <td>b93cb5f70f072ef7ac71611e601b55cfbb2dca19</td>\n",
       "      <td>44b7c7f1a29e01fcb79f1d60f1d0791722c5ad7e</td>\n",
       "      <td>a</td>\n",
       "      <td>tE4</td>\n",
       "      <td>Ing_4t_617</td>\n",
       "      <td>g2224pod</td>\n",
       "      <td>19254</td>\n",
       "      <td>NaN</td>\n",
       "      <td>0</td>\n",
       "      <td>0</td>\n",
       "    </tr>\n",
       "    <tr>\n",
       "      <td>3</td>\n",
       "      <td>2017-05-09</td>\n",
       "      <td>b93d0b4a241fb7ab80fbcc8e225d17afd7e85d04</td>\n",
       "      <td>6711bd2b41fc2547a9ef4c9d84f9dc25f4e15425</td>\n",
       "      <td>c</td>\n",
       "      <td>wh3um</td>\n",
       "      <td>Qt1</td>\n",
       "      <td>g7162bar</td>\n",
       "      <td>20429</td>\n",
       "      <td>iwntR0c064563003011e789f9984be1741384_3ed0b1ea...</td>\n",
       "      <td>0</td>\n",
       "      <td>0</td>\n",
       "    </tr>\n",
       "    <tr>\n",
       "      <td>4</td>\n",
       "      <td>2017-05-09</td>\n",
       "      <td>b93d1d747255452f2abb41966aedb09c5d009432</td>\n",
       "      <td>33c58ae6a7765aa85f22542aeef07b552b53d0d0</td>\n",
       "      <td>c</td>\n",
       "      <td>wh3um</td>\n",
       "      <td>Qt1</td>\n",
       "      <td>g7162bar</td>\n",
       "      <td>20670</td>\n",
       "      <td>NaN</td>\n",
       "      <td>0</td>\n",
       "      <td>0</td>\n",
       "    </tr>\n",
       "  </tbody>\n",
       "</table>\n",
       "</div>"
      ],
      "text/plain": [
       "  DATE_OF_EVENT                                  EVENT_ID  \\\n",
       "0    2017-05-09  b93bd4e6a8aed200b84fb79c8ecf8a90d9449570   \n",
       "1    2017-05-09  b93c645329d984b1cfb31446c18fc622a00f7b3b   \n",
       "2    2017-05-09  b93cb5f70f072ef7ac71611e601b55cfbb2dca19   \n",
       "3    2017-05-09  b93d0b4a241fb7ab80fbcc8e225d17afd7e85d04   \n",
       "4    2017-05-09  b93d1d747255452f2abb41966aedb09c5d009432   \n",
       "\n",
       "                                    USER_ID WAY_ID CAMPAIGN_ID PLACEMENT_ID  \\\n",
       "0  07e7283dc09c5808781780aa91168a429ddc8725      c       wh3um          Qt1   \n",
       "1  a00499d242a6b02d49bf8b5e62543d5fbbc5ace2      a     ex13p1p     16051115   \n",
       "2  44b7c7f1a29e01fcb79f1d60f1d0791722c5ad7e      a         tE4   Ing_4t_617   \n",
       "3  6711bd2b41fc2547a9ef4c9d84f9dc25f4e15425      c       wh3um          Qt1   \n",
       "4  33c58ae6a7765aa85f22542aeef07b552b53d0d0      c       wh3um          Qt1   \n",
       "\n",
       "  INT_CAMPAIGN_ID MEDIUM_ID  \\\n",
       "0        g7162bar     20429   \n",
       "1        g6746yar     19769   \n",
       "2        g2224pod     19254   \n",
       "3        g7162bar     20429   \n",
       "4        g7162bar     20670   \n",
       "\n",
       "                                          PRODUCT_ID  REG_TRIG  PMNT_TRIG  \n",
       "0                                                NaN         0          0  \n",
       "1                                                NaN         0          0  \n",
       "2                                                NaN         0          0  \n",
       "3  iwntR0c064563003011e789f9984be1741384_3ed0b1ea...         0          0  \n",
       "4                                                NaN         0          0  "
      ]
     },
     "execution_count": 10,
     "metadata": {},
     "output_type": "execute_result"
    }
   ],
   "source": [
    "df2 = pd.read_csv(\"2.csv\")\n",
    "df2.head()"
   ]
  },
  {
   "cell_type": "code",
   "execution_count": 11,
   "metadata": {},
   "outputs": [
    {
     "data": {
      "text/plain": [
       "(5070036, 11)"
      ]
     },
     "execution_count": 11,
     "metadata": {},
     "output_type": "execute_result"
    }
   ],
   "source": [
    "df2.shape"
   ]
  },
  {
   "cell_type": "code",
   "execution_count": 12,
   "metadata": {},
   "outputs": [
    {
     "name": "stdout",
     "output_type": "stream",
     "text": [
      "<class 'pandas.core.frame.DataFrame'>\n",
      "RangeIndex: 5070036 entries, 0 to 5070035\n",
      "Data columns (total 11 columns):\n",
      "DATE_OF_EVENT      object\n",
      "EVENT_ID           object\n",
      "USER_ID            object\n",
      "WAY_ID             object\n",
      "CAMPAIGN_ID        object\n",
      "PLACEMENT_ID       object\n",
      "INT_CAMPAIGN_ID    object\n",
      "MEDIUM_ID          object\n",
      "PRODUCT_ID         object\n",
      "REG_TRIG           int64\n",
      "PMNT_TRIG          int64\n",
      "dtypes: int64(2), object(9)\n",
      "memory usage: 425.5+ MB\n"
     ]
    }
   ],
   "source": [
    "df2.info()"
   ]
  },
  {
   "cell_type": "markdown",
   "metadata": {},
   "source": [
    "### 4. Check & Clean Duplicated Data (2nd data set)"
   ]
  },
  {
   "cell_type": "markdown",
   "metadata": {},
   "source": [
    "The next step is checking if there are duplicate values in the data set."
   ]
  },
  {
   "cell_type": "code",
   "execution_count": 13,
   "metadata": {},
   "outputs": [
    {
     "data": {
      "text/plain": [
       "DATE_OF_EVENT            7\n",
       "EVENT_ID           5070036\n",
       "USER_ID            3861336\n",
       "WAY_ID                   6\n",
       "CAMPAIGN_ID             67\n",
       "PLACEMENT_ID          4224\n",
       "INT_CAMPAIGN_ID        509\n",
       "MEDIUM_ID              355\n",
       "PRODUCT_ID            1054\n",
       "REG_TRIG                 2\n",
       "PMNT_TRIG                2\n",
       "dtype: int64"
      ]
     },
     "execution_count": 13,
     "metadata": {},
     "output_type": "execute_result"
    }
   ],
   "source": [
    "df2.nunique()"
   ]
  },
  {
   "cell_type": "code",
   "execution_count": 14,
   "metadata": {},
   "outputs": [
    {
     "data": {
      "text/plain": [
       "0"
      ]
     },
     "execution_count": 14,
     "metadata": {},
     "output_type": "execute_result"
    }
   ],
   "source": [
    "df2.duplicated().sum()"
   ]
  },
  {
   "cell_type": "markdown",
   "metadata": {},
   "source": [
    "No duplicates."
   ]
  },
  {
   "cell_type": "code",
   "execution_count": 15,
   "metadata": {},
   "outputs": [
    {
     "name": "stdout",
     "output_type": "stream",
     "text": [
      "(5791635, 11)\n",
      "(5070036, 11)\n"
     ]
    }
   ],
   "source": [
    "print(df1.shape)\n",
    "print(df2.shape)"
   ]
  },
  {
   "cell_type": "code",
   "execution_count": 16,
   "metadata": {},
   "outputs": [
    {
     "data": {
      "text/plain": [
       "(10861671, 11)"
      ]
     },
     "execution_count": 16,
     "metadata": {},
     "output_type": "execute_result"
    }
   ],
   "source": [
    "df = df1.append(df2)\n",
    "df.shape"
   ]
  },
  {
   "cell_type": "code",
   "execution_count": 17,
   "metadata": {},
   "outputs": [
    {
     "data": {
      "text/plain": [
       "0"
      ]
     },
     "execution_count": 17,
     "metadata": {},
     "output_type": "execute_result"
    }
   ],
   "source": [
    "df.duplicated().sum()"
   ]
  },
  {
   "cell_type": "markdown",
   "metadata": {},
   "source": [
    "### 5. Check Missing Data"
   ]
  },
  {
   "cell_type": "markdown",
   "metadata": {},
   "source": [
    "The next step will be checking missing values."
   ]
  },
  {
   "cell_type": "code",
   "execution_count": 18,
   "metadata": {},
   "outputs": [
    {
     "data": {
      "text/plain": [
       "DATE_OF_EVENT             0\n",
       "EVENT_ID                  0\n",
       "USER_ID                   0\n",
       "WAY_ID                    0\n",
       "CAMPAIGN_ID              20\n",
       "PLACEMENT_ID            477\n",
       "INT_CAMPAIGN_ID           0\n",
       "MEDIUM_ID             17855\n",
       "PRODUCT_ID         10030525\n",
       "REG_TRIG                  0\n",
       "PMNT_TRIG                 0\n",
       "dtype: int64"
      ]
     },
     "execution_count": 18,
     "metadata": {},
     "output_type": "execute_result"
    }
   ],
   "source": [
    "df.isnull().sum()"
   ]
  },
  {
   "cell_type": "markdown",
   "metadata": {},
   "source": [
    "The big number of missing values was detected in **'PRODUCT_ID'** column. **'CAMPAIGN_ID'**, **'PLACEMENT_ID'**, **'MEDIUM_ID'** also have missing values."
   ]
  },
  {
   "cell_type": "markdown",
   "metadata": {},
   "source": [
    "**'CAMPAIGN_ID'** has 20 missing values and can be explored first"
   ]
  },
  {
   "cell_type": "code",
   "execution_count": 19,
   "metadata": {},
   "outputs": [
    {
     "data": {
      "text/plain": [
       "DATE_OF_EVENT            15\n",
       "EVENT_ID           10861671\n",
       "USER_ID             7914413\n",
       "WAY_ID                    6\n",
       "CAMPAIGN_ID              76\n",
       "PLACEMENT_ID           5559\n",
       "INT_CAMPAIGN_ID         607\n",
       "MEDIUM_ID               391\n",
       "PRODUCT_ID             1400\n",
       "REG_TRIG                  2\n",
       "PMNT_TRIG                 2\n",
       "dtype: int64"
      ]
     },
     "execution_count": 19,
     "metadata": {},
     "output_type": "execute_result"
    }
   ],
   "source": [
    "df.nunique()"
   ]
  },
  {
   "cell_type": "markdown",
   "metadata": {},
   "source": [
    "Observe the Dataframe **'CAMPAIGN_ID'** missing values."
   ]
  },
  {
   "cell_type": "code",
   "execution_count": 20,
   "metadata": {
    "scrolled": true
   },
   "outputs": [
    {
     "data": {
      "text/html": [
       "<div>\n",
       "<style scoped>\n",
       "    .dataframe tbody tr th:only-of-type {\n",
       "        vertical-align: middle;\n",
       "    }\n",
       "\n",
       "    .dataframe tbody tr th {\n",
       "        vertical-align: top;\n",
       "    }\n",
       "\n",
       "    .dataframe thead th {\n",
       "        text-align: right;\n",
       "    }\n",
       "</style>\n",
       "<table border=\"1\" class=\"dataframe\">\n",
       "  <thead>\n",
       "    <tr style=\"text-align: right;\">\n",
       "      <th></th>\n",
       "      <th>DATE_OF_EVENT</th>\n",
       "      <th>EVENT_ID</th>\n",
       "      <th>USER_ID</th>\n",
       "      <th>WAY_ID</th>\n",
       "      <th>CAMPAIGN_ID</th>\n",
       "      <th>PLACEMENT_ID</th>\n",
       "      <th>INT_CAMPAIGN_ID</th>\n",
       "      <th>MEDIUM_ID</th>\n",
       "      <th>PRODUCT_ID</th>\n",
       "      <th>REG_TRIG</th>\n",
       "      <th>PMNT_TRIG</th>\n",
       "    </tr>\n",
       "  </thead>\n",
       "  <tbody>\n",
       "    <tr>\n",
       "      <td>538131</td>\n",
       "      <td>2017-05-05</td>\n",
       "      <td>e2379bafcf557f64722b7d43ef3bc4c3a9f27083</td>\n",
       "      <td>ffd1461bcec93a50fda1109b0c63cb90a669e113</td>\n",
       "      <td>a</td>\n",
       "      <td>NaN</td>\n",
       "      <td>NaN</td>\n",
       "      <td>g4199moc</td>\n",
       "      <td>19242</td>\n",
       "      <td>NaN</td>\n",
       "      <td>0</td>\n",
       "      <td>0</td>\n",
       "    </tr>\n",
       "    <tr>\n",
       "      <td>1329614</td>\n",
       "      <td>2017-05-12</td>\n",
       "      <td>f3b23073c56653b1949cb0612752d8b5f46bb79b</td>\n",
       "      <td>1383132e5443aa126c6eb6ceb2149c4cbba662aa</td>\n",
       "      <td>a</td>\n",
       "      <td>NaN</td>\n",
       "      <td>NaN</td>\n",
       "      <td>g7255shm</td>\n",
       "      <td>20737</td>\n",
       "      <td>bnR28f8d4adff5a11e689f9984be1741384_3c09509e33...</td>\n",
       "      <td>1</td>\n",
       "      <td>0</td>\n",
       "    </tr>\n",
       "    <tr>\n",
       "      <td>1347716</td>\n",
       "      <td>2017-05-12</td>\n",
       "      <td>06a04c72e97f6dbf4eb8ff14de4d0183a2d76f02</td>\n",
       "      <td>dcf223455876739ea9bc1d30661297e28f21cb03</td>\n",
       "      <td>a</td>\n",
       "      <td>NaN</td>\n",
       "      <td>NaN</td>\n",
       "      <td>g3692shm</td>\n",
       "      <td>20621</td>\n",
       "      <td>fatfR3588bd0995d711e69bf5984be1741384_3ed0b2c6...</td>\n",
       "      <td>1</td>\n",
       "      <td>0</td>\n",
       "    </tr>\n",
       "    <tr>\n",
       "      <td>1362581</td>\n",
       "      <td>2017-05-12</td>\n",
       "      <td>08bccc705657a19e1e43cf83b62828e045e23cdd</td>\n",
       "      <td>2b84b35b138f37f7d708711592be31710ebd1ff7</td>\n",
       "      <td>a</td>\n",
       "      <td>NaN</td>\n",
       "      <td>NaN</td>\n",
       "      <td>g3692shm</td>\n",
       "      <td>20621</td>\n",
       "      <td>fatfR3588bd0995d711e69bf5984be1741384_3ed0b2c6...</td>\n",
       "      <td>1</td>\n",
       "      <td>0</td>\n",
       "    </tr>\n",
       "    <tr>\n",
       "      <td>1625991</td>\n",
       "      <td>2017-05-12</td>\n",
       "      <td>1248ed0ccbdf50cf117c178d3f4430266e742c11</td>\n",
       "      <td>cf2301cf5dcfb6d22312e23aec8f7053ae513e1c</td>\n",
       "      <td>a</td>\n",
       "      <td>NaN</td>\n",
       "      <td>NaN</td>\n",
       "      <td>g7255shm</td>\n",
       "      <td>20737</td>\n",
       "      <td>bnRcd533c5cff5e11e689f9984be1741384_3c09509e33...</td>\n",
       "      <td>1</td>\n",
       "      <td>0</td>\n",
       "    </tr>\n",
       "    <tr>\n",
       "      <td>1644581</td>\n",
       "      <td>2017-05-12</td>\n",
       "      <td>29231acff7b0123df41fe1343341ce916b249793</td>\n",
       "      <td>113236a25dc32204ae5a14a86ed1c42abb0d1ca5</td>\n",
       "      <td>a</td>\n",
       "      <td>NaN</td>\n",
       "      <td>NaN</td>\n",
       "      <td>g3692shm</td>\n",
       "      <td>20621</td>\n",
       "      <td>fatfR3588bd0995d711e69bf5984be1741384_3ed0b2c6...</td>\n",
       "      <td>0</td>\n",
       "      <td>0</td>\n",
       "    </tr>\n",
       "    <tr>\n",
       "      <td>1833542</td>\n",
       "      <td>2017-05-12</td>\n",
       "      <td>40b57ea7e911ea4405773720ad01084430d0267f</td>\n",
       "      <td>3bf68c38a56ae7f07b03b16ecbe751458a5a2a03</td>\n",
       "      <td>a</td>\n",
       "      <td>NaN</td>\n",
       "      <td>NaN</td>\n",
       "      <td>g3692shm</td>\n",
       "      <td>20621</td>\n",
       "      <td>fatfR3588bd0995d711e69bf5984be1741384_3ed0b2c6...</td>\n",
       "      <td>1</td>\n",
       "      <td>0</td>\n",
       "    </tr>\n",
       "    <tr>\n",
       "      <td>1893936</td>\n",
       "      <td>2017-05-12</td>\n",
       "      <td>30cd5a5b2a391095ba2186d3b4b38025768668b7</td>\n",
       "      <td>662744afb217c7a9d45e81c0447cd1f9501ad3e0</td>\n",
       "      <td>a</td>\n",
       "      <td>NaN</td>\n",
       "      <td>NaN</td>\n",
       "      <td>g3715shm</td>\n",
       "      <td>19791</td>\n",
       "      <td>sebpR85b86230c68c11e69bf5984be1741384_096e2bd2...</td>\n",
       "      <td>1</td>\n",
       "      <td>0</td>\n",
       "    </tr>\n",
       "    <tr>\n",
       "      <td>2110119</td>\n",
       "      <td>2017-05-12</td>\n",
       "      <td>62b4065e8d72a719a80e0fe375699a71bfb407dc</td>\n",
       "      <td>0223b14b7c244c09df763fa5c191253f7d1412f8</td>\n",
       "      <td>a</td>\n",
       "      <td>NaN</td>\n",
       "      <td>NaN</td>\n",
       "      <td>g7255shm</td>\n",
       "      <td>20737</td>\n",
       "      <td>bnR28f8d4adff5a11e689f9984be1741384_3c09509e33...</td>\n",
       "      <td>0</td>\n",
       "      <td>0</td>\n",
       "    </tr>\n",
       "    <tr>\n",
       "      <td>2250103</td>\n",
       "      <td>2017-05-12</td>\n",
       "      <td>75be7030614629bbd0514ad50d29f59ff36096f9</td>\n",
       "      <td>0a184f0cd6783d2d1ad28fc8433d3385ac0025e1</td>\n",
       "      <td>a</td>\n",
       "      <td>NaN</td>\n",
       "      <td>NaN</td>\n",
       "      <td>g3715shm</td>\n",
       "      <td>19791</td>\n",
       "      <td>sebpR85b86230c68c11e69bf5984be1741384_096e2bd2...</td>\n",
       "      <td>0</td>\n",
       "      <td>0</td>\n",
       "    </tr>\n",
       "    <tr>\n",
       "      <td>2429091</td>\n",
       "      <td>2017-05-12</td>\n",
       "      <td>8dbf783ece66c42fae9fcdc3accfb45a47092230</td>\n",
       "      <td>6da4b9cae6b3f7890afb2ef3a67eb60e73c74422</td>\n",
       "      <td>a</td>\n",
       "      <td>NaN</td>\n",
       "      <td>NaN</td>\n",
       "      <td>g3715shm</td>\n",
       "      <td>19791</td>\n",
       "      <td>sebpR85b86230c68c11e69bf5984be1741384_096e2bd2...</td>\n",
       "      <td>1</td>\n",
       "      <td>0</td>\n",
       "    </tr>\n",
       "    <tr>\n",
       "      <td>2528067</td>\n",
       "      <td>2017-05-12</td>\n",
       "      <td>9ae20bf7b378c4bfeb8b65af64522cb843344e9d</td>\n",
       "      <td>2f5159c625625a197c9dc83c5ba6a63ff14e2845</td>\n",
       "      <td>a</td>\n",
       "      <td>NaN</td>\n",
       "      <td>NaN</td>\n",
       "      <td>g3715shm</td>\n",
       "      <td>19791</td>\n",
       "      <td>sebpR85b86230c68c11e69bf5984be1741384_096e2bd2...</td>\n",
       "      <td>1</td>\n",
       "      <td>0</td>\n",
       "    </tr>\n",
       "    <tr>\n",
       "      <td>2570223</td>\n",
       "      <td>2017-05-12</td>\n",
       "      <td>a07cc20ed1f379dbc3d62498240ec0ab94b68a0e</td>\n",
       "      <td>f30697c586d289a771a053940d5954a24cacd00e</td>\n",
       "      <td>a</td>\n",
       "      <td>NaN</td>\n",
       "      <td>NaN</td>\n",
       "      <td>g3715shm</td>\n",
       "      <td>19791</td>\n",
       "      <td>sebpR85b86230c68c11e69bf5984be1741384_096e2bd2...</td>\n",
       "      <td>0</td>\n",
       "      <td>0</td>\n",
       "    </tr>\n",
       "    <tr>\n",
       "      <td>2577397</td>\n",
       "      <td>2017-05-12</td>\n",
       "      <td>a1be907f381e8968a6ef41feede8fc573e48a7ac</td>\n",
       "      <td>870350a470230f905163f528820929c7b525ef61</td>\n",
       "      <td>a</td>\n",
       "      <td>NaN</td>\n",
       "      <td>NaN</td>\n",
       "      <td>g7255shm</td>\n",
       "      <td>20737</td>\n",
       "      <td>bnRcd533c5cff5e11e689f9984be1741384_3c09509e33...</td>\n",
       "      <td>0</td>\n",
       "      <td>0</td>\n",
       "    </tr>\n",
       "    <tr>\n",
       "      <td>2591913</td>\n",
       "      <td>2017-05-12</td>\n",
       "      <td>39c166bf6e1bfd1e470a8a423ccbcb98c183ef24</td>\n",
       "      <td>2e271632354cf706083e734d19492b5d6405cfc8</td>\n",
       "      <td>a</td>\n",
       "      <td>NaN</td>\n",
       "      <td>NaN</td>\n",
       "      <td>g7255shm</td>\n",
       "      <td>20737</td>\n",
       "      <td>bnR28f8d4adff5a11e689f9984be1741384_3c09509e33...</td>\n",
       "      <td>1</td>\n",
       "      <td>0</td>\n",
       "    </tr>\n",
       "    <tr>\n",
       "      <td>2732295</td>\n",
       "      <td>2017-05-12</td>\n",
       "      <td>b4aecd29d46ad5277a71a29d0da486f29ca8e7c6</td>\n",
       "      <td>2cc816adc13b741b5a45081c0652897805479f1d</td>\n",
       "      <td>a</td>\n",
       "      <td>NaN</td>\n",
       "      <td>NaN</td>\n",
       "      <td>g7255shm</td>\n",
       "      <td>20756</td>\n",
       "      <td>bnR28f8d4adff5a11e689f9984be1741384_3c09509e33...</td>\n",
       "      <td>1</td>\n",
       "      <td>0</td>\n",
       "    </tr>\n",
       "    <tr>\n",
       "      <td>2862244</td>\n",
       "      <td>2017-05-12</td>\n",
       "      <td>c5ce411f9343bdd055eac2f0d3dfec3f8074a063</td>\n",
       "      <td>34623ecdbc7003fc26a7412f37c47cab3bc64144</td>\n",
       "      <td>a</td>\n",
       "      <td>NaN</td>\n",
       "      <td>NaN</td>\n",
       "      <td>g3692shm</td>\n",
       "      <td>20622</td>\n",
       "      <td>fatfR3588bd0995d711e69bf5984be1741384_3ed0b2c6...</td>\n",
       "      <td>0</td>\n",
       "      <td>0</td>\n",
       "    </tr>\n",
       "    <tr>\n",
       "      <td>3657526</td>\n",
       "      <td>2017-05-12</td>\n",
       "      <td>941276133de8c09a98f83be71ced82dc03cf2419</td>\n",
       "      <td>d6fbe1e4dac289b4814fa7475220227e8fa49138</td>\n",
       "      <td>a</td>\n",
       "      <td>NaN</td>\n",
       "      <td>NaN</td>\n",
       "      <td>g3715shm</td>\n",
       "      <td>19791</td>\n",
       "      <td>NaN</td>\n",
       "      <td>0</td>\n",
       "      <td>0</td>\n",
       "    </tr>\n",
       "    <tr>\n",
       "      <td>3743572</td>\n",
       "      <td>2017-05-12</td>\n",
       "      <td>026fa8b703a9c1a1b9f51b05fb9f36ee09c1bd95</td>\n",
       "      <td>b0e49d0fb103727ea4a78adb773a04790c76f8ef</td>\n",
       "      <td>a</td>\n",
       "      <td>NaN</td>\n",
       "      <td>NaN</td>\n",
       "      <td>g3692shm</td>\n",
       "      <td>20621</td>\n",
       "      <td>fatfR3588bd0995d711e69bf5984be1741384_3ed0b2c6...</td>\n",
       "      <td>1</td>\n",
       "      <td>0</td>\n",
       "    </tr>\n",
       "    <tr>\n",
       "      <td>4239997</td>\n",
       "      <td>2017-05-12</td>\n",
       "      <td>c6cb320c81b207cfea7f8029273aba023d42681f</td>\n",
       "      <td>4134d7d918b9af9c1ccbe31bb7e34904c3eaa31c</td>\n",
       "      <td>a</td>\n",
       "      <td>NaN</td>\n",
       "      <td>NaN</td>\n",
       "      <td>g3692shm</td>\n",
       "      <td>20621</td>\n",
       "      <td>fatfR3588bd0995d711e69bf5984be1741384_3ed0b2c6...</td>\n",
       "      <td>0</td>\n",
       "      <td>0</td>\n",
       "    </tr>\n",
       "  </tbody>\n",
       "</table>\n",
       "</div>"
      ],
      "text/plain": [
       "        DATE_OF_EVENT                                  EVENT_ID  \\\n",
       "538131     2017-05-05  e2379bafcf557f64722b7d43ef3bc4c3a9f27083   \n",
       "1329614    2017-05-12  f3b23073c56653b1949cb0612752d8b5f46bb79b   \n",
       "1347716    2017-05-12  06a04c72e97f6dbf4eb8ff14de4d0183a2d76f02   \n",
       "1362581    2017-05-12  08bccc705657a19e1e43cf83b62828e045e23cdd   \n",
       "1625991    2017-05-12  1248ed0ccbdf50cf117c178d3f4430266e742c11   \n",
       "1644581    2017-05-12  29231acff7b0123df41fe1343341ce916b249793   \n",
       "1833542    2017-05-12  40b57ea7e911ea4405773720ad01084430d0267f   \n",
       "1893936    2017-05-12  30cd5a5b2a391095ba2186d3b4b38025768668b7   \n",
       "2110119    2017-05-12  62b4065e8d72a719a80e0fe375699a71bfb407dc   \n",
       "2250103    2017-05-12  75be7030614629bbd0514ad50d29f59ff36096f9   \n",
       "2429091    2017-05-12  8dbf783ece66c42fae9fcdc3accfb45a47092230   \n",
       "2528067    2017-05-12  9ae20bf7b378c4bfeb8b65af64522cb843344e9d   \n",
       "2570223    2017-05-12  a07cc20ed1f379dbc3d62498240ec0ab94b68a0e   \n",
       "2577397    2017-05-12  a1be907f381e8968a6ef41feede8fc573e48a7ac   \n",
       "2591913    2017-05-12  39c166bf6e1bfd1e470a8a423ccbcb98c183ef24   \n",
       "2732295    2017-05-12  b4aecd29d46ad5277a71a29d0da486f29ca8e7c6   \n",
       "2862244    2017-05-12  c5ce411f9343bdd055eac2f0d3dfec3f8074a063   \n",
       "3657526    2017-05-12  941276133de8c09a98f83be71ced82dc03cf2419   \n",
       "3743572    2017-05-12  026fa8b703a9c1a1b9f51b05fb9f36ee09c1bd95   \n",
       "4239997    2017-05-12  c6cb320c81b207cfea7f8029273aba023d42681f   \n",
       "\n",
       "                                          USER_ID WAY_ID CAMPAIGN_ID  \\\n",
       "538131   ffd1461bcec93a50fda1109b0c63cb90a669e113      a         NaN   \n",
       "1329614  1383132e5443aa126c6eb6ceb2149c4cbba662aa      a         NaN   \n",
       "1347716  dcf223455876739ea9bc1d30661297e28f21cb03      a         NaN   \n",
       "1362581  2b84b35b138f37f7d708711592be31710ebd1ff7      a         NaN   \n",
       "1625991  cf2301cf5dcfb6d22312e23aec8f7053ae513e1c      a         NaN   \n",
       "1644581  113236a25dc32204ae5a14a86ed1c42abb0d1ca5      a         NaN   \n",
       "1833542  3bf68c38a56ae7f07b03b16ecbe751458a5a2a03      a         NaN   \n",
       "1893936  662744afb217c7a9d45e81c0447cd1f9501ad3e0      a         NaN   \n",
       "2110119  0223b14b7c244c09df763fa5c191253f7d1412f8      a         NaN   \n",
       "2250103  0a184f0cd6783d2d1ad28fc8433d3385ac0025e1      a         NaN   \n",
       "2429091  6da4b9cae6b3f7890afb2ef3a67eb60e73c74422      a         NaN   \n",
       "2528067  2f5159c625625a197c9dc83c5ba6a63ff14e2845      a         NaN   \n",
       "2570223  f30697c586d289a771a053940d5954a24cacd00e      a         NaN   \n",
       "2577397  870350a470230f905163f528820929c7b525ef61      a         NaN   \n",
       "2591913  2e271632354cf706083e734d19492b5d6405cfc8      a         NaN   \n",
       "2732295  2cc816adc13b741b5a45081c0652897805479f1d      a         NaN   \n",
       "2862244  34623ecdbc7003fc26a7412f37c47cab3bc64144      a         NaN   \n",
       "3657526  d6fbe1e4dac289b4814fa7475220227e8fa49138      a         NaN   \n",
       "3743572  b0e49d0fb103727ea4a78adb773a04790c76f8ef      a         NaN   \n",
       "4239997  4134d7d918b9af9c1ccbe31bb7e34904c3eaa31c      a         NaN   \n",
       "\n",
       "        PLACEMENT_ID INT_CAMPAIGN_ID MEDIUM_ID  \\\n",
       "538131           NaN        g4199moc     19242   \n",
       "1329614          NaN        g7255shm     20737   \n",
       "1347716          NaN        g3692shm     20621   \n",
       "1362581          NaN        g3692shm     20621   \n",
       "1625991          NaN        g7255shm     20737   \n",
       "1644581          NaN        g3692shm     20621   \n",
       "1833542          NaN        g3692shm     20621   \n",
       "1893936          NaN        g3715shm     19791   \n",
       "2110119          NaN        g7255shm     20737   \n",
       "2250103          NaN        g3715shm     19791   \n",
       "2429091          NaN        g3715shm     19791   \n",
       "2528067          NaN        g3715shm     19791   \n",
       "2570223          NaN        g3715shm     19791   \n",
       "2577397          NaN        g7255shm     20737   \n",
       "2591913          NaN        g7255shm     20737   \n",
       "2732295          NaN        g7255shm     20756   \n",
       "2862244          NaN        g3692shm     20622   \n",
       "3657526          NaN        g3715shm     19791   \n",
       "3743572          NaN        g3692shm     20621   \n",
       "4239997          NaN        g3692shm     20621   \n",
       "\n",
       "                                                PRODUCT_ID  REG_TRIG  \\\n",
       "538131                                                 NaN         0   \n",
       "1329614  bnR28f8d4adff5a11e689f9984be1741384_3c09509e33...         1   \n",
       "1347716  fatfR3588bd0995d711e69bf5984be1741384_3ed0b2c6...         1   \n",
       "1362581  fatfR3588bd0995d711e69bf5984be1741384_3ed0b2c6...         1   \n",
       "1625991  bnRcd533c5cff5e11e689f9984be1741384_3c09509e33...         1   \n",
       "1644581  fatfR3588bd0995d711e69bf5984be1741384_3ed0b2c6...         0   \n",
       "1833542  fatfR3588bd0995d711e69bf5984be1741384_3ed0b2c6...         1   \n",
       "1893936  sebpR85b86230c68c11e69bf5984be1741384_096e2bd2...         1   \n",
       "2110119  bnR28f8d4adff5a11e689f9984be1741384_3c09509e33...         0   \n",
       "2250103  sebpR85b86230c68c11e69bf5984be1741384_096e2bd2...         0   \n",
       "2429091  sebpR85b86230c68c11e69bf5984be1741384_096e2bd2...         1   \n",
       "2528067  sebpR85b86230c68c11e69bf5984be1741384_096e2bd2...         1   \n",
       "2570223  sebpR85b86230c68c11e69bf5984be1741384_096e2bd2...         0   \n",
       "2577397  bnRcd533c5cff5e11e689f9984be1741384_3c09509e33...         0   \n",
       "2591913  bnR28f8d4adff5a11e689f9984be1741384_3c09509e33...         1   \n",
       "2732295  bnR28f8d4adff5a11e689f9984be1741384_3c09509e33...         1   \n",
       "2862244  fatfR3588bd0995d711e69bf5984be1741384_3ed0b2c6...         0   \n",
       "3657526                                                NaN         0   \n",
       "3743572  fatfR3588bd0995d711e69bf5984be1741384_3ed0b2c6...         1   \n",
       "4239997  fatfR3588bd0995d711e69bf5984be1741384_3ed0b2c6...         0   \n",
       "\n",
       "         PMNT_TRIG  \n",
       "538131           0  \n",
       "1329614          0  \n",
       "1347716          0  \n",
       "1362581          0  \n",
       "1625991          0  \n",
       "1644581          0  \n",
       "1833542          0  \n",
       "1893936          0  \n",
       "2110119          0  \n",
       "2250103          0  \n",
       "2429091          0  \n",
       "2528067          0  \n",
       "2570223          0  \n",
       "2577397          0  \n",
       "2591913          0  \n",
       "2732295          0  \n",
       "2862244          0  \n",
       "3657526          0  \n",
       "3743572          0  \n",
       "4239997          0  "
      ]
     },
     "execution_count": 20,
     "metadata": {},
     "output_type": "execute_result"
    }
   ],
   "source": [
    "CAMPAIGN_ID_NAN = df[df['CAMPAIGN_ID'].isnull()]\n",
    "CAMPAIGN_ID_NAN"
   ]
  },
  {
   "cell_type": "markdown",
   "metadata": {},
   "source": [
    "We may fill missing values in **'CAMPAIGN_ID'** by exploring **'INT_CAMPAIGN_ID'**."
   ]
  },
  {
   "cell_type": "code",
   "execution_count": 21,
   "metadata": {},
   "outputs": [
    {
     "data": {
      "text/plain": [
       "4"
      ]
     },
     "execution_count": 21,
     "metadata": {},
     "output_type": "execute_result"
    }
   ],
   "source": [
    "CAMPAIGN_ID_NAN['INT_CAMPAIGN_ID'].nunique()"
   ]
  },
  {
   "cell_type": "markdown",
   "metadata": {},
   "source": [
    "There are 4 different unique values in **'INT_CAMPAIGN_ID'** column."
   ]
  },
  {
   "cell_type": "markdown",
   "metadata": {},
   "source": [
    "Let's analyze the data set where **'INT_CAMPAIGN_ID'** has a certain value (first)."
   ]
  },
  {
   "cell_type": "code",
   "execution_count": 22,
   "metadata": {},
   "outputs": [
    {
     "data": {
      "text/plain": [
       "(26622, 11)"
      ]
     },
     "execution_count": 22,
     "metadata": {},
     "output_type": "execute_result"
    }
   ],
   "source": [
    "g4199moc = df.loc[df['INT_CAMPAIGN_ID'] == 'g4199moc']\n",
    "g4199moc.shape"
   ]
  },
  {
   "cell_type": "markdown",
   "metadata": {},
   "source": [
    "#### 1. g4199moc"
   ]
  },
  {
   "cell_type": "code",
   "execution_count": 23,
   "metadata": {},
   "outputs": [
    {
     "data": {
      "text/html": [
       "<div>\n",
       "<style scoped>\n",
       "    .dataframe tbody tr th:only-of-type {\n",
       "        vertical-align: middle;\n",
       "    }\n",
       "\n",
       "    .dataframe tbody tr th {\n",
       "        vertical-align: top;\n",
       "    }\n",
       "\n",
       "    .dataframe thead th {\n",
       "        text-align: right;\n",
       "    }\n",
       "</style>\n",
       "<table border=\"1\" class=\"dataframe\">\n",
       "  <thead>\n",
       "    <tr style=\"text-align: right;\">\n",
       "      <th></th>\n",
       "      <th>DATE_OF_EVENT</th>\n",
       "      <th>EVENT_ID</th>\n",
       "      <th>USER_ID</th>\n",
       "      <th>WAY_ID</th>\n",
       "      <th>CAMPAIGN_ID</th>\n",
       "      <th>PLACEMENT_ID</th>\n",
       "      <th>INT_CAMPAIGN_ID</th>\n",
       "      <th>MEDIUM_ID</th>\n",
       "      <th>PRODUCT_ID</th>\n",
       "      <th>REG_TRIG</th>\n",
       "      <th>PMNT_TRIG</th>\n",
       "    </tr>\n",
       "  </thead>\n",
       "  <tbody>\n",
       "    <tr>\n",
       "      <td>155</td>\n",
       "      <td>2017-05-05</td>\n",
       "      <td>a212702765b1ec98f3aea79b1dca4d75c2f153c3</td>\n",
       "      <td>dbc8b3c712fa29a9c52f5c6d87f53b37db27e843</td>\n",
       "      <td>a</td>\n",
       "      <td>tE43wb</td>\n",
       "      <td>Ing_bl_4t_198</td>\n",
       "      <td>g4199moc</td>\n",
       "      <td>20363</td>\n",
       "      <td>NaN</td>\n",
       "      <td>0</td>\n",
       "      <td>0</td>\n",
       "    </tr>\n",
       "    <tr>\n",
       "      <td>507</td>\n",
       "      <td>2017-05-08</td>\n",
       "      <td>c77ad8d92c2e85c5dc8f76d80cdcfa8ba03f62f5</td>\n",
       "      <td>f6b07281e1443a62240d308320ade3e31376c215</td>\n",
       "      <td>a</td>\n",
       "      <td>tE43wb</td>\n",
       "      <td>Ing_bl_Qq_29</td>\n",
       "      <td>g4199moc</td>\n",
       "      <td>19693</td>\n",
       "      <td>NaN</td>\n",
       "      <td>0</td>\n",
       "      <td>0</td>\n",
       "    </tr>\n",
       "    <tr>\n",
       "      <td>525</td>\n",
       "      <td>2017-05-05</td>\n",
       "      <td>0002e5b05024da32af6619edc87a527a01148946</td>\n",
       "      <td>afcc0b351d9e0e448220f5b3ea749205dafcb406</td>\n",
       "      <td>a</td>\n",
       "      <td>tE43wb</td>\n",
       "      <td>Ing_bl_4t_251</td>\n",
       "      <td>g4199moc</td>\n",
       "      <td>20363</td>\n",
       "      <td>NaN</td>\n",
       "      <td>0</td>\n",
       "      <td>0</td>\n",
       "    </tr>\n",
       "  </tbody>\n",
       "</table>\n",
       "</div>"
      ],
      "text/plain": [
       "    DATE_OF_EVENT                                  EVENT_ID  \\\n",
       "155    2017-05-05  a212702765b1ec98f3aea79b1dca4d75c2f153c3   \n",
       "507    2017-05-08  c77ad8d92c2e85c5dc8f76d80cdcfa8ba03f62f5   \n",
       "525    2017-05-05  0002e5b05024da32af6619edc87a527a01148946   \n",
       "\n",
       "                                      USER_ID WAY_ID CAMPAIGN_ID  \\\n",
       "155  dbc8b3c712fa29a9c52f5c6d87f53b37db27e843      a      tE43wb   \n",
       "507  f6b07281e1443a62240d308320ade3e31376c215      a      tE43wb   \n",
       "525  afcc0b351d9e0e448220f5b3ea749205dafcb406      a      tE43wb   \n",
       "\n",
       "      PLACEMENT_ID INT_CAMPAIGN_ID MEDIUM_ID PRODUCT_ID  REG_TRIG  PMNT_TRIG  \n",
       "155  Ing_bl_4t_198        g4199moc     20363        NaN         0          0  \n",
       "507   Ing_bl_Qq_29        g4199moc     19693        NaN         0          0  \n",
       "525  Ing_bl_4t_251        g4199moc     20363        NaN         0          0  "
      ]
     },
     "execution_count": 23,
     "metadata": {},
     "output_type": "execute_result"
    }
   ],
   "source": [
    "g4199moc.head(3)"
   ]
  },
  {
   "cell_type": "markdown",
   "metadata": {},
   "source": [
    "Now, I'd like to see, if **'CAMPAIGN_ID'** has only one unique value in this data set, so we can fill NaNs with specific values accordingly."
   ]
  },
  {
   "cell_type": "code",
   "execution_count": 24,
   "metadata": {},
   "outputs": [
    {
     "data": {
      "text/plain": [
       "1"
      ]
     },
     "execution_count": 24,
     "metadata": {},
     "output_type": "execute_result"
    }
   ],
   "source": [
    "g4199moc['CAMPAIGN_ID'].nunique()"
   ]
  },
  {
   "cell_type": "markdown",
   "metadata": {},
   "source": [
    "We already know for sure that we can fill NaNs in **'CAMPAIGN_ID'** with **'tE43wb'** when **'CAMPAIGN_ID'** = **'g4199moc'**."
   ]
  },
  {
   "cell_type": "markdown",
   "metadata": {},
   "source": [
    "#### 2. g7255shm"
   ]
  },
  {
   "cell_type": "markdown",
   "metadata": {},
   "source": [
    "Let's analyze the 2nd of values **'CAMPAIGN_ID'** wich is **'g7255shm'**"
   ]
  },
  {
   "cell_type": "code",
   "execution_count": 25,
   "metadata": {},
   "outputs": [
    {
     "data": {
      "text/plain": [
       "(10219, 11)"
      ]
     },
     "execution_count": 25,
     "metadata": {},
     "output_type": "execute_result"
    }
   ],
   "source": [
    "g7255shm = df.loc[df['INT_CAMPAIGN_ID'] == 'g7255shm']\n",
    "g7255shm.shape"
   ]
  },
  {
   "cell_type": "code",
   "execution_count": 26,
   "metadata": {},
   "outputs": [
    {
     "data": {
      "text/plain": [
       "1"
      ]
     },
     "execution_count": 26,
     "metadata": {},
     "output_type": "execute_result"
    }
   ],
   "source": [
    "g7255shm['CAMPAIGN_ID'].nunique()"
   ]
  },
  {
   "cell_type": "code",
   "execution_count": 27,
   "metadata": {},
   "outputs": [
    {
     "data": {
      "text/html": [
       "<div>\n",
       "<style scoped>\n",
       "    .dataframe tbody tr th:only-of-type {\n",
       "        vertical-align: middle;\n",
       "    }\n",
       "\n",
       "    .dataframe tbody tr th {\n",
       "        vertical-align: top;\n",
       "    }\n",
       "\n",
       "    .dataframe thead th {\n",
       "        text-align: right;\n",
       "    }\n",
       "</style>\n",
       "<table border=\"1\" class=\"dataframe\">\n",
       "  <thead>\n",
       "    <tr style=\"text-align: right;\">\n",
       "      <th></th>\n",
       "      <th>DATE_OF_EVENT</th>\n",
       "      <th>EVENT_ID</th>\n",
       "      <th>USER_ID</th>\n",
       "      <th>WAY_ID</th>\n",
       "      <th>CAMPAIGN_ID</th>\n",
       "      <th>PLACEMENT_ID</th>\n",
       "      <th>INT_CAMPAIGN_ID</th>\n",
       "      <th>MEDIUM_ID</th>\n",
       "      <th>PRODUCT_ID</th>\n",
       "      <th>REG_TRIG</th>\n",
       "      <th>PMNT_TRIG</th>\n",
       "    </tr>\n",
       "  </thead>\n",
       "  <tbody>\n",
       "    <tr>\n",
       "      <td>518</td>\n",
       "      <td>2017-05-05</td>\n",
       "      <td>000169327828fd1613b37c2e4378c856b53068b0</td>\n",
       "      <td>e4cba30fcd948f2fd246d3313cbca83ae48693e3</td>\n",
       "      <td>a</td>\n",
       "      <td>tj3m</td>\n",
       "      <td>14545yy</td>\n",
       "      <td>g7255shm</td>\n",
       "      <td>20737</td>\n",
       "      <td>NaN</td>\n",
       "      <td>0</td>\n",
       "      <td>0</td>\n",
       "    </tr>\n",
       "    <tr>\n",
       "      <td>522</td>\n",
       "      <td>2017-05-05</td>\n",
       "      <td>00021921c492d6fdda6942f9cacb443005ec3f9c</td>\n",
       "      <td>19f2374af08552531b5562c3aa5e685f1743b167</td>\n",
       "      <td>a</td>\n",
       "      <td>tj3m</td>\n",
       "      <td>14545yy</td>\n",
       "      <td>g7255shm</td>\n",
       "      <td>20756</td>\n",
       "      <td>NaN</td>\n",
       "      <td>0</td>\n",
       "      <td>0</td>\n",
       "    </tr>\n",
       "  </tbody>\n",
       "</table>\n",
       "</div>"
      ],
      "text/plain": [
       "    DATE_OF_EVENT                                  EVENT_ID  \\\n",
       "518    2017-05-05  000169327828fd1613b37c2e4378c856b53068b0   \n",
       "522    2017-05-05  00021921c492d6fdda6942f9cacb443005ec3f9c   \n",
       "\n",
       "                                      USER_ID WAY_ID CAMPAIGN_ID PLACEMENT_ID  \\\n",
       "518  e4cba30fcd948f2fd246d3313cbca83ae48693e3      a        tj3m      14545yy   \n",
       "522  19f2374af08552531b5562c3aa5e685f1743b167      a        tj3m      14545yy   \n",
       "\n",
       "    INT_CAMPAIGN_ID MEDIUM_ID PRODUCT_ID  REG_TRIG  PMNT_TRIG  \n",
       "518        g7255shm     20737        NaN         0          0  \n",
       "522        g7255shm     20756        NaN         0          0  "
      ]
     },
     "execution_count": 27,
     "metadata": {},
     "output_type": "execute_result"
    }
   ],
   "source": [
    "g7255shm.head(2)"
   ]
  },
  {
   "cell_type": "markdown",
   "metadata": {},
   "source": [
    "Same as previous, with **'tj3m'** value."
   ]
  },
  {
   "cell_type": "markdown",
   "metadata": {},
   "source": [
    "#### 3. 'g3692shm'"
   ]
  },
  {
   "cell_type": "code",
   "execution_count": 28,
   "metadata": {},
   "outputs": [
    {
     "name": "stdout",
     "output_type": "stream",
     "text": [
      "1\n"
     ]
    },
    {
     "data": {
      "text/html": [
       "<div>\n",
       "<style scoped>\n",
       "    .dataframe tbody tr th:only-of-type {\n",
       "        vertical-align: middle;\n",
       "    }\n",
       "\n",
       "    .dataframe tbody tr th {\n",
       "        vertical-align: top;\n",
       "    }\n",
       "\n",
       "    .dataframe thead th {\n",
       "        text-align: right;\n",
       "    }\n",
       "</style>\n",
       "<table border=\"1\" class=\"dataframe\">\n",
       "  <thead>\n",
       "    <tr style=\"text-align: right;\">\n",
       "      <th></th>\n",
       "      <th>DATE_OF_EVENT</th>\n",
       "      <th>EVENT_ID</th>\n",
       "      <th>USER_ID</th>\n",
       "      <th>WAY_ID</th>\n",
       "      <th>CAMPAIGN_ID</th>\n",
       "      <th>PLACEMENT_ID</th>\n",
       "      <th>INT_CAMPAIGN_ID</th>\n",
       "      <th>MEDIUM_ID</th>\n",
       "      <th>PRODUCT_ID</th>\n",
       "      <th>REG_TRIG</th>\n",
       "      <th>PMNT_TRIG</th>\n",
       "    </tr>\n",
       "  </thead>\n",
       "  <tbody>\n",
       "    <tr>\n",
       "      <td>76</td>\n",
       "      <td>2017-05-05</td>\n",
       "      <td>a1cce1679c259044eeef0c7b573cfcf05203b4aa</td>\n",
       "      <td>5ec7ef3d3124d17021a6aebd11345dc3162e61b9</td>\n",
       "      <td>b</td>\n",
       "      <td>tj3m</td>\n",
       "      <td>0003wnyj</td>\n",
       "      <td>g3692shm</td>\n",
       "      <td>20622</td>\n",
       "      <td>NaN</td>\n",
       "      <td>0</td>\n",
       "      <td>0</td>\n",
       "    </tr>\n",
       "    <tr>\n",
       "      <td>217</td>\n",
       "      <td>2017-05-05</td>\n",
       "      <td>a2503fc131a07feb6c019b1abe366841a81528b9</td>\n",
       "      <td>51372bbaabe1bdb2a875d977a54bd177e2bdf648</td>\n",
       "      <td>a</td>\n",
       "      <td>tj3m</td>\n",
       "      <td>0046Q8Ix</td>\n",
       "      <td>g3692shm</td>\n",
       "      <td>20622</td>\n",
       "      <td>NaN</td>\n",
       "      <td>0</td>\n",
       "      <td>0</td>\n",
       "    </tr>\n",
       "    <tr>\n",
       "      <td>674</td>\n",
       "      <td>2017-05-05</td>\n",
       "      <td>003298a2e2c8515a541952edc620003849a2cdde</td>\n",
       "      <td>570eb3fc5a407cb29d7dd1a5882f362afd67e840</td>\n",
       "      <td>a</td>\n",
       "      <td>tj3m</td>\n",
       "      <td>00uzIqh1</td>\n",
       "      <td>g3692shm</td>\n",
       "      <td>20621</td>\n",
       "      <td>fatfR3588bd0995d711e69bf5984be1741384_3ed0b2c6...</td>\n",
       "      <td>1</td>\n",
       "      <td>0</td>\n",
       "    </tr>\n",
       "  </tbody>\n",
       "</table>\n",
       "</div>"
      ],
      "text/plain": [
       "    DATE_OF_EVENT                                  EVENT_ID  \\\n",
       "76     2017-05-05  a1cce1679c259044eeef0c7b573cfcf05203b4aa   \n",
       "217    2017-05-05  a2503fc131a07feb6c019b1abe366841a81528b9   \n",
       "674    2017-05-05  003298a2e2c8515a541952edc620003849a2cdde   \n",
       "\n",
       "                                      USER_ID WAY_ID CAMPAIGN_ID PLACEMENT_ID  \\\n",
       "76   5ec7ef3d3124d17021a6aebd11345dc3162e61b9      b        tj3m     0003wnyj   \n",
       "217  51372bbaabe1bdb2a875d977a54bd177e2bdf648      a        tj3m     0046Q8Ix   \n",
       "674  570eb3fc5a407cb29d7dd1a5882f362afd67e840      a        tj3m     00uzIqh1   \n",
       "\n",
       "    INT_CAMPAIGN_ID MEDIUM_ID  \\\n",
       "76         g3692shm     20622   \n",
       "217        g3692shm     20622   \n",
       "674        g3692shm     20621   \n",
       "\n",
       "                                            PRODUCT_ID  REG_TRIG  PMNT_TRIG  \n",
       "76                                                 NaN         0          0  \n",
       "217                                                NaN         0          0  \n",
       "674  fatfR3588bd0995d711e69bf5984be1741384_3ed0b2c6...         1          0  "
      ]
     },
     "execution_count": 28,
     "metadata": {},
     "output_type": "execute_result"
    }
   ],
   "source": [
    "g3692shm = df.loc[df['INT_CAMPAIGN_ID'] == 'g3692shm']\n",
    "print(g3692shm['CAMPAIGN_ID'].nunique())\n",
    "g3692shm.head(3)"
   ]
  },
  {
   "cell_type": "markdown",
   "metadata": {},
   "source": [
    "Same **'CAMPAIGN_ID\t'** value as in the previous. It can be used for both **'INT_CAMPAIGN_ID'** types."
   ]
  },
  {
   "cell_type": "markdown",
   "metadata": {},
   "source": [
    "#### 4. g3715shm"
   ]
  },
  {
   "cell_type": "code",
   "execution_count": 29,
   "metadata": {},
   "outputs": [
    {
     "name": "stdout",
     "output_type": "stream",
     "text": [
      "1\n"
     ]
    },
    {
     "data": {
      "text/html": [
       "<div>\n",
       "<style scoped>\n",
       "    .dataframe tbody tr th:only-of-type {\n",
       "        vertical-align: middle;\n",
       "    }\n",
       "\n",
       "    .dataframe tbody tr th {\n",
       "        vertical-align: top;\n",
       "    }\n",
       "\n",
       "    .dataframe thead th {\n",
       "        text-align: right;\n",
       "    }\n",
       "</style>\n",
       "<table border=\"1\" class=\"dataframe\">\n",
       "  <thead>\n",
       "    <tr style=\"text-align: right;\">\n",
       "      <th></th>\n",
       "      <th>DATE_OF_EVENT</th>\n",
       "      <th>EVENT_ID</th>\n",
       "      <th>USER_ID</th>\n",
       "      <th>WAY_ID</th>\n",
       "      <th>CAMPAIGN_ID</th>\n",
       "      <th>PLACEMENT_ID</th>\n",
       "      <th>INT_CAMPAIGN_ID</th>\n",
       "      <th>MEDIUM_ID</th>\n",
       "      <th>PRODUCT_ID</th>\n",
       "      <th>REG_TRIG</th>\n",
       "      <th>PMNT_TRIG</th>\n",
       "    </tr>\n",
       "  </thead>\n",
       "  <tbody>\n",
       "    <tr>\n",
       "      <td>432</td>\n",
       "      <td>2017-05-08</td>\n",
       "      <td>c764918558f2b9091db76bfd7f0944d0d0869b53</td>\n",
       "      <td>ee88bbb3cb55f347b14c872658e01801104a2270</td>\n",
       "      <td>a</td>\n",
       "      <td>tj3m</td>\n",
       "      <td>1012895781</td>\n",
       "      <td>g3715shm</td>\n",
       "      <td>19791</td>\n",
       "      <td>NaN</td>\n",
       "      <td>0</td>\n",
       "      <td>0</td>\n",
       "    </tr>\n",
       "    <tr>\n",
       "      <td>529</td>\n",
       "      <td>2017-05-05</td>\n",
       "      <td>000599e3ebbd7efd93980749533bd8424f5b3f6e</td>\n",
       "      <td>b1c2cf3673d3e29c56a6f215fa6ef66f15b4fc0d</td>\n",
       "      <td>a</td>\n",
       "      <td>tj3m</td>\n",
       "      <td>1012895781</td>\n",
       "      <td>g3715shm</td>\n",
       "      <td>19791</td>\n",
       "      <td>NaN</td>\n",
       "      <td>0</td>\n",
       "      <td>0</td>\n",
       "    </tr>\n",
       "    <tr>\n",
       "      <td>1913</td>\n",
       "      <td>2017-05-06</td>\n",
       "      <td>3b39476151958bad3850a84e55b35dba18ae4e12</td>\n",
       "      <td>9c7007010fa7a924f4d0875eece490e14ffca9e5</td>\n",
       "      <td>a</td>\n",
       "      <td>tj3m</td>\n",
       "      <td>pr_bl (10)</td>\n",
       "      <td>g3715shm</td>\n",
       "      <td>19791</td>\n",
       "      <td>sebpR85b86230c68c11e69bf5984be1741384_096e2bd2...</td>\n",
       "      <td>0</td>\n",
       "      <td>0</td>\n",
       "    </tr>\n",
       "  </tbody>\n",
       "</table>\n",
       "</div>"
      ],
      "text/plain": [
       "     DATE_OF_EVENT                                  EVENT_ID  \\\n",
       "432     2017-05-08  c764918558f2b9091db76bfd7f0944d0d0869b53   \n",
       "529     2017-05-05  000599e3ebbd7efd93980749533bd8424f5b3f6e   \n",
       "1913    2017-05-06  3b39476151958bad3850a84e55b35dba18ae4e12   \n",
       "\n",
       "                                       USER_ID WAY_ID CAMPAIGN_ID  \\\n",
       "432   ee88bbb3cb55f347b14c872658e01801104a2270      a        tj3m   \n",
       "529   b1c2cf3673d3e29c56a6f215fa6ef66f15b4fc0d      a        tj3m   \n",
       "1913  9c7007010fa7a924f4d0875eece490e14ffca9e5      a        tj3m   \n",
       "\n",
       "     PLACEMENT_ID INT_CAMPAIGN_ID MEDIUM_ID  \\\n",
       "432    1012895781        g3715shm     19791   \n",
       "529    1012895781        g3715shm     19791   \n",
       "1913   pr_bl (10)        g3715shm     19791   \n",
       "\n",
       "                                             PRODUCT_ID  REG_TRIG  PMNT_TRIG  \n",
       "432                                                 NaN         0          0  \n",
       "529                                                 NaN         0          0  \n",
       "1913  sebpR85b86230c68c11e69bf5984be1741384_096e2bd2...         0          0  "
      ]
     },
     "execution_count": 29,
     "metadata": {},
     "output_type": "execute_result"
    }
   ],
   "source": [
    "g3715shm = df.loc[df['INT_CAMPAIGN_ID'] == 'g3715shm']\n",
    "print(g3715shm['CAMPAIGN_ID'].nunique())\n",
    "g3715shm.head(3)"
   ]
  },
  {
   "cell_type": "markdown",
   "metadata": {},
   "source": [
    "The missing value is also **'tj3m'**"
   ]
  },
  {
   "cell_type": "markdown",
   "metadata": {},
   "source": [
    "The next step will be assigning actual values to NaN in **'CAMPAIGN_ID'** column."
   ]
  },
  {
   "cell_type": "code",
   "execution_count": 30,
   "metadata": {},
   "outputs": [
    {
     "name": "stdout",
     "output_type": "stream",
     "text": [
      "DATE_OF_EVENT             0\n",
      "EVENT_ID                  0\n",
      "USER_ID                   0\n",
      "WAY_ID                    0\n",
      "CAMPAIGN_ID              20\n",
      "PLACEMENT_ID            477\n",
      "INT_CAMPAIGN_ID           0\n",
      "MEDIUM_ID             17855\n",
      "PRODUCT_ID         10030525\n",
      "REG_TRIG                  0\n",
      "PMNT_TRIG                 0\n",
      "dtype: int64\n",
      "Shape:  (10861671, 11)\n"
     ]
    }
   ],
   "source": [
    "print(df.isnull().sum())\n",
    "print(\"Shape: \", df.shape)"
   ]
  },
  {
   "cell_type": "markdown",
   "metadata": {},
   "source": [
    "Assigning actual values for **'g4199moc'**."
   ]
  },
  {
   "cell_type": "code",
   "execution_count": 31,
   "metadata": {},
   "outputs": [],
   "source": [
    "df['CAMPAIGN_ID'] = np.where(((df['CAMPAIGN_ID'].isnull()) & (df['INT_CAMPAIGN_ID'] ==\"g4199moc\")),\\\n",
    "                                   \"tE43wb\",df['CAMPAIGN_ID'])"
   ]
  },
  {
   "cell_type": "markdown",
   "metadata": {},
   "source": [
    "Assigning actual values for other three."
   ]
  },
  {
   "cell_type": "code",
   "execution_count": 32,
   "metadata": {},
   "outputs": [],
   "source": [
    "df['CAMPAIGN_ID'] = np.where(((df['CAMPAIGN_ID'].isnull()) & (df['INT_CAMPAIGN_ID'] ==\"g3715shm\")),\\\n",
    "                                   \"tj3m\",df['CAMPAIGN_ID'])\n",
    "df['CAMPAIGN_ID'] = np.where(((df['CAMPAIGN_ID'].isnull()) & (df['INT_CAMPAIGN_ID'] ==\"g3692shm\")),\\\n",
    "                                   \"tj3m\",df['CAMPAIGN_ID'])\n",
    "df['CAMPAIGN_ID'] = np.where(((df['CAMPAIGN_ID'].isnull()) & (df['INT_CAMPAIGN_ID'] ==\"g7255shm\")),\\\n",
    "                                   \"tj3m\",df['CAMPAIGN_ID'])"
   ]
  },
  {
   "cell_type": "markdown",
   "metadata": {},
   "source": [
    "NaN values in **'CAMPAIGN_ID'** have been replaced. Let's doublecheck"
   ]
  },
  {
   "cell_type": "code",
   "execution_count": 33,
   "metadata": {},
   "outputs": [
    {
     "name": "stdout",
     "output_type": "stream",
     "text": [
      "DATE_OF_EVENT             0\n",
      "EVENT_ID                  0\n",
      "USER_ID                   0\n",
      "WAY_ID                    0\n",
      "CAMPAIGN_ID               0\n",
      "PLACEMENT_ID            477\n",
      "INT_CAMPAIGN_ID           0\n",
      "MEDIUM_ID             17855\n",
      "PRODUCT_ID         10030525\n",
      "REG_TRIG                  0\n",
      "PMNT_TRIG                 0\n",
      "dtype: int64\n",
      "Shape:  (10861671, 11)\n"
     ]
    }
   ],
   "source": [
    "print(df.isnull().sum())\n",
    "print(\"Shape: \", df.shape)"
   ]
  },
  {
   "cell_type": "markdown",
   "metadata": {},
   "source": [
    "Now let's explore **'PLACEMENT_ID'** column with 477 missing values."
   ]
  },
  {
   "cell_type": "markdown",
   "metadata": {},
   "source": [
    "How many unique values in **'PLACEMENT_ID'** column?"
   ]
  },
  {
   "cell_type": "code",
   "execution_count": 34,
   "metadata": {},
   "outputs": [
    {
     "data": {
      "text/plain": [
       "5559"
      ]
     },
     "execution_count": 34,
     "metadata": {},
     "output_type": "execute_result"
    }
   ],
   "source": [
    "df['PLACEMENT_ID'].nunique()"
   ]
  },
  {
   "cell_type": "markdown",
   "metadata": {},
   "source": [
    "The majority of **'PLACEMENT_ID'** data is present. Explore the data set with missing data only."
   ]
  },
  {
   "cell_type": "code",
   "execution_count": 35,
   "metadata": {},
   "outputs": [
    {
     "name": "stdout",
     "output_type": "stream",
     "text": [
      "(477, 11)\n"
     ]
    },
    {
     "data": {
      "text/html": [
       "<div>\n",
       "<style scoped>\n",
       "    .dataframe tbody tr th:only-of-type {\n",
       "        vertical-align: middle;\n",
       "    }\n",
       "\n",
       "    .dataframe tbody tr th {\n",
       "        vertical-align: top;\n",
       "    }\n",
       "\n",
       "    .dataframe thead th {\n",
       "        text-align: right;\n",
       "    }\n",
       "</style>\n",
       "<table border=\"1\" class=\"dataframe\">\n",
       "  <thead>\n",
       "    <tr style=\"text-align: right;\">\n",
       "      <th></th>\n",
       "      <th>DATE_OF_EVENT</th>\n",
       "      <th>EVENT_ID</th>\n",
       "      <th>USER_ID</th>\n",
       "      <th>WAY_ID</th>\n",
       "      <th>CAMPAIGN_ID</th>\n",
       "      <th>PLACEMENT_ID</th>\n",
       "      <th>INT_CAMPAIGN_ID</th>\n",
       "      <th>MEDIUM_ID</th>\n",
       "      <th>PRODUCT_ID</th>\n",
       "      <th>REG_TRIG</th>\n",
       "      <th>PMNT_TRIG</th>\n",
       "    </tr>\n",
       "  </thead>\n",
       "  <tbody>\n",
       "    <tr>\n",
       "      <td>5115</td>\n",
       "      <td>2017-05-05</td>\n",
       "      <td>008ab9d51b70a113941551fc3fb47a4436bc9bcd</td>\n",
       "      <td>e9471bbc68952de6b8f1152ee45e1df61ca727fe</td>\n",
       "      <td>a</td>\n",
       "      <td>tj3t78b</td>\n",
       "      <td>NaN</td>\n",
       "      <td>g6353moc</td>\n",
       "      <td>19022</td>\n",
       "      <td>NaN</td>\n",
       "      <td>0</td>\n",
       "      <td>0</td>\n",
       "    </tr>\n",
       "    <tr>\n",
       "      <td>32241</td>\n",
       "      <td>2017-05-05</td>\n",
       "      <td>02eb17742469296061ba5e18677622413e892e6c</td>\n",
       "      <td>8a2bc7fc8971f323717fe5380c72deae8d361abb</td>\n",
       "      <td>a</td>\n",
       "      <td>dn3um</td>\n",
       "      <td>NaN</td>\n",
       "      <td>g5451bar_http</td>\n",
       "      <td>20745</td>\n",
       "      <td>flirtRa2514fbe6eb311e6bf1e984be1741384_c475663...</td>\n",
       "      <td>0</td>\n",
       "      <td>0</td>\n",
       "    </tr>\n",
       "    <tr>\n",
       "      <td>71105</td>\n",
       "      <td>2017-05-05</td>\n",
       "      <td>b8ec35b0774ecff88c4bfcd68f294b2d3ce33c27</td>\n",
       "      <td>64c7b7b0235f37099dcc0d72abd276ee1ac94c51</td>\n",
       "      <td>a</td>\n",
       "      <td>dn3um</td>\n",
       "      <td>NaN</td>\n",
       "      <td>g5451bar_http</td>\n",
       "      <td>19254</td>\n",
       "      <td>NaN</td>\n",
       "      <td>0</td>\n",
       "      <td>0</td>\n",
       "    </tr>\n",
       "    <tr>\n",
       "      <td>103565</td>\n",
       "      <td>2017-05-06</td>\n",
       "      <td>462f0c7c488d931caa1c9d0db22b242980f26195</td>\n",
       "      <td>e74dd386d1b9ad6825fb5634d4f8a780f92433a9</td>\n",
       "      <td>a</td>\n",
       "      <td>dn3um</td>\n",
       "      <td>NaN</td>\n",
       "      <td>g5451bar_http</td>\n",
       "      <td>20151</td>\n",
       "      <td>NaN</td>\n",
       "      <td>0</td>\n",
       "      <td>0</td>\n",
       "    </tr>\n",
       "    <tr>\n",
       "      <td>105183</td>\n",
       "      <td>2017-05-05</td>\n",
       "      <td>08be207b02c04f2bd55e38f86b3963d41e94f38a</td>\n",
       "      <td>6213860735b73a6363590ab1989a20c99578853d</td>\n",
       "      <td>a</td>\n",
       "      <td>tE4</td>\n",
       "      <td>NaN</td>\n",
       "      <td>g2224pod</td>\n",
       "      <td>20322</td>\n",
       "      <td>NaN</td>\n",
       "      <td>0</td>\n",
       "      <td>0</td>\n",
       "    </tr>\n",
       "  </tbody>\n",
       "</table>\n",
       "</div>"
      ],
      "text/plain": [
       "       DATE_OF_EVENT                                  EVENT_ID  \\\n",
       "5115      2017-05-05  008ab9d51b70a113941551fc3fb47a4436bc9bcd   \n",
       "32241     2017-05-05  02eb17742469296061ba5e18677622413e892e6c   \n",
       "71105     2017-05-05  b8ec35b0774ecff88c4bfcd68f294b2d3ce33c27   \n",
       "103565    2017-05-06  462f0c7c488d931caa1c9d0db22b242980f26195   \n",
       "105183    2017-05-05  08be207b02c04f2bd55e38f86b3963d41e94f38a   \n",
       "\n",
       "                                         USER_ID WAY_ID CAMPAIGN_ID  \\\n",
       "5115    e9471bbc68952de6b8f1152ee45e1df61ca727fe      a     tj3t78b   \n",
       "32241   8a2bc7fc8971f323717fe5380c72deae8d361abb      a       dn3um   \n",
       "71105   64c7b7b0235f37099dcc0d72abd276ee1ac94c51      a       dn3um   \n",
       "103565  e74dd386d1b9ad6825fb5634d4f8a780f92433a9      a       dn3um   \n",
       "105183  6213860735b73a6363590ab1989a20c99578853d      a         tE4   \n",
       "\n",
       "       PLACEMENT_ID INT_CAMPAIGN_ID MEDIUM_ID  \\\n",
       "5115            NaN        g6353moc     19022   \n",
       "32241           NaN   g5451bar_http     20745   \n",
       "71105           NaN   g5451bar_http     19254   \n",
       "103565          NaN   g5451bar_http     20151   \n",
       "105183          NaN        g2224pod     20322   \n",
       "\n",
       "                                               PRODUCT_ID  REG_TRIG  PMNT_TRIG  \n",
       "5115                                                  NaN         0          0  \n",
       "32241   flirtRa2514fbe6eb311e6bf1e984be1741384_c475663...         0          0  \n",
       "71105                                                 NaN         0          0  \n",
       "103565                                                NaN         0          0  \n",
       "105183                                                NaN         0          0  "
      ]
     },
     "execution_count": 35,
     "metadata": {},
     "output_type": "execute_result"
    }
   ],
   "source": [
    "PLACEMENT_ID_NAN = df[df['PLACEMENT_ID'].isnull()]\n",
    "print(PLACEMENT_ID_NAN.shape)\n",
    "PLACEMENT_ID_NAN.head()"
   ]
  },
  {
   "cell_type": "markdown",
   "metadata": {},
   "source": [
    "Number of unique values in data set"
   ]
  },
  {
   "cell_type": "code",
   "execution_count": 36,
   "metadata": {},
   "outputs": [
    {
     "data": {
      "text/plain": [
       "DATE_OF_EVENT       15\n",
       "EVENT_ID           477\n",
       "USER_ID            408\n",
       "WAY_ID               6\n",
       "CAMPAIGN_ID          5\n",
       "PLACEMENT_ID         0\n",
       "INT_CAMPAIGN_ID     14\n",
       "MEDIUM_ID           29\n",
       "PRODUCT_ID          29\n",
       "REG_TRIG             2\n",
       "PMNT_TRIG            2\n",
       "dtype: int64"
      ]
     },
     "execution_count": 36,
     "metadata": {},
     "output_type": "execute_result"
    }
   ],
   "source": [
    "PLACEMENT_ID_NAN.nunique()"
   ]
  },
  {
   "cell_type": "markdown",
   "metadata": {},
   "source": [
    "Other missing data"
   ]
  },
  {
   "cell_type": "code",
   "execution_count": 37,
   "metadata": {},
   "outputs": [
    {
     "data": {
      "text/plain": [
       "DATE_OF_EVENT        0\n",
       "EVENT_ID             0\n",
       "USER_ID              0\n",
       "WAY_ID               0\n",
       "CAMPAIGN_ID          0\n",
       "PLACEMENT_ID       477\n",
       "INT_CAMPAIGN_ID      0\n",
       "MEDIUM_ID            1\n",
       "PRODUCT_ID         290\n",
       "REG_TRIG             0\n",
       "PMNT_TRIG            0\n",
       "dtype: int64"
      ]
     },
     "execution_count": 37,
     "metadata": {},
     "output_type": "execute_result"
    }
   ],
   "source": [
    "PLACEMENT_ID_NAN.isnull().sum()"
   ]
  },
  {
   "cell_type": "markdown",
   "metadata": {},
   "source": [
    "**'PLACEMENT_ID'** is a banner that belongs to a banner group **'CAMPAIGN_ID'**."
   ]
  },
  {
   "cell_type": "markdown",
   "metadata": {},
   "source": [
    "There are 5559 different variations of **'PLACEMENT_ID'** and 76 **'CAMPAIGN_ID'**."
   ]
  },
  {
   "cell_type": "markdown",
   "metadata": {},
   "source": [
    "Using the features which do not have missing values, we can predict the NaNs with the help of a machine learning algorithm. Unfortunately, our **'PLACEMENT_ID'** missing value is expected to have a very high variance, so a machine learning algorithm would not be a good fit and very time consuming."
   ]
  },
  {
   "cell_type": "markdown",
   "metadata": {},
   "source": [
    "The best way would be to assign An Unique Category to these 477 missing records"
   ]
  },
  {
   "cell_type": "code",
   "execution_count": 38,
   "metadata": {},
   "outputs": [],
   "source": [
    "df['PLACEMENT_ID'] = df['PLACEMENT_ID'].fillna(value='Banner')"
   ]
  },
  {
   "cell_type": "code",
   "execution_count": 39,
   "metadata": {},
   "outputs": [
    {
     "data": {
      "text/plain": [
       "DATE_OF_EVENT             0\n",
       "EVENT_ID                  0\n",
       "USER_ID                   0\n",
       "WAY_ID                    0\n",
       "CAMPAIGN_ID               0\n",
       "PLACEMENT_ID              0\n",
       "INT_CAMPAIGN_ID           0\n",
       "MEDIUM_ID             17855\n",
       "PRODUCT_ID         10030525\n",
       "REG_TRIG                  0\n",
       "PMNT_TRIG                 0\n",
       "dtype: int64"
      ]
     },
     "execution_count": 39,
     "metadata": {},
     "output_type": "execute_result"
    }
   ],
   "source": [
    "df.isnull().sum()"
   ]
  },
  {
   "cell_type": "markdown",
   "metadata": {},
   "source": [
    "**MEDIUM_ID** - промежуточный баннер с вопросами (типа какой цвет волос нарвится, в каком городе живете, и тд.). Его могут не пройти, тогда будет отвал."
   ]
  },
  {
   "cell_type": "markdown",
   "metadata": {},
   "source": [
    "How many unique values?"
   ]
  },
  {
   "cell_type": "code",
   "execution_count": 40,
   "metadata": {},
   "outputs": [
    {
     "data": {
      "text/plain": [
       "391"
      ]
     },
     "execution_count": 40,
     "metadata": {},
     "output_type": "execute_result"
    }
   ],
   "source": [
    "df['MEDIUM_ID'].nunique()"
   ]
  },
  {
   "cell_type": "markdown",
   "metadata": {},
   "source": [
    "The majority of **'MEDIUM_ID'** data is present. Explore the data set with missing data only."
   ]
  },
  {
   "cell_type": "code",
   "execution_count": 41,
   "metadata": {},
   "outputs": [
    {
     "name": "stdout",
     "output_type": "stream",
     "text": [
      "(17855, 11)\n"
     ]
    },
    {
     "data": {
      "text/html": [
       "<div>\n",
       "<style scoped>\n",
       "    .dataframe tbody tr th:only-of-type {\n",
       "        vertical-align: middle;\n",
       "    }\n",
       "\n",
       "    .dataframe tbody tr th {\n",
       "        vertical-align: top;\n",
       "    }\n",
       "\n",
       "    .dataframe thead th {\n",
       "        text-align: right;\n",
       "    }\n",
       "</style>\n",
       "<table border=\"1\" class=\"dataframe\">\n",
       "  <thead>\n",
       "    <tr style=\"text-align: right;\">\n",
       "      <th></th>\n",
       "      <th>DATE_OF_EVENT</th>\n",
       "      <th>EVENT_ID</th>\n",
       "      <th>USER_ID</th>\n",
       "      <th>WAY_ID</th>\n",
       "      <th>CAMPAIGN_ID</th>\n",
       "      <th>PLACEMENT_ID</th>\n",
       "      <th>INT_CAMPAIGN_ID</th>\n",
       "      <th>MEDIUM_ID</th>\n",
       "      <th>PRODUCT_ID</th>\n",
       "      <th>REG_TRIG</th>\n",
       "      <th>PMNT_TRIG</th>\n",
       "    </tr>\n",
       "  </thead>\n",
       "  <tbody>\n",
       "    <tr>\n",
       "      <td>53956</td>\n",
       "      <td>2017-05-06</td>\n",
       "      <td>40a6889f9e950f8c2ebd9464c1c7dd761f4d4b1d</td>\n",
       "      <td>5f5254ef32d8584b22c5a451354db4b19f149933</td>\n",
       "      <td>f</td>\n",
       "      <td>etg3em</td>\n",
       "      <td>Im8il</td>\n",
       "      <td>g7426zoz</td>\n",
       "      <td>NaN</td>\n",
       "      <td>bnR768621a8f77511e689f9984be1741384_3c09509e33...</td>\n",
       "      <td>0</td>\n",
       "      <td>0</td>\n",
       "    </tr>\n",
       "    <tr>\n",
       "      <td>56788</td>\n",
       "      <td>2017-05-06</td>\n",
       "      <td>41bacb48a6c1d668777a875c9e95cf1c87f8b49c</td>\n",
       "      <td>d109ba4dd9fc5b1eeadf46afcac575a84ff7fdf0</td>\n",
       "      <td>f</td>\n",
       "      <td>etg3em</td>\n",
       "      <td>Im8il</td>\n",
       "      <td>g7426zoz</td>\n",
       "      <td>NaN</td>\n",
       "      <td>bnR77cc384c000811e789f9984be1741384_3c09509e33...</td>\n",
       "      <td>0</td>\n",
       "      <td>0</td>\n",
       "    </tr>\n",
       "    <tr>\n",
       "      <td>57759</td>\n",
       "      <td>2017-05-06</td>\n",
       "      <td>411f31468cac932e77234295a12ca02a345bbc84</td>\n",
       "      <td>9b34668deb16c3630b45b0c61278f703418f9b7c</td>\n",
       "      <td>f</td>\n",
       "      <td>etg3em</td>\n",
       "      <td>Im8il</td>\n",
       "      <td>g7426zoz</td>\n",
       "      <td>NaN</td>\n",
       "      <td>bnR77cc384c000811e789f9984be1741384_3c09509e33...</td>\n",
       "      <td>0</td>\n",
       "      <td>0</td>\n",
       "    </tr>\n",
       "    <tr>\n",
       "      <td>72332</td>\n",
       "      <td>2017-05-06</td>\n",
       "      <td>4329091ecc5b6999befafe7d93b96b4d296a5235</td>\n",
       "      <td>f2cb6f8724794b77658270d982096558cfece868</td>\n",
       "      <td>f</td>\n",
       "      <td>etg3em</td>\n",
       "      <td>Im8il</td>\n",
       "      <td>g7426zoz</td>\n",
       "      <td>NaN</td>\n",
       "      <td>bnR768621a8f77511e689f9984be1741384_3c09509e33...</td>\n",
       "      <td>0</td>\n",
       "      <td>0</td>\n",
       "    </tr>\n",
       "    <tr>\n",
       "      <td>81864</td>\n",
       "      <td>2017-05-06</td>\n",
       "      <td>408c19c7468453ac7ed3d21b85c1bf4464c32ab3</td>\n",
       "      <td>ac62dd9816632abfa05292a93f67b0a967f54acf</td>\n",
       "      <td>f</td>\n",
       "      <td>etg3em</td>\n",
       "      <td>Im8il</td>\n",
       "      <td>g7426zoz</td>\n",
       "      <td>NaN</td>\n",
       "      <td>bnR392c9e75603411e49ef5441ea14ed80c_3c09509e33...</td>\n",
       "      <td>0</td>\n",
       "      <td>0</td>\n",
       "    </tr>\n",
       "  </tbody>\n",
       "</table>\n",
       "</div>"
      ],
      "text/plain": [
       "      DATE_OF_EVENT                                  EVENT_ID  \\\n",
       "53956    2017-05-06  40a6889f9e950f8c2ebd9464c1c7dd761f4d4b1d   \n",
       "56788    2017-05-06  41bacb48a6c1d668777a875c9e95cf1c87f8b49c   \n",
       "57759    2017-05-06  411f31468cac932e77234295a12ca02a345bbc84   \n",
       "72332    2017-05-06  4329091ecc5b6999befafe7d93b96b4d296a5235   \n",
       "81864    2017-05-06  408c19c7468453ac7ed3d21b85c1bf4464c32ab3   \n",
       "\n",
       "                                        USER_ID WAY_ID CAMPAIGN_ID  \\\n",
       "53956  5f5254ef32d8584b22c5a451354db4b19f149933      f      etg3em   \n",
       "56788  d109ba4dd9fc5b1eeadf46afcac575a84ff7fdf0      f      etg3em   \n",
       "57759  9b34668deb16c3630b45b0c61278f703418f9b7c      f      etg3em   \n",
       "72332  f2cb6f8724794b77658270d982096558cfece868      f      etg3em   \n",
       "81864  ac62dd9816632abfa05292a93f67b0a967f54acf      f      etg3em   \n",
       "\n",
       "      PLACEMENT_ID INT_CAMPAIGN_ID MEDIUM_ID  \\\n",
       "53956        Im8il        g7426zoz       NaN   \n",
       "56788        Im8il        g7426zoz       NaN   \n",
       "57759        Im8il        g7426zoz       NaN   \n",
       "72332        Im8il        g7426zoz       NaN   \n",
       "81864        Im8il        g7426zoz       NaN   \n",
       "\n",
       "                                              PRODUCT_ID  REG_TRIG  PMNT_TRIG  \n",
       "53956  bnR768621a8f77511e689f9984be1741384_3c09509e33...         0          0  \n",
       "56788  bnR77cc384c000811e789f9984be1741384_3c09509e33...         0          0  \n",
       "57759  bnR77cc384c000811e789f9984be1741384_3c09509e33...         0          0  \n",
       "72332  bnR768621a8f77511e689f9984be1741384_3c09509e33...         0          0  \n",
       "81864  bnR392c9e75603411e49ef5441ea14ed80c_3c09509e33...         0          0  "
      ]
     },
     "execution_count": 41,
     "metadata": {},
     "output_type": "execute_result"
    }
   ],
   "source": [
    "MEDIUM_ID_NAN = df[df['MEDIUM_ID'].isnull()]\n",
    "print(MEDIUM_ID_NAN.shape)\n",
    "MEDIUM_ID_NAN.head()"
   ]
  },
  {
   "cell_type": "markdown",
   "metadata": {},
   "source": [
    "Some other features values seems the same"
   ]
  },
  {
   "cell_type": "code",
   "execution_count": 42,
   "metadata": {},
   "outputs": [
    {
     "data": {
      "text/plain": [
       "DATE_OF_EVENT         13\n",
       "EVENT_ID           17855\n",
       "USER_ID            16425\n",
       "WAY_ID                 6\n",
       "CAMPAIGN_ID           17\n",
       "PLACEMENT_ID          66\n",
       "INT_CAMPAIGN_ID       36\n",
       "MEDIUM_ID              0\n",
       "PRODUCT_ID            31\n",
       "REG_TRIG               2\n",
       "PMNT_TRIG              2\n",
       "dtype: int64"
      ]
     },
     "execution_count": 42,
     "metadata": {},
     "output_type": "execute_result"
    }
   ],
   "source": [
    "MEDIUM_ID_NAN.nunique()"
   ]
  },
  {
   "cell_type": "markdown",
   "metadata": {},
   "source": [
    "No, it is just a coincidence."
   ]
  },
  {
   "cell_type": "markdown",
   "metadata": {},
   "source": [
    "Again, for now let's assign An Unique Category to this missing data"
   ]
  },
  {
   "cell_type": "code",
   "execution_count": 43,
   "metadata": {},
   "outputs": [
    {
     "data": {
      "text/plain": [
       "DATE_OF_EVENT             0\n",
       "EVENT_ID                  0\n",
       "USER_ID                   0\n",
       "WAY_ID                    0\n",
       "CAMPAIGN_ID               0\n",
       "PLACEMENT_ID              0\n",
       "INT_CAMPAIGN_ID           0\n",
       "MEDIUM_ID                 0\n",
       "PRODUCT_ID         10030525\n",
       "REG_TRIG                  0\n",
       "PMNT_TRIG                 0\n",
       "dtype: int64"
      ]
     },
     "execution_count": 43,
     "metadata": {},
     "output_type": "execute_result"
    }
   ],
   "source": [
    "df['MEDIUM_ID'] = df['MEDIUM_ID'].fillna(value='Medium')\n",
    "df.isnull().sum()"
   ]
  },
  {
   "cell_type": "markdown",
   "metadata": {},
   "source": [
    "**'PRODUCT_ID'** has the biggest number of missing values (10030525)"
   ]
  },
  {
   "cell_type": "markdown",
   "metadata": {},
   "source": [
    "How many unique values?"
   ]
  },
  {
   "cell_type": "code",
   "execution_count": 44,
   "metadata": {},
   "outputs": [
    {
     "data": {
      "text/plain": [
       "1400"
      ]
     },
     "execution_count": 44,
     "metadata": {},
     "output_type": "execute_result"
    }
   ],
   "source": [
    "df['PRODUCT_ID'].nunique()"
   ]
  },
  {
   "cell_type": "markdown",
   "metadata": {},
   "source": [
    "It is better to analyze a data subset with **'PRODUCT_ID'** present data, since the majority of **'PRODUCT_ID'** data is missing."
   ]
  },
  {
   "cell_type": "code",
   "execution_count": 45,
   "metadata": {
    "scrolled": true
   },
   "outputs": [
    {
     "name": "stdout",
     "output_type": "stream",
     "text": [
      "(831146, 11)\n"
     ]
    },
    {
     "data": {
      "text/html": [
       "<div>\n",
       "<style scoped>\n",
       "    .dataframe tbody tr th:only-of-type {\n",
       "        vertical-align: middle;\n",
       "    }\n",
       "\n",
       "    .dataframe tbody tr th {\n",
       "        vertical-align: top;\n",
       "    }\n",
       "\n",
       "    .dataframe thead th {\n",
       "        text-align: right;\n",
       "    }\n",
       "</style>\n",
       "<table border=\"1\" class=\"dataframe\">\n",
       "  <thead>\n",
       "    <tr style=\"text-align: right;\">\n",
       "      <th></th>\n",
       "      <th>DATE_OF_EVENT</th>\n",
       "      <th>EVENT_ID</th>\n",
       "      <th>USER_ID</th>\n",
       "      <th>WAY_ID</th>\n",
       "      <th>CAMPAIGN_ID</th>\n",
       "      <th>PLACEMENT_ID</th>\n",
       "      <th>INT_CAMPAIGN_ID</th>\n",
       "      <th>MEDIUM_ID</th>\n",
       "      <th>PRODUCT_ID</th>\n",
       "      <th>REG_TRIG</th>\n",
       "      <th>PMNT_TRIG</th>\n",
       "    </tr>\n",
       "  </thead>\n",
       "  <tbody>\n",
       "    <tr>\n",
       "      <td>3</td>\n",
       "      <td>2017-05-05</td>\n",
       "      <td>a189ffe910621a892af40d0ec3a9394bbee69875</td>\n",
       "      <td>b37c9d8a3801885db63369e661c00e5ec6bdfffa</td>\n",
       "      <td>a</td>\n",
       "      <td>tru3wb</td>\n",
       "      <td>231834</td>\n",
       "      <td>g5529bel</td>\n",
       "      <td>20443</td>\n",
       "      <td>wntmRfb4b6dc7647e11e6bf1e984be1741384_b2463e76...</td>\n",
       "      <td>0</td>\n",
       "      <td>0</td>\n",
       "    </tr>\n",
       "    <tr>\n",
       "      <td>73</td>\n",
       "      <td>2017-05-05</td>\n",
       "      <td>a1caadf594fb2a03bc2057387859da6389a0c2d1</td>\n",
       "      <td>2f7aab2019f27ea1afab46d8adea02eac4efa9fd</td>\n",
       "      <td>a</td>\n",
       "      <td>tE4</td>\n",
       "      <td>Ing_4t_580</td>\n",
       "      <td>g6507pod</td>\n",
       "      <td>20322</td>\n",
       "      <td>lvhR9cab8803e24e11e689f9984be1741384_bb4ffe887...</td>\n",
       "      <td>0</td>\n",
       "      <td>0</td>\n",
       "    </tr>\n",
       "    <tr>\n",
       "      <td>93</td>\n",
       "      <td>2017-05-05</td>\n",
       "      <td>a1da4f4b9ed56d10a988bcd96ae45058da6ca967</td>\n",
       "      <td>0c392d61ed47f3b2ffe4ec89382ccf4e1a506e88</td>\n",
       "      <td>a</td>\n",
       "      <td>whell3bm</td>\n",
       "      <td>Qt4</td>\n",
       "      <td>g4346bar</td>\n",
       "      <td>19254</td>\n",
       "      <td>bnR77cc384c000811e789f9984be1741384_3c09509e33...</td>\n",
       "      <td>1</td>\n",
       "      <td>0</td>\n",
       "    </tr>\n",
       "    <tr>\n",
       "      <td>108</td>\n",
       "      <td>2017-05-05</td>\n",
       "      <td>a1e4ca8bcfba7f653dcc111ffa36685d6274e1a5</td>\n",
       "      <td>441f4424d298cc381167e2e34f709bbf7809fe98</td>\n",
       "      <td>a</td>\n",
       "      <td>tru3bm</td>\n",
       "      <td>201157</td>\n",
       "      <td>g3493bel</td>\n",
       "      <td>19846</td>\n",
       "      <td>ndR3d29adffea8d11e58a6f101f74370270_4d5947a22f...</td>\n",
       "      <td>1</td>\n",
       "      <td>0</td>\n",
       "    </tr>\n",
       "    <tr>\n",
       "      <td>122</td>\n",
       "      <td>2017-05-05</td>\n",
       "      <td>a1f29a0733bfdc628947d4b5010d8f61c9d20dc0</td>\n",
       "      <td>206a1b6bcd93c33766e9d8668a1f58203ee4e15e</td>\n",
       "      <td>a</td>\n",
       "      <td>tE4</td>\n",
       "      <td>Ing_4t_580</td>\n",
       "      <td>g6507pod</td>\n",
       "      <td>20322</td>\n",
       "      <td>lvhR9cab8803e24e11e689f9984be1741384_bb4ffe887...</td>\n",
       "      <td>0</td>\n",
       "      <td>0</td>\n",
       "    </tr>\n",
       "  </tbody>\n",
       "</table>\n",
       "</div>"
      ],
      "text/plain": [
       "    DATE_OF_EVENT                                  EVENT_ID  \\\n",
       "3      2017-05-05  a189ffe910621a892af40d0ec3a9394bbee69875   \n",
       "73     2017-05-05  a1caadf594fb2a03bc2057387859da6389a0c2d1   \n",
       "93     2017-05-05  a1da4f4b9ed56d10a988bcd96ae45058da6ca967   \n",
       "108    2017-05-05  a1e4ca8bcfba7f653dcc111ffa36685d6274e1a5   \n",
       "122    2017-05-05  a1f29a0733bfdc628947d4b5010d8f61c9d20dc0   \n",
       "\n",
       "                                      USER_ID WAY_ID CAMPAIGN_ID PLACEMENT_ID  \\\n",
       "3    b37c9d8a3801885db63369e661c00e5ec6bdfffa      a      tru3wb       231834   \n",
       "73   2f7aab2019f27ea1afab46d8adea02eac4efa9fd      a         tE4   Ing_4t_580   \n",
       "93   0c392d61ed47f3b2ffe4ec89382ccf4e1a506e88      a    whell3bm          Qt4   \n",
       "108  441f4424d298cc381167e2e34f709bbf7809fe98      a      tru3bm       201157   \n",
       "122  206a1b6bcd93c33766e9d8668a1f58203ee4e15e      a         tE4   Ing_4t_580   \n",
       "\n",
       "    INT_CAMPAIGN_ID MEDIUM_ID  \\\n",
       "3          g5529bel     20443   \n",
       "73         g6507pod     20322   \n",
       "93         g4346bar     19254   \n",
       "108        g3493bel     19846   \n",
       "122        g6507pod     20322   \n",
       "\n",
       "                                            PRODUCT_ID  REG_TRIG  PMNT_TRIG  \n",
       "3    wntmRfb4b6dc7647e11e6bf1e984be1741384_b2463e76...         0          0  \n",
       "73   lvhR9cab8803e24e11e689f9984be1741384_bb4ffe887...         0          0  \n",
       "93   bnR77cc384c000811e789f9984be1741384_3c09509e33...         1          0  \n",
       "108  ndR3d29adffea8d11e58a6f101f74370270_4d5947a22f...         1          0  \n",
       "122  lvhR9cab8803e24e11e689f9984be1741384_bb4ffe887...         0          0  "
      ]
     },
     "execution_count": 45,
     "metadata": {},
     "output_type": "execute_result"
    }
   ],
   "source": [
    "PRODUCT_ID_NOT_NULL = df[df.PRODUCT_ID.notnull()]\n",
    "print(PRODUCT_ID_NOT_NULL.shape)\n",
    "PRODUCT_ID_NOT_NULL.head()"
   ]
  },
  {
   "cell_type": "code",
   "execution_count": 46,
   "metadata": {},
   "outputs": [
    {
     "data": {
      "text/plain": [
       "DATE_OF_EVENT          15\n",
       "EVENT_ID           831146\n",
       "USER_ID            698318\n",
       "WAY_ID                  6\n",
       "CAMPAIGN_ID            63\n",
       "PLACEMENT_ID         4085\n",
       "INT_CAMPAIGN_ID       377\n",
       "MEDIUM_ID             315\n",
       "PRODUCT_ID           1400\n",
       "REG_TRIG                2\n",
       "PMNT_TRIG               2\n",
       "dtype: int64"
      ]
     },
     "execution_count": 46,
     "metadata": {},
     "output_type": "execute_result"
    }
   ],
   "source": [
    "PRODUCT_ID_NOT_NULL.nunique()"
   ]
  },
  {
   "cell_type": "code",
   "execution_count": 47,
   "metadata": {},
   "outputs": [
    {
     "data": {
      "text/plain": [
       "0    585015\n",
       "1    246131\n",
       "Name: REG_TRIG, dtype: int64"
      ]
     },
     "execution_count": 47,
     "metadata": {},
     "output_type": "execute_result"
    }
   ],
   "source": [
    "PRODUCT_ID_NOT_NULL['REG_TRIG'].value_counts()"
   ]
  },
  {
   "cell_type": "code",
   "execution_count": 48,
   "metadata": {},
   "outputs": [
    {
     "data": {
      "text/plain": [
       "0    10614499\n",
       "1      247172\n",
       "Name: REG_TRIG, dtype: int64"
      ]
     },
     "execution_count": 48,
     "metadata": {},
     "output_type": "execute_result"
    }
   ],
   "source": [
    "df['REG_TRIG'].value_counts()"
   ]
  },
  {
   "cell_type": "code",
   "execution_count": 49,
   "metadata": {},
   "outputs": [
    {
     "name": "stdout",
     "output_type": "stream",
     "text": [
      "(10030525, 11)\n"
     ]
    },
    {
     "data": {
      "text/html": [
       "<div>\n",
       "<style scoped>\n",
       "    .dataframe tbody tr th:only-of-type {\n",
       "        vertical-align: middle;\n",
       "    }\n",
       "\n",
       "    .dataframe tbody tr th {\n",
       "        vertical-align: top;\n",
       "    }\n",
       "\n",
       "    .dataframe thead th {\n",
       "        text-align: right;\n",
       "    }\n",
       "</style>\n",
       "<table border=\"1\" class=\"dataframe\">\n",
       "  <thead>\n",
       "    <tr style=\"text-align: right;\">\n",
       "      <th></th>\n",
       "      <th>DATE_OF_EVENT</th>\n",
       "      <th>EVENT_ID</th>\n",
       "      <th>USER_ID</th>\n",
       "      <th>WAY_ID</th>\n",
       "      <th>CAMPAIGN_ID</th>\n",
       "      <th>PLACEMENT_ID</th>\n",
       "      <th>INT_CAMPAIGN_ID</th>\n",
       "      <th>MEDIUM_ID</th>\n",
       "      <th>PRODUCT_ID</th>\n",
       "      <th>REG_TRIG</th>\n",
       "      <th>PMNT_TRIG</th>\n",
       "    </tr>\n",
       "  </thead>\n",
       "  <tbody>\n",
       "    <tr>\n",
       "      <td>0</td>\n",
       "      <td>2017-05-05</td>\n",
       "      <td>a18841cf5c3208f4c3d7b139589bc897b1f29f45</td>\n",
       "      <td>ea62471c114233e16ef425975d13d51de9e8f20d</td>\n",
       "      <td>b</td>\n",
       "      <td>ex13m</td>\n",
       "      <td>15982135</td>\n",
       "      <td>g6932ish</td>\n",
       "      <td>20484</td>\n",
       "      <td>NaN</td>\n",
       "      <td>0</td>\n",
       "      <td>0</td>\n",
       "    </tr>\n",
       "    <tr>\n",
       "      <td>1</td>\n",
       "      <td>2017-05-05</td>\n",
       "      <td>a1893bd515bf06853f45a3d0d038e96e5210fd72</td>\n",
       "      <td>0afaf3ac1ec6f685582145038bfece98f29f8fee</td>\n",
       "      <td>a</td>\n",
       "      <td>ex13m</td>\n",
       "      <td>16056045</td>\n",
       "      <td>g1417bel</td>\n",
       "      <td>19227</td>\n",
       "      <td>NaN</td>\n",
       "      <td>0</td>\n",
       "      <td>0</td>\n",
       "    </tr>\n",
       "    <tr>\n",
       "      <td>2</td>\n",
       "      <td>2017-05-05</td>\n",
       "      <td>a1893f9ef3cdb2f62db472b0d51bfedf92e499e9</td>\n",
       "      <td>f7135b828d63cb008497f40496a9425d0edc752d</td>\n",
       "      <td>a</td>\n",
       "      <td>ex13p1p</td>\n",
       "      <td>16051115</td>\n",
       "      <td>g6746yar</td>\n",
       "      <td>19769</td>\n",
       "      <td>NaN</td>\n",
       "      <td>0</td>\n",
       "      <td>0</td>\n",
       "    </tr>\n",
       "    <tr>\n",
       "      <td>4</td>\n",
       "      <td>2017-05-05</td>\n",
       "      <td>a18a240c3691c73d2c9465157824b1ad3e05b4b2</td>\n",
       "      <td>28dc89f5ecc3e14b64e38caedb97ffb959bc9839</td>\n",
       "      <td>a</td>\n",
       "      <td>th3m</td>\n",
       "      <td>In4j9u2h.gi4</td>\n",
       "      <td>g6388kro</td>\n",
       "      <td>17589</td>\n",
       "      <td>NaN</td>\n",
       "      <td>0</td>\n",
       "      <td>0</td>\n",
       "    </tr>\n",
       "    <tr>\n",
       "      <td>5</td>\n",
       "      <td>2017-05-05</td>\n",
       "      <td>a18a386a0b12684e51c7810b100c40d8398a7a5d</td>\n",
       "      <td>1f7103d4ad835ef72176a126c18f02ce5b4663b6</td>\n",
       "      <td>a</td>\n",
       "      <td>ex13m</td>\n",
       "      <td>16056373</td>\n",
       "      <td>g0230bel</td>\n",
       "      <td>19782</td>\n",
       "      <td>NaN</td>\n",
       "      <td>0</td>\n",
       "      <td>0</td>\n",
       "    </tr>\n",
       "  </tbody>\n",
       "</table>\n",
       "</div>"
      ],
      "text/plain": [
       "  DATE_OF_EVENT                                  EVENT_ID  \\\n",
       "0    2017-05-05  a18841cf5c3208f4c3d7b139589bc897b1f29f45   \n",
       "1    2017-05-05  a1893bd515bf06853f45a3d0d038e96e5210fd72   \n",
       "2    2017-05-05  a1893f9ef3cdb2f62db472b0d51bfedf92e499e9   \n",
       "4    2017-05-05  a18a240c3691c73d2c9465157824b1ad3e05b4b2   \n",
       "5    2017-05-05  a18a386a0b12684e51c7810b100c40d8398a7a5d   \n",
       "\n",
       "                                    USER_ID WAY_ID CAMPAIGN_ID  PLACEMENT_ID  \\\n",
       "0  ea62471c114233e16ef425975d13d51de9e8f20d      b       ex13m      15982135   \n",
       "1  0afaf3ac1ec6f685582145038bfece98f29f8fee      a       ex13m      16056045   \n",
       "2  f7135b828d63cb008497f40496a9425d0edc752d      a     ex13p1p      16051115   \n",
       "4  28dc89f5ecc3e14b64e38caedb97ffb959bc9839      a        th3m  In4j9u2h.gi4   \n",
       "5  1f7103d4ad835ef72176a126c18f02ce5b4663b6      a       ex13m      16056373   \n",
       "\n",
       "  INT_CAMPAIGN_ID MEDIUM_ID PRODUCT_ID  REG_TRIG  PMNT_TRIG  \n",
       "0        g6932ish     20484        NaN         0          0  \n",
       "1        g1417bel     19227        NaN         0          0  \n",
       "2        g6746yar     19769        NaN         0          0  \n",
       "4        g6388kro     17589        NaN         0          0  \n",
       "5        g0230bel     19782        NaN         0          0  "
      ]
     },
     "execution_count": 49,
     "metadata": {},
     "output_type": "execute_result"
    }
   ],
   "source": [
    "PRODUCT_ID_NULL = df[df.PRODUCT_ID.isnull()]\n",
    "print(PRODUCT_ID_NULL.shape)\n",
    "PRODUCT_ID_NULL.head()"
   ]
  },
  {
   "cell_type": "code",
   "execution_count": 50,
   "metadata": {},
   "outputs": [
    {
     "data": {
      "text/plain": [
       "0    10029484\n",
       "1        1041\n",
       "Name: REG_TRIG, dtype: int64"
      ]
     },
     "execution_count": 50,
     "metadata": {},
     "output_type": "execute_result"
    }
   ],
   "source": [
    "PRODUCT_ID_NULL['REG_TRIG'].value_counts()"
   ]
  },
  {
   "cell_type": "code",
   "execution_count": 51,
   "metadata": {},
   "outputs": [
    {
     "data": {
      "text/plain": [
       "20246    572793\n",
       "19022    446042\n",
       "20705    434061\n",
       "19769    423571\n",
       "20630    419253\n",
       "          ...  \n",
       "20361         1\n",
       "19601         1\n",
       "19643         1\n",
       "20064         1\n",
       "18486         1\n",
       "Name: MEDIUM_ID, Length: 391, dtype: int64"
      ]
     },
     "execution_count": 51,
     "metadata": {},
     "output_type": "execute_result"
    }
   ],
   "source": [
    "PRODUCT_ID_NULL['MEDIUM_ID'].value_counts()"
   ]
  },
  {
   "cell_type": "markdown",
   "metadata": {},
   "source": [
    "I will create a data set for **'PRODUCT_ID'** specific analysis. As for the rest, the values can be replaces as a boolean (True/False, 1/0)<br> For now I will assign An Unique Category to this missing data."
   ]
  },
  {
   "cell_type": "code",
   "execution_count": 52,
   "metadata": {},
   "outputs": [
    {
     "data": {
      "text/plain": [
       "DATE_OF_EVENT      0\n",
       "EVENT_ID           0\n",
       "USER_ID            0\n",
       "WAY_ID             0\n",
       "CAMPAIGN_ID        0\n",
       "PLACEMENT_ID       0\n",
       "INT_CAMPAIGN_ID    0\n",
       "MEDIUM_ID          0\n",
       "PRODUCT_ID         0\n",
       "REG_TRIG           0\n",
       "PMNT_TRIG          0\n",
       "dtype: int64"
      ]
     },
     "execution_count": 52,
     "metadata": {},
     "output_type": "execute_result"
    }
   ],
   "source": [
    "df['PRODUCT_ID'] = df['PRODUCT_ID'].fillna(value='Product')\n",
    "df.isnull().sum()"
   ]
  },
  {
   "cell_type": "markdown",
   "metadata": {},
   "source": [
    "### 6. Exploratory data analysis"
   ]
  },
  {
   "cell_type": "code",
   "execution_count": 53,
   "metadata": {},
   "outputs": [
    {
     "data": {
      "text/html": [
       "<div>\n",
       "<style scoped>\n",
       "    .dataframe tbody tr th:only-of-type {\n",
       "        vertical-align: middle;\n",
       "    }\n",
       "\n",
       "    .dataframe tbody tr th {\n",
       "        vertical-align: top;\n",
       "    }\n",
       "\n",
       "    .dataframe thead th {\n",
       "        text-align: right;\n",
       "    }\n",
       "</style>\n",
       "<table border=\"1\" class=\"dataframe\">\n",
       "  <thead>\n",
       "    <tr style=\"text-align: right;\">\n",
       "      <th></th>\n",
       "      <th>DATE_OF_EVENT</th>\n",
       "      <th>EVENT_ID</th>\n",
       "      <th>USER_ID</th>\n",
       "      <th>WAY_ID</th>\n",
       "      <th>CAMPAIGN_ID</th>\n",
       "      <th>PLACEMENT_ID</th>\n",
       "      <th>INT_CAMPAIGN_ID</th>\n",
       "      <th>MEDIUM_ID</th>\n",
       "      <th>PRODUCT_ID</th>\n",
       "      <th>REG_TRIG</th>\n",
       "      <th>PMNT_TRIG</th>\n",
       "    </tr>\n",
       "  </thead>\n",
       "  <tbody>\n",
       "    <tr>\n",
       "      <td>0</td>\n",
       "      <td>2017-05-05</td>\n",
       "      <td>a18841cf5c3208f4c3d7b139589bc897b1f29f45</td>\n",
       "      <td>ea62471c114233e16ef425975d13d51de9e8f20d</td>\n",
       "      <td>b</td>\n",
       "      <td>ex13m</td>\n",
       "      <td>15982135</td>\n",
       "      <td>g6932ish</td>\n",
       "      <td>20484</td>\n",
       "      <td>Product</td>\n",
       "      <td>0</td>\n",
       "      <td>0</td>\n",
       "    </tr>\n",
       "    <tr>\n",
       "      <td>1</td>\n",
       "      <td>2017-05-05</td>\n",
       "      <td>a1893bd515bf06853f45a3d0d038e96e5210fd72</td>\n",
       "      <td>0afaf3ac1ec6f685582145038bfece98f29f8fee</td>\n",
       "      <td>a</td>\n",
       "      <td>ex13m</td>\n",
       "      <td>16056045</td>\n",
       "      <td>g1417bel</td>\n",
       "      <td>19227</td>\n",
       "      <td>Product</td>\n",
       "      <td>0</td>\n",
       "      <td>0</td>\n",
       "    </tr>\n",
       "    <tr>\n",
       "      <td>2</td>\n",
       "      <td>2017-05-05</td>\n",
       "      <td>a1893f9ef3cdb2f62db472b0d51bfedf92e499e9</td>\n",
       "      <td>f7135b828d63cb008497f40496a9425d0edc752d</td>\n",
       "      <td>a</td>\n",
       "      <td>ex13p1p</td>\n",
       "      <td>16051115</td>\n",
       "      <td>g6746yar</td>\n",
       "      <td>19769</td>\n",
       "      <td>Product</td>\n",
       "      <td>0</td>\n",
       "      <td>0</td>\n",
       "    </tr>\n",
       "    <tr>\n",
       "      <td>3</td>\n",
       "      <td>2017-05-05</td>\n",
       "      <td>a189ffe910621a892af40d0ec3a9394bbee69875</td>\n",
       "      <td>b37c9d8a3801885db63369e661c00e5ec6bdfffa</td>\n",
       "      <td>a</td>\n",
       "      <td>tru3wb</td>\n",
       "      <td>231834</td>\n",
       "      <td>g5529bel</td>\n",
       "      <td>20443</td>\n",
       "      <td>wntmRfb4b6dc7647e11e6bf1e984be1741384_b2463e76...</td>\n",
       "      <td>0</td>\n",
       "      <td>0</td>\n",
       "    </tr>\n",
       "    <tr>\n",
       "      <td>4</td>\n",
       "      <td>2017-05-05</td>\n",
       "      <td>a18a240c3691c73d2c9465157824b1ad3e05b4b2</td>\n",
       "      <td>28dc89f5ecc3e14b64e38caedb97ffb959bc9839</td>\n",
       "      <td>a</td>\n",
       "      <td>th3m</td>\n",
       "      <td>In4j9u2h.gi4</td>\n",
       "      <td>g6388kro</td>\n",
       "      <td>17589</td>\n",
       "      <td>Product</td>\n",
       "      <td>0</td>\n",
       "      <td>0</td>\n",
       "    </tr>\n",
       "  </tbody>\n",
       "</table>\n",
       "</div>"
      ],
      "text/plain": [
       "  DATE_OF_EVENT                                  EVENT_ID  \\\n",
       "0    2017-05-05  a18841cf5c3208f4c3d7b139589bc897b1f29f45   \n",
       "1    2017-05-05  a1893bd515bf06853f45a3d0d038e96e5210fd72   \n",
       "2    2017-05-05  a1893f9ef3cdb2f62db472b0d51bfedf92e499e9   \n",
       "3    2017-05-05  a189ffe910621a892af40d0ec3a9394bbee69875   \n",
       "4    2017-05-05  a18a240c3691c73d2c9465157824b1ad3e05b4b2   \n",
       "\n",
       "                                    USER_ID WAY_ID CAMPAIGN_ID  PLACEMENT_ID  \\\n",
       "0  ea62471c114233e16ef425975d13d51de9e8f20d      b       ex13m      15982135   \n",
       "1  0afaf3ac1ec6f685582145038bfece98f29f8fee      a       ex13m      16056045   \n",
       "2  f7135b828d63cb008497f40496a9425d0edc752d      a     ex13p1p      16051115   \n",
       "3  b37c9d8a3801885db63369e661c00e5ec6bdfffa      a      tru3wb        231834   \n",
       "4  28dc89f5ecc3e14b64e38caedb97ffb959bc9839      a        th3m  In4j9u2h.gi4   \n",
       "\n",
       "  INT_CAMPAIGN_ID MEDIUM_ID  \\\n",
       "0        g6932ish     20484   \n",
       "1        g1417bel     19227   \n",
       "2        g6746yar     19769   \n",
       "3        g5529bel     20443   \n",
       "4        g6388kro     17589   \n",
       "\n",
       "                                          PRODUCT_ID  REG_TRIG  PMNT_TRIG  \n",
       "0                                            Product         0          0  \n",
       "1                                            Product         0          0  \n",
       "2                                            Product         0          0  \n",
       "3  wntmRfb4b6dc7647e11e6bf1e984be1741384_b2463e76...         0          0  \n",
       "4                                            Product         0          0  "
      ]
     },
     "execution_count": 53,
     "metadata": {},
     "output_type": "execute_result"
    }
   ],
   "source": [
    "df.head()"
   ]
  },
  {
   "cell_type": "markdown",
   "metadata": {},
   "source": [
    "Coverting **'DATE_OF_EVENT'** to timestamp data."
   ]
  },
  {
   "cell_type": "code",
   "execution_count": 54,
   "metadata": {},
   "outputs": [],
   "source": [
    "df['DATE_OF_EVENT'] = pd.to_datetime(df['DATE_OF_EVENT'])"
   ]
  },
  {
   "cell_type": "code",
   "execution_count": 55,
   "metadata": {},
   "outputs": [
    {
     "data": {
      "text/plain": [
       "DATE_OF_EVENT      datetime64[ns]\n",
       "EVENT_ID                   object\n",
       "USER_ID                    object\n",
       "WAY_ID                     object\n",
       "CAMPAIGN_ID                object\n",
       "PLACEMENT_ID               object\n",
       "INT_CAMPAIGN_ID            object\n",
       "MEDIUM_ID                  object\n",
       "PRODUCT_ID                 object\n",
       "REG_TRIG                    int64\n",
       "PMNT_TRIG                   int64\n",
       "dtype: object"
      ]
     },
     "execution_count": 55,
     "metadata": {},
     "output_type": "execute_result"
    }
   ],
   "source": [
    "df.dtypes"
   ]
  },
  {
   "cell_type": "markdown",
   "metadata": {},
   "source": [
    "Boolean values total number"
   ]
  },
  {
   "cell_type": "code",
   "execution_count": 56,
   "metadata": {},
   "outputs": [
    {
     "name": "stdout",
     "output_type": "stream",
     "text": [
      "REG_TRIG:  0    10614499\n",
      "1      247172\n",
      "Name: REG_TRIG, dtype: int64\n",
      "PMNT_TRIG:  0    10855549\n",
      "1        6122\n",
      "Name: PMNT_TRIG, dtype: int64\n"
     ]
    }
   ],
   "source": [
    "print('REG_TRIG: ', df['REG_TRIG'].value_counts())\n",
    "print('PMNT_TRIG: ', df['PMNT_TRIG'].value_counts())"
   ]
  },
  {
   "cell_type": "markdown",
   "metadata": {},
   "source": [
    "### WAY_ID feature"
   ]
  },
  {
   "cell_type": "markdown",
   "metadata": {},
   "source": [
    "**WAY_ID** - канал\\сплит"
   ]
  },
  {
   "cell_type": "code",
   "execution_count": 57,
   "metadata": {},
   "outputs": [
    {
     "data": {
      "text/plain": [
       "<matplotlib.axes._subplots.AxesSubplot at 0x1ce12ce43c8>"
      ]
     },
     "execution_count": 57,
     "metadata": {},
     "output_type": "execute_result"
    },
    {
     "data": {
      "image/png": "[encoded data removed]",
      "text/plain": [
       "<Figure size 1152x360 with 1 Axes>"
      ]
     },
     "metadata": {
      "needs_background": "light"
     },
     "output_type": "display_data"
    }
   ],
   "source": [
    "r = pl.figure(figsize=(16,5))\n",
    "sns.countplot(y='WAY_ID', hue='REG_TRIG', data=df, palette='Set2',  order = df['WAY_ID'].value_counts().index)"
   ]
  },
  {
   "cell_type": "code",
   "execution_count": 58,
   "metadata": {},
   "outputs": [
    {
     "data": {
      "text/plain": [
       "Text(0.5, 1.0, 'WAY_ID no A&B')"
      ]
     },
     "execution_count": 58,
     "metadata": {},
     "output_type": "execute_result"
    },
    {
     "data": {
      "image/png": "[encoded data removed]",
      "text/plain": [
       "<Figure size 1296x432 with 3 Axes>"
      ]
     },
     "metadata": {
      "needs_background": "light"
     },
     "output_type": "display_data"
    }
   ],
   "source": [
    "f, (ax1, ax2, ax3) = pl.subplots(ncols=3, figsize=(18,6))\n",
    "\n",
    "ax = sns.countplot(x='WAY_ID', hue='REG_TRIG', data=df, palette='GnBu_d', ax=ax1)\n",
    "ax1.set_title('WAY_ID')\n",
    "\n",
    "ax = sns.countplot(x='WAY_ID', hue='REG_TRIG', data=df.loc[df['WAY_ID'] != 'a'], palette='Set2', ax=ax2)\n",
    "ax2.set_title('WAY_ID no A')\n",
    "\n",
    "ax = sns.countplot(x='WAY_ID', hue='REG_TRIG', data=df.loc[(df['WAY_ID'] != 'a') & (df['WAY_ID'] != 'b')], palette='Set1', ax=ax3)\n",
    "ax3.set_title('WAY_ID no A&B')"
   ]
  },
  {
   "cell_type": "code",
   "execution_count": 59,
   "metadata": {},
   "outputs": [
    {
     "data": {
      "text/plain": [
       "<matplotlib.axes._subplots.AxesSubplot at 0x1ce085bfec8>"
      ]
     },
     "execution_count": 59,
     "metadata": {},
     "output_type": "execute_result"
    },
    {
     "data": {
      "image/png": "[encoded data removed]",
      "text/plain": [
       "<Figure size 1152x360 with 1 Axes>"
      ]
     },
     "metadata": {
      "needs_background": "light"
     },
     "output_type": "display_data"
    }
   ],
   "source": [
    "p = pl.figure(figsize=(16,5))\n",
    "sns.countplot(y='WAY_ID', hue='PMNT_TRIG', data=df, palette='Set2',  order = df['WAY_ID'].value_counts().index)"
   ]
  },
  {
   "cell_type": "code",
   "execution_count": 60,
   "metadata": {},
   "outputs": [
    {
     "data": {
      "text/plain": [
       "Text(0.5, 1.0, 'WAY_ID no A&B')"
      ]
     },
     "execution_count": 60,
     "metadata": {},
     "output_type": "execute_result"
    },
    {
     "data": {
      "image/png": "[encoded data removed]",
      "text/plain": [
       "<Figure size 1296x432 with 3 Axes>"
      ]
     },
     "metadata": {
      "needs_background": "light"
     },
     "output_type": "display_data"
    }
   ],
   "source": [
    "f, (ax1, ax2, ax3) = pl.subplots(ncols=3, figsize=(18,6))\n",
    "\n",
    "ax = sns.countplot(x='WAY_ID', hue='PMNT_TRIG', data=df, palette='GnBu_d', ax=ax1)\n",
    "ax1.set_title('WAY_ID')\n",
    "\n",
    "ax = sns.countplot(x='WAY_ID', hue='PMNT_TRIG', data=df.loc[df['WAY_ID'] != 'a'], palette='Set2', ax=ax2)\n",
    "ax2.set_title('WAY_ID no A')\n",
    "\n",
    "ax = sns.countplot(x='WAY_ID', hue='PMNT_TRIG', data=df.loc[(df['WAY_ID'] != 'a') & (df['WAY_ID'] != 'b')], palette='Set1', ax=ax3)\n",
    "ax3.set_title('WAY_ID no A&B')"
   ]
  },
  {
   "cell_type": "code",
   "execution_count": 61,
   "metadata": {},
   "outputs": [
    {
     "data": {
      "text/plain": [
       "(247172, 11)"
      ]
     },
     "execution_count": 61,
     "metadata": {},
     "output_type": "execute_result"
    }
   ],
   "source": [
    "REG = df.loc[df['REG_TRIG'] == 1]\n",
    "REG.shape"
   ]
  },
  {
   "cell_type": "code",
   "execution_count": 62,
   "metadata": {},
   "outputs": [
    {
     "data": {
      "text/plain": [
       "a    189870\n",
       "b     47184\n",
       "c      4120\n",
       "d      2987\n",
       "e      2972\n",
       "f        39\n",
       "Name: WAY_ID, dtype: int64"
      ]
     },
     "execution_count": 62,
     "metadata": {},
     "output_type": "execute_result"
    }
   ],
   "source": [
    "REG['WAY_ID'].value_counts()"
   ]
  },
  {
   "cell_type": "code",
   "execution_count": 63,
   "metadata": {},
   "outputs": [
    {
     "data": {
      "text/plain": [
       "<matplotlib.axes._subplots.AxesSubplot at 0x1ce088faf88>"
      ]
     },
     "execution_count": 63,
     "metadata": {},
     "output_type": "execute_result"
    },
    {
     "data": {
      "image/png": "[encoded data removed]",
      "text/plain": [
       "<Figure size 1152x360 with 1 Axes>"
      ]
     },
     "metadata": {
      "needs_background": "light"
     },
     "output_type": "display_data"
    }
   ],
   "source": [
    "r = pl.figure(figsize=(16,5))\n",
    "sns.countplot(y='WAY_ID', hue='PMNT_TRIG', data=REG, palette='GnBu_d')"
   ]
  },
  {
   "cell_type": "code",
   "execution_count": 64,
   "metadata": {},
   "outputs": [
    {
     "data": {
      "text/plain": [
       "Text(0.5, 1.0, 'WAY_ID no A&B')"
      ]
     },
     "execution_count": 64,
     "metadata": {},
     "output_type": "execute_result"
    },
    {
     "data": {
      "image/png": "[encoded data removed]",
      "text/plain": [
       "<Figure size 1296x432 with 3 Axes>"
      ]
     },
     "metadata": {
      "needs_background": "light"
     },
     "output_type": "display_data"
    }
   ],
   "source": [
    "f, (ax1, ax2, ax3) = pl.subplots(ncols=3, figsize=(18,6))\n",
    "\n",
    "ax = sns.countplot(x='WAY_ID', hue='PMNT_TRIG', data=REG, palette='GnBu_d', ax=ax1)\n",
    "ax1.set_title('WAY_ID')\n",
    "\n",
    "ax = sns.countplot(x='WAY_ID', hue='PMNT_TRIG', data=REG.loc[REG['WAY_ID'] != 'a'], palette='Set2', ax=ax2)\n",
    "ax2.set_title('WAY_ID no A')\n",
    "\n",
    "ax = sns.countplot(x='WAY_ID', hue='PMNT_TRIG', data=REG.loc[(REG['WAY_ID'] != 'a') & (REG['WAY_ID'] != 'b')], palette='Set1', ax=ax3)\n",
    "ax3.set_title('WAY_ID no A&B')"
   ]
  },
  {
   "cell_type": "code",
   "execution_count": 65,
   "metadata": {},
   "outputs": [
    {
     "data": {
      "text/plain": [
       "(6122, 11)"
      ]
     },
     "execution_count": 65,
     "metadata": {},
     "output_type": "execute_result"
    }
   ],
   "source": [
    "PMNT = df.loc[df['PMNT_TRIG'] == 1]\n",
    "PMNT.shape"
   ]
  },
  {
   "cell_type": "code",
   "execution_count": 66,
   "metadata": {},
   "outputs": [
    {
     "data": {
      "text/plain": [
       "<matplotlib.axes._subplots.AxesSubplot at 0x1ce14d08a48>"
      ]
     },
     "execution_count": 66,
     "metadata": {},
     "output_type": "execute_result"
    },
    {
     "data": {
      "image/png": "[encoded data removed]",
      "text/plain": [
       "<Figure size 1152x360 with 1 Axes>"
      ]
     },
     "metadata": {
      "needs_background": "light"
     },
     "output_type": "display_data"
    }
   ],
   "source": [
    "r = pl.figure(figsize=(16,5))\n",
    "sns.countplot(x ='WAY_ID', data=PMNT, palette='Set3')"
   ]
  },
  {
   "cell_type": "code",
   "execution_count": 67,
   "metadata": {},
   "outputs": [
    {
     "data": {
      "text/plain": [
       "a    4667\n",
       "b    1239\n",
       "c      90\n",
       "d      74\n",
       "e      52\n",
       "Name: WAY_ID, dtype: int64"
      ]
     },
     "execution_count": 67,
     "metadata": {},
     "output_type": "execute_result"
    }
   ],
   "source": [
    "PMNT['WAY_ID'].value_counts()"
   ]
  },
  {
   "cell_type": "code",
   "execution_count": 68,
   "metadata": {},
   "outputs": [
    {
     "data": {
      "text/plain": [
       "a    189870\n",
       "b     47184\n",
       "c      4120\n",
       "d      2987\n",
       "e      2972\n",
       "f        39\n",
       "Name: WAY_ID, dtype: int64"
      ]
     },
     "execution_count": 68,
     "metadata": {},
     "output_type": "execute_result"
    }
   ],
   "source": [
    "REG['WAY_ID'].value_counts()"
   ]
  },
  {
   "cell_type": "code",
   "execution_count": 69,
   "metadata": {},
   "outputs": [
    {
     "data": {
      "text/plain": [
       "a    6770949\n",
       "b    1933736\n",
       "c     754508\n",
       "e     701175\n",
       "d     700882\n",
       "f        421\n",
       "Name: WAY_ID, dtype: int64"
      ]
     },
     "execution_count": 69,
     "metadata": {},
     "output_type": "execute_result"
    }
   ],
   "source": [
    "df['WAY_ID'].value_counts()"
   ]
  },
  {
   "cell_type": "markdown",
   "metadata": {},
   "source": [
    "### DATE_OF_EVENT feature"
   ]
  },
  {
   "cell_type": "code",
   "execution_count": 70,
   "metadata": {},
   "outputs": [],
   "source": [
    "df['DAY'] = df['DATE_OF_EVENT'].dt.day"
   ]
  },
  {
   "cell_type": "code",
   "execution_count": 71,
   "metadata": {},
   "outputs": [
    {
     "data": {
      "image/png": "[encoded data removed]",
      "text/plain": [
       "<Figure size 1152x360 with 1 Axes>"
      ]
     },
     "metadata": {
      "needs_background": "light"
     },
     "output_type": "display_data"
    }
   ],
   "source": [
    "pl.figure(figsize=(16,5))\n",
    "ax = sns.countplot(x ='DAY', hue='REG_TRIG', data=df, palette='coolwarm', order = df['DAY'].value_counts().index)"
   ]
  },
  {
   "cell_type": "code",
   "execution_count": 72,
   "metadata": {},
   "outputs": [
    {
     "data": {
      "text/plain": [
       "7     19177\n",
       "8     18825\n",
       "15    18265\n",
       "6     18199\n",
       "1     17629\n",
       "11    17284\n",
       "14    16970\n",
       "9     16435\n",
       "3     16341\n",
       "2     16337\n",
       "10    16310\n",
       "4     16301\n",
       "5     14858\n",
       "12    14565\n",
       "13     9676\n",
       "Name: DAY, dtype: int64"
      ]
     },
     "execution_count": 72,
     "metadata": {},
     "output_type": "execute_result"
    }
   ],
   "source": [
    "REGD = REG.copy()\n",
    "REGD['DAY'] = REGD['DATE_OF_EVENT'].dt.day\n",
    "REGD['DAY'].value_counts()"
   ]
  },
  {
   "cell_type": "code",
   "execution_count": 73,
   "metadata": {},
   "outputs": [
    {
     "data": {
      "text/plain": [
       "15    810146\n",
       "8     798571\n",
       "6     770349\n",
       "11    763406\n",
       "9     761571\n",
       "7     755626\n",
       "5     744249\n",
       "10    713672\n",
       "13    710053\n",
       "4     704748\n",
       "12    695981\n",
       "3     691634\n",
       "1     681716\n",
       "2     644742\n",
       "14    615207\n",
       "Name: DAY, dtype: int64"
      ]
     },
     "execution_count": 73,
     "metadata": {},
     "output_type": "execute_result"
    }
   ],
   "source": [
    "df['DAY'].value_counts()"
   ]
  },
  {
   "cell_type": "code",
   "execution_count": 74,
   "metadata": {},
   "outputs": [
    {
     "data": {
      "image/png": "[encoded data removed]",
      "text/plain": [
       "<Figure size 1152x360 with 1 Axes>"
      ]
     },
     "metadata": {
      "needs_background": "light"
     },
     "output_type": "display_data"
    }
   ],
   "source": [
    "pl.figure(figsize=(16,5))\n",
    "ax = sns.countplot(x ='DAY', hue='PMNT_TRIG', data=REGD, palette='rainbow')"
   ]
  },
  {
   "cell_type": "code",
   "execution_count": 75,
   "metadata": {},
   "outputs": [
    {
     "data": {
      "text/plain": [
       "1     470\n",
       "2     462\n",
       "6     457\n",
       "15    450\n",
       "10    436\n",
       "4     434\n",
       "8     433\n",
       "7     432\n",
       "14    420\n",
       "3     414\n",
       "11    412\n",
       "5     394\n",
       "9     361\n",
       "12    324\n",
       "13    223\n",
       "Name: DAY, dtype: int64"
      ]
     },
     "execution_count": 75,
     "metadata": {},
     "output_type": "execute_result"
    }
   ],
   "source": [
    "PMNTD = PMNT.copy()\n",
    "PMNTD['DAY'] = PMNTD['DATE_OF_EVENT'].dt.day\n",
    "PMNTD['DAY'].value_counts()"
   ]
  },
  {
   "cell_type": "code",
   "execution_count": 76,
   "metadata": {},
   "outputs": [
    {
     "data": {
      "text/plain": [
       "<matplotlib.axes._subplots.AxesSubplot at 0x1ce155bc888>"
      ]
     },
     "execution_count": 76,
     "metadata": {},
     "output_type": "execute_result"
    },
    {
     "data": {
      "image/png": "[encoded data removed]",
      "text/plain": [
       "<Figure size 1152x360 with 1 Axes>"
      ]
     },
     "metadata": {
      "needs_background": "light"
     },
     "output_type": "display_data"
    }
   ],
   "source": [
    "r = pl.figure(figsize=(16,5))\n",
    "sns.countplot(x ='DAY', data=PMNTD, palette='coolwarm')"
   ]
  },
  {
   "cell_type": "code",
   "execution_count": 77,
   "metadata": {},
   "outputs": [
    {
     "data": {
      "text/html": [
       "<div>\n",
       "<style scoped>\n",
       "    .dataframe tbody tr th:only-of-type {\n",
       "        vertical-align: middle;\n",
       "    }\n",
       "\n",
       "    .dataframe tbody tr th {\n",
       "        vertical-align: top;\n",
       "    }\n",
       "\n",
       "    .dataframe thead th {\n",
       "        text-align: right;\n",
       "    }\n",
       "</style>\n",
       "<table border=\"1\" class=\"dataframe\">\n",
       "  <thead>\n",
       "    <tr style=\"text-align: right;\">\n",
       "      <th>DAY</th>\n",
       "      <th>1</th>\n",
       "      <th>2</th>\n",
       "      <th>3</th>\n",
       "      <th>4</th>\n",
       "      <th>5</th>\n",
       "      <th>6</th>\n",
       "      <th>7</th>\n",
       "      <th>8</th>\n",
       "      <th>9</th>\n",
       "      <th>10</th>\n",
       "      <th>11</th>\n",
       "      <th>12</th>\n",
       "      <th>13</th>\n",
       "      <th>14</th>\n",
       "      <th>15</th>\n",
       "    </tr>\n",
       "    <tr>\n",
       "      <th>WAY_ID</th>\n",
       "      <th></th>\n",
       "      <th></th>\n",
       "      <th></th>\n",
       "      <th></th>\n",
       "      <th></th>\n",
       "      <th></th>\n",
       "      <th></th>\n",
       "      <th></th>\n",
       "      <th></th>\n",
       "      <th></th>\n",
       "      <th></th>\n",
       "      <th></th>\n",
       "      <th></th>\n",
       "      <th></th>\n",
       "      <th></th>\n",
       "    </tr>\n",
       "  </thead>\n",
       "  <tbody>\n",
       "    <tr>\n",
       "      <td>a</td>\n",
       "      <td>362963</td>\n",
       "      <td>360141</td>\n",
       "      <td>396986</td>\n",
       "      <td>423257</td>\n",
       "      <td>466025</td>\n",
       "      <td>457677</td>\n",
       "      <td>433792</td>\n",
       "      <td>455523</td>\n",
       "      <td>491054</td>\n",
       "      <td>445824</td>\n",
       "      <td>496130</td>\n",
       "      <td>451466</td>\n",
       "      <td>488586</td>\n",
       "      <td>423431</td>\n",
       "      <td>618094</td>\n",
       "    </tr>\n",
       "    <tr>\n",
       "      <td>b</td>\n",
       "      <td>129038</td>\n",
       "      <td>121298</td>\n",
       "      <td>123220</td>\n",
       "      <td>119529</td>\n",
       "      <td>120283</td>\n",
       "      <td>144731</td>\n",
       "      <td>155156</td>\n",
       "      <td>175660</td>\n",
       "      <td>138053</td>\n",
       "      <td>138739</td>\n",
       "      <td>132145</td>\n",
       "      <td>123290</td>\n",
       "      <td>118121</td>\n",
       "      <td>95403</td>\n",
       "      <td>99070</td>\n",
       "    </tr>\n",
       "    <tr>\n",
       "      <td>c</td>\n",
       "      <td>63277</td>\n",
       "      <td>54578</td>\n",
       "      <td>57305</td>\n",
       "      <td>54913</td>\n",
       "      <td>54288</td>\n",
       "      <td>57225</td>\n",
       "      <td>56828</td>\n",
       "      <td>56443</td>\n",
       "      <td>44270</td>\n",
       "      <td>42961</td>\n",
       "      <td>47505</td>\n",
       "      <td>46251</td>\n",
       "      <td>41622</td>\n",
       "      <td>38936</td>\n",
       "      <td>38106</td>\n",
       "    </tr>\n",
       "    <tr>\n",
       "      <td>d</td>\n",
       "      <td>63231</td>\n",
       "      <td>54451</td>\n",
       "      <td>57025</td>\n",
       "      <td>53490</td>\n",
       "      <td>51835</td>\n",
       "      <td>55248</td>\n",
       "      <td>54848</td>\n",
       "      <td>55409</td>\n",
       "      <td>44020</td>\n",
       "      <td>42986</td>\n",
       "      <td>43812</td>\n",
       "      <td>37589</td>\n",
       "      <td>30866</td>\n",
       "      <td>28711</td>\n",
       "      <td>27361</td>\n",
       "    </tr>\n",
       "    <tr>\n",
       "      <td>e</td>\n",
       "      <td>63201</td>\n",
       "      <td>54272</td>\n",
       "      <td>57094</td>\n",
       "      <td>53555</td>\n",
       "      <td>51816</td>\n",
       "      <td>55290</td>\n",
       "      <td>54802</td>\n",
       "      <td>55517</td>\n",
       "      <td>44173</td>\n",
       "      <td>43160</td>\n",
       "      <td>43814</td>\n",
       "      <td>37383</td>\n",
       "      <td>30858</td>\n",
       "      <td>28725</td>\n",
       "      <td>27515</td>\n",
       "    </tr>\n",
       "    <tr>\n",
       "      <td>f</td>\n",
       "      <td>6</td>\n",
       "      <td>2</td>\n",
       "      <td>4</td>\n",
       "      <td>4</td>\n",
       "      <td>2</td>\n",
       "      <td>178</td>\n",
       "      <td>200</td>\n",
       "      <td>19</td>\n",
       "      <td>1</td>\n",
       "      <td>2</td>\n",
       "      <td>0</td>\n",
       "      <td>2</td>\n",
       "      <td>0</td>\n",
       "      <td>1</td>\n",
       "      <td>0</td>\n",
       "    </tr>\n",
       "  </tbody>\n",
       "</table>\n",
       "</div>"
      ],
      "text/plain": [
       "DAY         1       2       3       4       5       6       7       8   \\\n",
       "WAY_ID                                                                   \n",
       "a       362963  360141  396986  423257  466025  457677  433792  455523   \n",
       "b       129038  121298  123220  119529  120283  144731  155156  175660   \n",
       "c        63277   54578   57305   54913   54288   57225   56828   56443   \n",
       "d        63231   54451   57025   53490   51835   55248   54848   55409   \n",
       "e        63201   54272   57094   53555   51816   55290   54802   55517   \n",
       "f            6       2       4       4       2     178     200      19   \n",
       "\n",
       "DAY         9       10      11      12      13      14      15  \n",
       "WAY_ID                                                          \n",
       "a       491054  445824  496130  451466  488586  423431  618094  \n",
       "b       138053  138739  132145  123290  118121   95403   99070  \n",
       "c        44270   42961   47505   46251   41622   38936   38106  \n",
       "d        44020   42986   43812   37589   30866   28711   27361  \n",
       "e        44173   43160   43814   37383   30858   28725   27515  \n",
       "f            1       2       0       2       0       1       0  "
      ]
     },
     "execution_count": 77,
     "metadata": {},
     "output_type": "execute_result"
    }
   ],
   "source": [
    "wd = pd.crosstab(df.WAY_ID,df.DAY)\n",
    "wd"
   ]
  },
  {
   "cell_type": "code",
   "execution_count": 78,
   "metadata": {},
   "outputs": [
    {
     "data": {
      "text/plain": [
       "(6.0, 0.0)"
      ]
     },
     "execution_count": 78,
     "metadata": {},
     "output_type": "execute_result"
    },
    {
     "data": {
      "image/png": "[encoded data removed]",
      "text/plain": [
       "<Figure size 1080x432 with 2 Axes>"
      ]
     },
     "metadata": {
      "needs_background": "light"
     },
     "output_type": "display_data"
    }
   ],
   "source": [
    "f, ax = pl.subplots(figsize=(15, 6))\n",
    "sns.heatmap(wd, annot=True, fmt=\"d\", linewidths=.5, ax=ax, cmap=\"coolwarm\")\n",
    "bottom, top = ax.get_ylim()\n",
    "ax.set_ylim(bottom + 0.5, top - 0.5)"
   ]
  },
  {
   "cell_type": "code",
   "execution_count": 80,
   "metadata": {},
   "outputs": [
    {
     "data": {
      "text/html": [
       "<div>\n",
       "<style scoped>\n",
       "    .dataframe tbody tr th:only-of-type {\n",
       "        vertical-align: middle;\n",
       "    }\n",
       "\n",
       "    .dataframe tbody tr th {\n",
       "        vertical-align: top;\n",
       "    }\n",
       "\n",
       "    .dataframe thead th {\n",
       "        text-align: right;\n",
       "    }\n",
       "</style>\n",
       "<table border=\"1\" class=\"dataframe\">\n",
       "  <thead>\n",
       "    <tr style=\"text-align: right;\">\n",
       "      <th>DAY</th>\n",
       "      <th>1</th>\n",
       "      <th>2</th>\n",
       "      <th>3</th>\n",
       "      <th>4</th>\n",
       "      <th>5</th>\n",
       "      <th>6</th>\n",
       "      <th>7</th>\n",
       "      <th>8</th>\n",
       "      <th>9</th>\n",
       "      <th>10</th>\n",
       "      <th>11</th>\n",
       "      <th>12</th>\n",
       "      <th>13</th>\n",
       "      <th>14</th>\n",
       "      <th>15</th>\n",
       "    </tr>\n",
       "    <tr>\n",
       "      <th>WAY_ID</th>\n",
       "      <th></th>\n",
       "      <th></th>\n",
       "      <th></th>\n",
       "      <th></th>\n",
       "      <th></th>\n",
       "      <th></th>\n",
       "      <th></th>\n",
       "      <th></th>\n",
       "      <th></th>\n",
       "      <th></th>\n",
       "      <th></th>\n",
       "      <th></th>\n",
       "      <th></th>\n",
       "      <th></th>\n",
       "      <th></th>\n",
       "    </tr>\n",
       "  </thead>\n",
       "  <tbody>\n",
       "    <tr>\n",
       "      <td>a</td>\n",
       "      <td>13316</td>\n",
       "      <td>12400</td>\n",
       "      <td>12385</td>\n",
       "      <td>12301</td>\n",
       "      <td>11102</td>\n",
       "      <td>13212</td>\n",
       "      <td>13648</td>\n",
       "      <td>13471</td>\n",
       "      <td>12296</td>\n",
       "      <td>12394</td>\n",
       "      <td>13262</td>\n",
       "      <td>11681</td>\n",
       "      <td>8244</td>\n",
       "      <td>14564</td>\n",
       "      <td>15594</td>\n",
       "    </tr>\n",
       "    <tr>\n",
       "      <td>b</td>\n",
       "      <td>3342</td>\n",
       "      <td>3107</td>\n",
       "      <td>3243</td>\n",
       "      <td>3222</td>\n",
       "      <td>2977</td>\n",
       "      <td>4066</td>\n",
       "      <td>4688</td>\n",
       "      <td>4580</td>\n",
       "      <td>3646</td>\n",
       "      <td>3417</td>\n",
       "      <td>3312</td>\n",
       "      <td>2298</td>\n",
       "      <td>1053</td>\n",
       "      <td>1946</td>\n",
       "      <td>2287</td>\n",
       "    </tr>\n",
       "    <tr>\n",
       "      <td>c</td>\n",
       "      <td>346</td>\n",
       "      <td>302</td>\n",
       "      <td>237</td>\n",
       "      <td>320</td>\n",
       "      <td>313</td>\n",
       "      <td>386</td>\n",
       "      <td>334</td>\n",
       "      <td>310</td>\n",
       "      <td>215</td>\n",
       "      <td>168</td>\n",
       "      <td>300</td>\n",
       "      <td>262</td>\n",
       "      <td>171</td>\n",
       "      <td>264</td>\n",
       "      <td>192</td>\n",
       "    </tr>\n",
       "    <tr>\n",
       "      <td>d</td>\n",
       "      <td>303</td>\n",
       "      <td>251</td>\n",
       "      <td>252</td>\n",
       "      <td>242</td>\n",
       "      <td>230</td>\n",
       "      <td>271</td>\n",
       "      <td>273</td>\n",
       "      <td>234</td>\n",
       "      <td>133</td>\n",
       "      <td>168</td>\n",
       "      <td>207</td>\n",
       "      <td>147</td>\n",
       "      <td>104</td>\n",
       "      <td>82</td>\n",
       "      <td>90</td>\n",
       "    </tr>\n",
       "    <tr>\n",
       "      <td>e</td>\n",
       "      <td>322</td>\n",
       "      <td>277</td>\n",
       "      <td>223</td>\n",
       "      <td>215</td>\n",
       "      <td>236</td>\n",
       "      <td>242</td>\n",
       "      <td>223</td>\n",
       "      <td>227</td>\n",
       "      <td>145</td>\n",
       "      <td>163</td>\n",
       "      <td>203</td>\n",
       "      <td>177</td>\n",
       "      <td>104</td>\n",
       "      <td>113</td>\n",
       "      <td>102</td>\n",
       "    </tr>\n",
       "    <tr>\n",
       "      <td>f</td>\n",
       "      <td>0</td>\n",
       "      <td>0</td>\n",
       "      <td>1</td>\n",
       "      <td>1</td>\n",
       "      <td>0</td>\n",
       "      <td>22</td>\n",
       "      <td>11</td>\n",
       "      <td>3</td>\n",
       "      <td>0</td>\n",
       "      <td>0</td>\n",
       "      <td>0</td>\n",
       "      <td>0</td>\n",
       "      <td>0</td>\n",
       "      <td>1</td>\n",
       "      <td>0</td>\n",
       "    </tr>\n",
       "  </tbody>\n",
       "</table>\n",
       "</div>"
      ],
      "text/plain": [
       "DAY        1      2      3      4      5      6      7      8      9      10  \\\n",
       "WAY_ID                                                                         \n",
       "a       13316  12400  12385  12301  11102  13212  13648  13471  12296  12394   \n",
       "b        3342   3107   3243   3222   2977   4066   4688   4580   3646   3417   \n",
       "c         346    302    237    320    313    386    334    310    215    168   \n",
       "d         303    251    252    242    230    271    273    234    133    168   \n",
       "e         322    277    223    215    236    242    223    227    145    163   \n",
       "f           0      0      1      1      0     22     11      3      0      0   \n",
       "\n",
       "DAY        11     12    13     14     15  \n",
       "WAY_ID                                    \n",
       "a       13262  11681  8244  14564  15594  \n",
       "b        3312   2298  1053   1946   2287  \n",
       "c         300    262   171    264    192  \n",
       "d         207    147   104     82     90  \n",
       "e         203    177   104    113    102  \n",
       "f           0      0     0      1      0  "
      ]
     },
     "execution_count": 80,
     "metadata": {},
     "output_type": "execute_result"
    }
   ],
   "source": [
    "wdr = pd.crosstab(REGD.WAY_ID,REGD.DAY)\n",
    "wdr"
   ]
  },
  {
   "cell_type": "code",
   "execution_count": 81,
   "metadata": {},
   "outputs": [
    {
     "data": {
      "text/plain": [
       "(6.0, 0.0)"
      ]
     },
     "execution_count": 81,
     "metadata": {},
     "output_type": "execute_result"
    },
    {
     "data": {
      "image/png": "[encoded data removed]",
      "text/plain": [
       "<Figure size 1080x432 with 2 Axes>"
      ]
     },
     "metadata": {
      "needs_background": "light"
     },
     "output_type": "display_data"
    }
   ],
   "source": [
    "f, ax = pl.subplots(figsize=(15, 6))\n",
    "sns.heatmap(wdr, annot=True, fmt=\"d\", linewidths=.5, ax=ax, cmap=\"coolwarm\")\n",
    "bottom, top = ax.get_ylim()\n",
    "ax.set_ylim(bottom + 0.5, top - 0.5)"
   ]
  },
  {
   "cell_type": "code",
   "execution_count": 82,
   "metadata": {},
   "outputs": [
    {
     "data": {
      "text/html": [
       "<div>\n",
       "<style scoped>\n",
       "    .dataframe tbody tr th:only-of-type {\n",
       "        vertical-align: middle;\n",
       "    }\n",
       "\n",
       "    .dataframe tbody tr th {\n",
       "        vertical-align: top;\n",
       "    }\n",
       "\n",
       "    .dataframe thead th {\n",
       "        text-align: right;\n",
       "    }\n",
       "</style>\n",
       "<table border=\"1\" class=\"dataframe\">\n",
       "  <thead>\n",
       "    <tr style=\"text-align: right;\">\n",
       "      <th>DAY</th>\n",
       "      <th>1</th>\n",
       "      <th>2</th>\n",
       "      <th>3</th>\n",
       "      <th>4</th>\n",
       "      <th>5</th>\n",
       "      <th>6</th>\n",
       "      <th>7</th>\n",
       "      <th>8</th>\n",
       "      <th>9</th>\n",
       "      <th>10</th>\n",
       "      <th>11</th>\n",
       "      <th>12</th>\n",
       "      <th>13</th>\n",
       "      <th>14</th>\n",
       "      <th>15</th>\n",
       "    </tr>\n",
       "    <tr>\n",
       "      <th>WAY_ID</th>\n",
       "      <th></th>\n",
       "      <th></th>\n",
       "      <th></th>\n",
       "      <th></th>\n",
       "      <th></th>\n",
       "      <th></th>\n",
       "      <th></th>\n",
       "      <th></th>\n",
       "      <th></th>\n",
       "      <th></th>\n",
       "      <th></th>\n",
       "      <th></th>\n",
       "      <th></th>\n",
       "      <th></th>\n",
       "      <th></th>\n",
       "    </tr>\n",
       "  </thead>\n",
       "  <tbody>\n",
       "    <tr>\n",
       "      <td>a</td>\n",
       "      <td>369</td>\n",
       "      <td>341</td>\n",
       "      <td>308</td>\n",
       "      <td>330</td>\n",
       "      <td>294</td>\n",
       "      <td>324</td>\n",
       "      <td>314</td>\n",
       "      <td>288</td>\n",
       "      <td>269</td>\n",
       "      <td>326</td>\n",
       "      <td>326</td>\n",
       "      <td>258</td>\n",
       "      <td>188</td>\n",
       "      <td>350</td>\n",
       "      <td>382</td>\n",
       "    </tr>\n",
       "    <tr>\n",
       "      <td>b</td>\n",
       "      <td>80</td>\n",
       "      <td>104</td>\n",
       "      <td>88</td>\n",
       "      <td>82</td>\n",
       "      <td>87</td>\n",
       "      <td>114</td>\n",
       "      <td>98</td>\n",
       "      <td>124</td>\n",
       "      <td>86</td>\n",
       "      <td>98</td>\n",
       "      <td>78</td>\n",
       "      <td>51</td>\n",
       "      <td>29</td>\n",
       "      <td>62</td>\n",
       "      <td>58</td>\n",
       "    </tr>\n",
       "    <tr>\n",
       "      <td>c</td>\n",
       "      <td>7</td>\n",
       "      <td>8</td>\n",
       "      <td>8</td>\n",
       "      <td>7</td>\n",
       "      <td>6</td>\n",
       "      <td>6</td>\n",
       "      <td>8</td>\n",
       "      <td>9</td>\n",
       "      <td>2</td>\n",
       "      <td>6</td>\n",
       "      <td>3</td>\n",
       "      <td>10</td>\n",
       "      <td>1</td>\n",
       "      <td>3</td>\n",
       "      <td>6</td>\n",
       "    </tr>\n",
       "    <tr>\n",
       "      <td>d</td>\n",
       "      <td>7</td>\n",
       "      <td>8</td>\n",
       "      <td>5</td>\n",
       "      <td>5</td>\n",
       "      <td>2</td>\n",
       "      <td>8</td>\n",
       "      <td>9</td>\n",
       "      <td>6</td>\n",
       "      <td>3</td>\n",
       "      <td>4</td>\n",
       "      <td>4</td>\n",
       "      <td>3</td>\n",
       "      <td>5</td>\n",
       "      <td>3</td>\n",
       "      <td>2</td>\n",
       "    </tr>\n",
       "    <tr>\n",
       "      <td>e</td>\n",
       "      <td>7</td>\n",
       "      <td>1</td>\n",
       "      <td>5</td>\n",
       "      <td>10</td>\n",
       "      <td>5</td>\n",
       "      <td>5</td>\n",
       "      <td>3</td>\n",
       "      <td>6</td>\n",
       "      <td>1</td>\n",
       "      <td>2</td>\n",
       "      <td>1</td>\n",
       "      <td>2</td>\n",
       "      <td>0</td>\n",
       "      <td>2</td>\n",
       "      <td>2</td>\n",
       "    </tr>\n",
       "  </tbody>\n",
       "</table>\n",
       "</div>"
      ],
      "text/plain": [
       "DAY      1    2    3    4    5    6    7    8    9    10   11   12   13   14  \\\n",
       "WAY_ID                                                                         \n",
       "a       369  341  308  330  294  324  314  288  269  326  326  258  188  350   \n",
       "b        80  104   88   82   87  114   98  124   86   98   78   51   29   62   \n",
       "c         7    8    8    7    6    6    8    9    2    6    3   10    1    3   \n",
       "d         7    8    5    5    2    8    9    6    3    4    4    3    5    3   \n",
       "e         7    1    5   10    5    5    3    6    1    2    1    2    0    2   \n",
       "\n",
       "DAY      15  \n",
       "WAY_ID       \n",
       "a       382  \n",
       "b        58  \n",
       "c         6  \n",
       "d         2  \n",
       "e         2  "
      ]
     },
     "execution_count": 82,
     "metadata": {},
     "output_type": "execute_result"
    }
   ],
   "source": [
    "wpd = pd.crosstab(PMNTD.WAY_ID,PMNTD.DAY)\n",
    "wpd"
   ]
  },
  {
   "cell_type": "code",
   "execution_count": 83,
   "metadata": {},
   "outputs": [
    {
     "data": {
      "text/plain": [
       "(5.0, 0.0)"
      ]
     },
     "execution_count": 83,
     "metadata": {},
     "output_type": "execute_result"
    },
    {
     "data": {
      "image/png": "[encoded data removed]",
      "text/plain": [
       "<Figure size 1080x432 with 2 Axes>"
      ]
     },
     "metadata": {
      "needs_background": "light"
     },
     "output_type": "display_data"
    }
   ],
   "source": [
    "f, ax = pl.subplots(figsize=(15, 6))\n",
    "sns.heatmap(wpd, annot=True, fmt=\"d\", linewidths=.5, ax=ax, cmap=\"coolwarm\")\n",
    "bottom, top = ax.get_ylim()\n",
    "ax.set_ylim(bottom + 0.5, top - 0.5)"
   ]
  },
  {
   "cell_type": "markdown",
   "metadata": {},
   "source": [
    "### CAMPAIGN_ID"
   ]
  },
  {
   "cell_type": "code",
   "execution_count": 84,
   "metadata": {},
   "outputs": [
    {
     "data": {
      "text/html": [
       "<div>\n",
       "<style scoped>\n",
       "    .dataframe tbody tr th:only-of-type {\n",
       "        vertical-align: middle;\n",
       "    }\n",
       "\n",
       "    .dataframe tbody tr th {\n",
       "        vertical-align: top;\n",
       "    }\n",
       "\n",
       "    .dataframe thead th {\n",
       "        text-align: right;\n",
       "    }\n",
       "</style>\n",
       "<table border=\"1\" class=\"dataframe\">\n",
       "  <thead>\n",
       "    <tr style=\"text-align: right;\">\n",
       "      <th></th>\n",
       "      <th>DATE_OF_EVENT</th>\n",
       "      <th>EVENT_ID</th>\n",
       "      <th>USER_ID</th>\n",
       "      <th>WAY_ID</th>\n",
       "      <th>CAMPAIGN_ID</th>\n",
       "      <th>PLACEMENT_ID</th>\n",
       "      <th>INT_CAMPAIGN_ID</th>\n",
       "      <th>MEDIUM_ID</th>\n",
       "      <th>PRODUCT_ID</th>\n",
       "      <th>REG_TRIG</th>\n",
       "      <th>PMNT_TRIG</th>\n",
       "      <th>DAY</th>\n",
       "    </tr>\n",
       "  </thead>\n",
       "  <tbody>\n",
       "    <tr>\n",
       "      <td>0</td>\n",
       "      <td>2017-05-05</td>\n",
       "      <td>a18841cf5c3208f4c3d7b139589bc897b1f29f45</td>\n",
       "      <td>ea62471c114233e16ef425975d13d51de9e8f20d</td>\n",
       "      <td>b</td>\n",
       "      <td>ex13m</td>\n",
       "      <td>15982135</td>\n",
       "      <td>g6932ish</td>\n",
       "      <td>20484</td>\n",
       "      <td>Product</td>\n",
       "      <td>0</td>\n",
       "      <td>0</td>\n",
       "      <td>5</td>\n",
       "    </tr>\n",
       "    <tr>\n",
       "      <td>1</td>\n",
       "      <td>2017-05-05</td>\n",
       "      <td>a1893bd515bf06853f45a3d0d038e96e5210fd72</td>\n",
       "      <td>0afaf3ac1ec6f685582145038bfece98f29f8fee</td>\n",
       "      <td>a</td>\n",
       "      <td>ex13m</td>\n",
       "      <td>16056045</td>\n",
       "      <td>g1417bel</td>\n",
       "      <td>19227</td>\n",
       "      <td>Product</td>\n",
       "      <td>0</td>\n",
       "      <td>0</td>\n",
       "      <td>5</td>\n",
       "    </tr>\n",
       "    <tr>\n",
       "      <td>2</td>\n",
       "      <td>2017-05-05</td>\n",
       "      <td>a1893f9ef3cdb2f62db472b0d51bfedf92e499e9</td>\n",
       "      <td>f7135b828d63cb008497f40496a9425d0edc752d</td>\n",
       "      <td>a</td>\n",
       "      <td>ex13p1p</td>\n",
       "      <td>16051115</td>\n",
       "      <td>g6746yar</td>\n",
       "      <td>19769</td>\n",
       "      <td>Product</td>\n",
       "      <td>0</td>\n",
       "      <td>0</td>\n",
       "      <td>5</td>\n",
       "    </tr>\n",
       "    <tr>\n",
       "      <td>3</td>\n",
       "      <td>2017-05-05</td>\n",
       "      <td>a189ffe910621a892af40d0ec3a9394bbee69875</td>\n",
       "      <td>b37c9d8a3801885db63369e661c00e5ec6bdfffa</td>\n",
       "      <td>a</td>\n",
       "      <td>tru3wb</td>\n",
       "      <td>231834</td>\n",
       "      <td>g5529bel</td>\n",
       "      <td>20443</td>\n",
       "      <td>wntmRfb4b6dc7647e11e6bf1e984be1741384_b2463e76...</td>\n",
       "      <td>0</td>\n",
       "      <td>0</td>\n",
       "      <td>5</td>\n",
       "    </tr>\n",
       "    <tr>\n",
       "      <td>4</td>\n",
       "      <td>2017-05-05</td>\n",
       "      <td>a18a240c3691c73d2c9465157824b1ad3e05b4b2</td>\n",
       "      <td>28dc89f5ecc3e14b64e38caedb97ffb959bc9839</td>\n",
       "      <td>a</td>\n",
       "      <td>th3m</td>\n",
       "      <td>In4j9u2h.gi4</td>\n",
       "      <td>g6388kro</td>\n",
       "      <td>17589</td>\n",
       "      <td>Product</td>\n",
       "      <td>0</td>\n",
       "      <td>0</td>\n",
       "      <td>5</td>\n",
       "    </tr>\n",
       "  </tbody>\n",
       "</table>\n",
       "</div>"
      ],
      "text/plain": [
       "  DATE_OF_EVENT                                  EVENT_ID  \\\n",
       "0    2017-05-05  a18841cf5c3208f4c3d7b139589bc897b1f29f45   \n",
       "1    2017-05-05  a1893bd515bf06853f45a3d0d038e96e5210fd72   \n",
       "2    2017-05-05  a1893f9ef3cdb2f62db472b0d51bfedf92e499e9   \n",
       "3    2017-05-05  a189ffe910621a892af40d0ec3a9394bbee69875   \n",
       "4    2017-05-05  a18a240c3691c73d2c9465157824b1ad3e05b4b2   \n",
       "\n",
       "                                    USER_ID WAY_ID CAMPAIGN_ID  PLACEMENT_ID  \\\n",
       "0  ea62471c114233e16ef425975d13d51de9e8f20d      b       ex13m      15982135   \n",
       "1  0afaf3ac1ec6f685582145038bfece98f29f8fee      a       ex13m      16056045   \n",
       "2  f7135b828d63cb008497f40496a9425d0edc752d      a     ex13p1p      16051115   \n",
       "3  b37c9d8a3801885db63369e661c00e5ec6bdfffa      a      tru3wb        231834   \n",
       "4  28dc89f5ecc3e14b64e38caedb97ffb959bc9839      a        th3m  In4j9u2h.gi4   \n",
       "\n",
       "  INT_CAMPAIGN_ID MEDIUM_ID  \\\n",
       "0        g6932ish     20484   \n",
       "1        g1417bel     19227   \n",
       "2        g6746yar     19769   \n",
       "3        g5529bel     20443   \n",
       "4        g6388kro     17589   \n",
       "\n",
       "                                          PRODUCT_ID  REG_TRIG  PMNT_TRIG  DAY  \n",
       "0                                            Product         0          0    5  \n",
       "1                                            Product         0          0    5  \n",
       "2                                            Product         0          0    5  \n",
       "3  wntmRfb4b6dc7647e11e6bf1e984be1741384_b2463e76...         0          0    5  \n",
       "4                                            Product         0          0    5  "
      ]
     },
     "execution_count": 84,
     "metadata": {},
     "output_type": "execute_result"
    }
   ],
   "source": [
    "df.head()"
   ]
  },
  {
   "cell_type": "code",
   "execution_count": 85,
   "metadata": {},
   "outputs": [
    {
     "data": {
      "text/plain": [
       "76"
      ]
     },
     "execution_count": 85,
     "metadata": {},
     "output_type": "execute_result"
    }
   ],
   "source": [
    "df['CAMPAIGN_ID'].nunique()"
   ]
  },
  {
   "cell_type": "code",
   "execution_count": 86,
   "metadata": {},
   "outputs": [
    {
     "data": {
      "text/plain": [
       "wh3um       3484519\n",
       "tE4         1745435\n",
       "ex13m       1156423\n",
       "ex13p1p      916732\n",
       "tru3bm       830839\n",
       "whell3bm     487584\n",
       "tj3ub        411604\n",
       "tru3wp       391027\n",
       "tj3m         348831\n",
       "tru3wb       182917\n",
       "Name: CAMPAIGN_ID, dtype: int64"
      ]
     },
     "execution_count": 86,
     "metadata": {},
     "output_type": "execute_result"
    }
   ],
   "source": [
    "df['CAMPAIGN_ID'].value_counts().nlargest(10)"
   ]
  },
  {
   "cell_type": "code",
   "execution_count": 87,
   "metadata": {},
   "outputs": [
    {
     "data": {
      "text/plain": [
       "tE4         2247\n",
       "ex13m       1111\n",
       "tj3m         602\n",
       "tru3bm       301\n",
       "wh3um        297\n",
       "wh3bm        223\n",
       "lvc3bm       192\n",
       "th3m         188\n",
       "78dnm3bm     174\n",
       "tru3wb        87\n",
       "Name: CAMPAIGN_ID, dtype: int64"
      ]
     },
     "execution_count": 87,
     "metadata": {},
     "output_type": "execute_result"
    }
   ],
   "source": [
    "PMNT['CAMPAIGN_ID'].value_counts().nlargest(10)"
   ]
  },
  {
   "cell_type": "markdown",
   "metadata": {},
   "source": [
    "Top 10 CAMPAIGN_ID by the number of events"
   ]
  },
  {
   "cell_type": "code",
   "execution_count": 88,
   "metadata": {},
   "outputs": [
    {
     "data": {
      "text/plain": [
       "<matplotlib.axes._subplots.AxesSubplot at 0x1cf1e86e9c8>"
      ]
     },
     "execution_count": 88,
     "metadata": {},
     "output_type": "execute_result"
    },
    {
     "data": {
      "image/png": "[encoded data removed]",
      "text/plain": [
       "<Figure size 720x360 with 1 Axes>"
      ]
     },
     "metadata": {
      "needs_background": "light"
     },
     "output_type": "display_data"
    }
   ],
   "source": [
    "CAMPAIGN_ID_count  = df['CAMPAIGN_ID'].value_counts()\n",
    "CAMPAIGN_ID_count = CAMPAIGN_ID_count[:10,]\n",
    "pl.figure(figsize=(10,5))\n",
    "sns.barplot(CAMPAIGN_ID_count.index, CAMPAIGN_ID_count.values, alpha=0.8, palette='rainbow')"
   ]
  },
  {
   "cell_type": "markdown",
   "metadata": {},
   "source": [
    "Top 10 CAMPAIGN_ID by the number of registrations"
   ]
  },
  {
   "cell_type": "code",
   "execution_count": 89,
   "metadata": {},
   "outputs": [
    {
     "data": {
      "text/plain": [
       "tE4         88611\n",
       "ex13m       40136\n",
       "tj3m        28030\n",
       "wh3um       12722\n",
       "tru3bm      12105\n",
       "th3m        11373\n",
       "78dnm3bm     6300\n",
       "lvc3bm       6244\n",
       "wh3bm        4615\n",
       "tj3ub        4363\n",
       "Name: CAMPAIGN_ID, dtype: int64"
      ]
     },
     "execution_count": 89,
     "metadata": {},
     "output_type": "execute_result"
    }
   ],
   "source": [
    "REG['CAMPAIGN_ID'].value_counts().nlargest(10)"
   ]
  },
  {
   "cell_type": "code",
   "execution_count": 90,
   "metadata": {},
   "outputs": [
    {
     "data": {
      "text/plain": [
       "<matplotlib.axes._subplots.AxesSubplot at 0x1cf1e8fbf48>"
      ]
     },
     "execution_count": 90,
     "metadata": {},
     "output_type": "execute_result"
    },
    {
     "data": {
      "image/png": "[encoded data removed]",
      "text/plain": [
       "<Figure size 720x360 with 1 Axes>"
      ]
     },
     "metadata": {
      "needs_background": "light"
     },
     "output_type": "display_data"
    }
   ],
   "source": [
    "CAMPAIGN_ID_countR  = REG['CAMPAIGN_ID'].value_counts()\n",
    "CAMPAIGN_ID_countR = CAMPAIGN_ID_countR[:10,]\n",
    "pl.figure(figsize=(10,5))\n",
    "sns.barplot(CAMPAIGN_ID_countR.index, CAMPAIGN_ID_countR.values, alpha=0.8, palette='rainbow')"
   ]
  },
  {
   "cell_type": "markdown",
   "metadata": {},
   "source": [
    "Top 10 CAMPAIGN_ID by the number of payments"
   ]
  },
  {
   "cell_type": "code",
   "execution_count": 91,
   "metadata": {},
   "outputs": [
    {
     "data": {
      "text/plain": [
       "tE4         2247\n",
       "ex13m       1111\n",
       "tj3m         602\n",
       "tru3bm       301\n",
       "wh3um        297\n",
       "wh3bm        223\n",
       "lvc3bm       192\n",
       "th3m         188\n",
       "78dnm3bm     174\n",
       "tru3wb        87\n",
       "Name: CAMPAIGN_ID, dtype: int64"
      ]
     },
     "execution_count": 91,
     "metadata": {},
     "output_type": "execute_result"
    }
   ],
   "source": [
    "PMNT['CAMPAIGN_ID'].value_counts().nlargest(10)"
   ]
  },
  {
   "cell_type": "code",
   "execution_count": 92,
   "metadata": {},
   "outputs": [
    {
     "data": {
      "text/plain": [
       "<matplotlib.axes._subplots.AxesSubplot at 0x1ce1722ba88>"
      ]
     },
     "execution_count": 92,
     "metadata": {},
     "output_type": "execute_result"
    },
    {
     "data": {
      "image/png": "[encoded data removed]",
      "text/plain": [
       "<Figure size 720x360 with 1 Axes>"
      ]
     },
     "metadata": {
      "needs_background": "light"
     },
     "output_type": "display_data"
    }
   ],
   "source": [
    "CAMPAIGN_ID_countP  = PMNT['CAMPAIGN_ID'].value_counts()\n",
    "CAMPAIGN_ID_countP = CAMPAIGN_ID_count[:10,]\n",
    "pl.figure(figsize=(10,5))\n",
    "sns.barplot(CAMPAIGN_ID_countP.index, CAMPAIGN_ID_countP.values, alpha=0.8, palette='rainbow')"
   ]
  },
  {
   "cell_type": "code",
   "execution_count": 93,
   "metadata": {},
   "outputs": [
    {
     "data": {
      "text/plain": [
       "Text(0.5, 1.0, 'Events')"
      ]
     },
     "execution_count": 93,
     "metadata": {},
     "output_type": "execute_result"
    },
    {
     "data": {
      "image/png": "[encoded data removed]",
      "text/plain": [
       "<Figure size 1296x432 with 3 Axes>"
      ]
     },
     "metadata": {
      "needs_background": "light"
     },
     "output_type": "display_data"
    }
   ],
   "source": [
    "f, (ax1, ax2, ax3) = pl.subplots(ncols=3, figsize=(18,6))\n",
    "\n",
    "sns.barplot(CAMPAIGN_ID_countP.index, CAMPAIGN_ID_countP.values, alpha=0.8, palette='rainbow', ax=ax1)\n",
    "ax1.set_xticklabels(ax1.get_xticklabels(), rotation=45)\n",
    "ax1.set_title('Payments')\n",
    "\n",
    "sns.barplot(CAMPAIGN_ID_countR.index, CAMPAIGN_ID_countR.values, alpha=0.8, palette='rainbow', ax=ax2)\n",
    "ax2.set_xticklabels(ax2.get_xticklabels(), rotation=45)\n",
    "ax2.set_title('Registrations')\n",
    "\n",
    "sns.barplot(CAMPAIGN_ID_count.index, CAMPAIGN_ID_count.values, alpha=0.8, palette='rainbow', ax=ax3)\n",
    "ax3.set_xticklabels(ax3.get_xticklabels(), rotation=45)\n",
    "ax3.set_title('Events')"
   ]
  },
  {
   "cell_type": "markdown",
   "metadata": {},
   "source": [
    "### PLACEMENT_ID"
   ]
  },
  {
   "cell_type": "code",
   "execution_count": 94,
   "metadata": {},
   "outputs": [
    {
     "data": {
      "text/html": [
       "<div>\n",
       "<style scoped>\n",
       "    .dataframe tbody tr th:only-of-type {\n",
       "        vertical-align: middle;\n",
       "    }\n",
       "\n",
       "    .dataframe tbody tr th {\n",
       "        vertical-align: top;\n",
       "    }\n",
       "\n",
       "    .dataframe thead th {\n",
       "        text-align: right;\n",
       "    }\n",
       "</style>\n",
       "<table border=\"1\" class=\"dataframe\">\n",
       "  <thead>\n",
       "    <tr style=\"text-align: right;\">\n",
       "      <th></th>\n",
       "      <th>DATE_OF_EVENT</th>\n",
       "      <th>EVENT_ID</th>\n",
       "      <th>USER_ID</th>\n",
       "      <th>WAY_ID</th>\n",
       "      <th>CAMPAIGN_ID</th>\n",
       "      <th>PLACEMENT_ID</th>\n",
       "      <th>INT_CAMPAIGN_ID</th>\n",
       "      <th>MEDIUM_ID</th>\n",
       "      <th>PRODUCT_ID</th>\n",
       "      <th>REG_TRIG</th>\n",
       "      <th>PMNT_TRIG</th>\n",
       "      <th>DAY</th>\n",
       "    </tr>\n",
       "  </thead>\n",
       "  <tbody>\n",
       "    <tr>\n",
       "      <td>0</td>\n",
       "      <td>2017-05-05</td>\n",
       "      <td>a18841cf5c3208f4c3d7b139589bc897b1f29f45</td>\n",
       "      <td>ea62471c114233e16ef425975d13d51de9e8f20d</td>\n",
       "      <td>b</td>\n",
       "      <td>ex13m</td>\n",
       "      <td>15982135</td>\n",
       "      <td>g6932ish</td>\n",
       "      <td>20484</td>\n",
       "      <td>Product</td>\n",
       "      <td>0</td>\n",
       "      <td>0</td>\n",
       "      <td>5</td>\n",
       "    </tr>\n",
       "    <tr>\n",
       "      <td>1</td>\n",
       "      <td>2017-05-05</td>\n",
       "      <td>a1893bd515bf06853f45a3d0d038e96e5210fd72</td>\n",
       "      <td>0afaf3ac1ec6f685582145038bfece98f29f8fee</td>\n",
       "      <td>a</td>\n",
       "      <td>ex13m</td>\n",
       "      <td>16056045</td>\n",
       "      <td>g1417bel</td>\n",
       "      <td>19227</td>\n",
       "      <td>Product</td>\n",
       "      <td>0</td>\n",
       "      <td>0</td>\n",
       "      <td>5</td>\n",
       "    </tr>\n",
       "    <tr>\n",
       "      <td>2</td>\n",
       "      <td>2017-05-05</td>\n",
       "      <td>a1893f9ef3cdb2f62db472b0d51bfedf92e499e9</td>\n",
       "      <td>f7135b828d63cb008497f40496a9425d0edc752d</td>\n",
       "      <td>a</td>\n",
       "      <td>ex13p1p</td>\n",
       "      <td>16051115</td>\n",
       "      <td>g6746yar</td>\n",
       "      <td>19769</td>\n",
       "      <td>Product</td>\n",
       "      <td>0</td>\n",
       "      <td>0</td>\n",
       "      <td>5</td>\n",
       "    </tr>\n",
       "    <tr>\n",
       "      <td>3</td>\n",
       "      <td>2017-05-05</td>\n",
       "      <td>a189ffe910621a892af40d0ec3a9394bbee69875</td>\n",
       "      <td>b37c9d8a3801885db63369e661c00e5ec6bdfffa</td>\n",
       "      <td>a</td>\n",
       "      <td>tru3wb</td>\n",
       "      <td>231834</td>\n",
       "      <td>g5529bel</td>\n",
       "      <td>20443</td>\n",
       "      <td>wntmRfb4b6dc7647e11e6bf1e984be1741384_b2463e76...</td>\n",
       "      <td>0</td>\n",
       "      <td>0</td>\n",
       "      <td>5</td>\n",
       "    </tr>\n",
       "    <tr>\n",
       "      <td>4</td>\n",
       "      <td>2017-05-05</td>\n",
       "      <td>a18a240c3691c73d2c9465157824b1ad3e05b4b2</td>\n",
       "      <td>28dc89f5ecc3e14b64e38caedb97ffb959bc9839</td>\n",
       "      <td>a</td>\n",
       "      <td>th3m</td>\n",
       "      <td>In4j9u2h.gi4</td>\n",
       "      <td>g6388kro</td>\n",
       "      <td>17589</td>\n",
       "      <td>Product</td>\n",
       "      <td>0</td>\n",
       "      <td>0</td>\n",
       "      <td>5</td>\n",
       "    </tr>\n",
       "  </tbody>\n",
       "</table>\n",
       "</div>"
      ],
      "text/plain": [
       "  DATE_OF_EVENT                                  EVENT_ID  \\\n",
       "0    2017-05-05  a18841cf5c3208f4c3d7b139589bc897b1f29f45   \n",
       "1    2017-05-05  a1893bd515bf06853f45a3d0d038e96e5210fd72   \n",
       "2    2017-05-05  a1893f9ef3cdb2f62db472b0d51bfedf92e499e9   \n",
       "3    2017-05-05  a189ffe910621a892af40d0ec3a9394bbee69875   \n",
       "4    2017-05-05  a18a240c3691c73d2c9465157824b1ad3e05b4b2   \n",
       "\n",
       "                                    USER_ID WAY_ID CAMPAIGN_ID  PLACEMENT_ID  \\\n",
       "0  ea62471c114233e16ef425975d13d51de9e8f20d      b       ex13m      15982135   \n",
       "1  0afaf3ac1ec6f685582145038bfece98f29f8fee      a       ex13m      16056045   \n",
       "2  f7135b828d63cb008497f40496a9425d0edc752d      a     ex13p1p      16051115   \n",
       "3  b37c9d8a3801885db63369e661c00e5ec6bdfffa      a      tru3wb        231834   \n",
       "4  28dc89f5ecc3e14b64e38caedb97ffb959bc9839      a        th3m  In4j9u2h.gi4   \n",
       "\n",
       "  INT_CAMPAIGN_ID MEDIUM_ID  \\\n",
       "0        g6932ish     20484   \n",
       "1        g1417bel     19227   \n",
       "2        g6746yar     19769   \n",
       "3        g5529bel     20443   \n",
       "4        g6388kro     17589   \n",
       "\n",
       "                                          PRODUCT_ID  REG_TRIG  PMNT_TRIG  DAY  \n",
       "0                                            Product         0          0    5  \n",
       "1                                            Product         0          0    5  \n",
       "2                                            Product         0          0    5  \n",
       "3  wntmRfb4b6dc7647e11e6bf1e984be1741384_b2463e76...         0          0    5  \n",
       "4                                            Product         0          0    5  "
      ]
     },
     "execution_count": 94,
     "metadata": {},
     "output_type": "execute_result"
    }
   ],
   "source": [
    "df.head()"
   ]
  },
  {
   "cell_type": "code",
   "execution_count": 95,
   "metadata": {},
   "outputs": [
    {
     "data": {
      "text/plain": [
       "5560"
      ]
     },
     "execution_count": 95,
     "metadata": {},
     "output_type": "execute_result"
    }
   ],
   "source": [
    "df['PLACEMENT_ID'].nunique()"
   ]
  },
  {
   "cell_type": "code",
   "execution_count": 96,
   "metadata": {},
   "outputs": [
    {
     "data": {
      "text/plain": [
       "Text(0.5, 1.0, 'Payments')"
      ]
     },
     "execution_count": 96,
     "metadata": {},
     "output_type": "execute_result"
    },
    {
     "data": {
      "image/png": "[encoded data removed]",
      "text/plain": [
       "<Figure size 1296x432 with 3 Axes>"
      ]
     },
     "metadata": {
      "needs_background": "light"
     },
     "output_type": "display_data"
    }
   ],
   "source": [
    "PLACEMENT_ID_count  = df['PLACEMENT_ID'].value_counts()\n",
    "PLACEMENT_ID_count = PLACEMENT_ID_count[:10,]\n",
    "\n",
    "PLACEMENT_ID_countR  = REG['PLACEMENT_ID'].value_counts()\n",
    "PLACEMENT_ID_countR = PLACEMENT_ID_countR[:10,]\n",
    "\n",
    "PLACEMENT_ID_countP  = PMNT['PLACEMENT_ID'].value_counts()\n",
    "PLACEMENT_ID_countP = PLACEMENT_ID_countP[:10,]\n",
    "\n",
    "f, (ax1, ax2, ax3) = pl.subplots(ncols=3, figsize=(18,6))\n",
    "\n",
    "sns.barplot(PLACEMENT_ID_count.index, PLACEMENT_ID_count.values, alpha=0.8, palette='rainbow', ax=ax1)\n",
    "ax1.set_xticklabels(ax1.get_xticklabels(), rotation=45)\n",
    "ax1.set_title('Events')\n",
    "\n",
    "sns.barplot(PLACEMENT_ID_countR.index, PLACEMENT_ID_countR.values, alpha=0.8, palette='rainbow', ax=ax2)\n",
    "ax2.set_xticklabels(ax2.get_xticklabels(), rotation=45)\n",
    "ax2.set_title('Registrations')\n",
    "\n",
    "sns.barplot(PLACEMENT_ID_countP.index, PLACEMENT_ID_countP.values, alpha=0.8, palette='rainbow', ax=ax3)\n",
    "ax3.set_xticklabels(ax3.get_xticklabels(), rotation=45)\n",
    "ax3.set_title('Payments')"
   ]
  },
  {
   "cell_type": "code",
   "execution_count": 97,
   "metadata": {},
   "outputs": [
    {
     "data": {
      "text/plain": [
       "Qt1         3487411\n",
       "254527       336478\n",
       "16051115     296138\n",
       "Qt4          295150\n",
       "Qt9          192426\n",
       "Name: PLACEMENT_ID, dtype: int64"
      ]
     },
     "execution_count": 97,
     "metadata": {},
     "output_type": "execute_result"
    }
   ],
   "source": [
    "df['PLACEMENT_ID'].value_counts().nlargest(5)"
   ]
  },
  {
   "cell_type": "code",
   "execution_count": 98,
   "metadata": {},
   "outputs": [
    {
     "data": {
      "text/plain": [
       "Qt1             12735\n",
       "Ing_4t_504       6275\n",
       "Ing_Qq_2061      5868\n",
       "Ing_4t_611       5672\n",
       "Ing_bl_4t_59     5398\n",
       "Name: PLACEMENT_ID, dtype: int64"
      ]
     },
     "execution_count": 98,
     "metadata": {},
     "output_type": "execute_result"
    }
   ],
   "source": [
    "REG['PLACEMENT_ID'].value_counts().nlargest(5)"
   ]
  },
  {
   "cell_type": "code",
   "execution_count": 99,
   "metadata": {},
   "outputs": [
    {
     "data": {
      "text/plain": [
       "Qt1             298\n",
       "Ing_bl_4t_59    198\n",
       "Ing_Qq_2061     179\n",
       "Ing_4t_504      152\n",
       "Ing_4t_611      121\n",
       "Name: PLACEMENT_ID, dtype: int64"
      ]
     },
     "execution_count": 99,
     "metadata": {},
     "output_type": "execute_result"
    }
   ],
   "source": [
    "PMNT['PLACEMENT_ID'].value_counts().nlargest(5)"
   ]
  },
  {
   "cell_type": "markdown",
   "metadata": {},
   "source": [
    "### MEDIUM_ID"
   ]
  },
  {
   "cell_type": "code",
   "execution_count": 100,
   "metadata": {},
   "outputs": [
    {
     "data": {
      "text/plain": [
       "392"
      ]
     },
     "execution_count": 100,
     "metadata": {},
     "output_type": "execute_result"
    }
   ],
   "source": [
    "df['MEDIUM_ID'].nunique()"
   ]
  },
  {
   "cell_type": "code",
   "execution_count": 101,
   "metadata": {},
   "outputs": [
    {
     "data": {
      "text/plain": [
       "Text(0.5, 1.0, 'Payments')"
      ]
     },
     "execution_count": 101,
     "metadata": {},
     "output_type": "execute_result"
    },
    {
     "data": {
      "image/png": "[encoded data removed]",
      "text/plain": [
       "<Figure size 1296x432 with 3 Axes>"
      ]
     },
     "metadata": {
      "needs_background": "light"
     },
     "output_type": "display_data"
    }
   ],
   "source": [
    "MEDIUM_ID_count  = df['MEDIUM_ID'].value_counts()\n",
    "MEDIUM_ID_count = MEDIUM_ID_count[:10,]\n",
    "\n",
    "MEDIUM_ID_countR  = REG['MEDIUM_ID'].value_counts()\n",
    "MEDIUM_ID_countR = MEDIUM_ID_countR[:10,]\n",
    "\n",
    "MEDIUM_ID_countP  = PMNT['MEDIUM_ID'].value_counts()\n",
    "MEDIUM_ID_countP = MEDIUM_ID_countP[:10,]\n",
    "\n",
    "f, (ax1, ax2, ax3) = pl.subplots(ncols=3, figsize=(18,6))\n",
    "\n",
    "sns.barplot(MEDIUM_ID_count.index, MEDIUM_ID_count.values, alpha=0.8, palette='Set1', ax=ax1)\n",
    "ax1.set_xticklabels(ax1.get_xticklabels(), rotation=45)\n",
    "ax1.set_title('Events')\n",
    "\n",
    "sns.barplot(MEDIUM_ID_countR.index, MEDIUM_ID_countR.values, alpha=0.8, palette='Set1', ax=ax2)\n",
    "ax2.set_xticklabels(ax2.get_xticklabels(), rotation=45)\n",
    "ax2.set_title('Registrations')\n",
    "\n",
    "sns.barplot(MEDIUM_ID_countP.index, MEDIUM_ID_countP.values, alpha=0.8, palette='Set1', ax=ax3)\n",
    "ax3.set_xticklabels(ax3.get_xticklabels(), rotation=45)\n",
    "ax3.set_title('Payments')"
   ]
  },
  {
   "cell_type": "code",
   "execution_count": 102,
   "metadata": {},
   "outputs": [
    {
     "data": {
      "text/plain": [
       "20246    583674\n",
       "19022    522698\n",
       "20443    458913\n",
       "20705    441602\n",
       "19769    439983\n",
       "Name: MEDIUM_ID, dtype: int64"
      ]
     },
     "execution_count": 102,
     "metadata": {},
     "output_type": "execute_result"
    }
   ],
   "source": [
    "df['MEDIUM_ID'].value_counts().nlargest(5)"
   ]
  },
  {
   "cell_type": "code",
   "execution_count": 103,
   "metadata": {},
   "outputs": [
    {
     "data": {
      "text/plain": [
       "19022    25726\n",
       "20443    14839\n",
       "20322    13648\n",
       "17589    11971\n",
       "20482     9554\n",
       "Name: MEDIUM_ID, dtype: int64"
      ]
     },
     "execution_count": 103,
     "metadata": {},
     "output_type": "execute_result"
    }
   ],
   "source": [
    "REG['MEDIUM_ID'].value_counts().nlargest(5)"
   ]
  },
  {
   "cell_type": "code",
   "execution_count": 104,
   "metadata": {},
   "outputs": [
    {
     "data": {
      "text/plain": [
       "19022    606\n",
       "20443    369\n",
       "20322    302\n",
       "20460    256\n",
       "19791    244\n",
       "Name: MEDIUM_ID, dtype: int64"
      ]
     },
     "execution_count": 104,
     "metadata": {},
     "output_type": "execute_result"
    }
   ],
   "source": [
    "PMNT['MEDIUM_ID'].value_counts().nlargest(5)"
   ]
  },
  {
   "cell_type": "markdown",
   "metadata": {},
   "source": [
    "### PRODUCT_ID"
   ]
  },
  {
   "cell_type": "code",
   "execution_count": 105,
   "metadata": {},
   "outputs": [
    {
     "data": {
      "text/html": [
       "<div>\n",
       "<style scoped>\n",
       "    .dataframe tbody tr th:only-of-type {\n",
       "        vertical-align: middle;\n",
       "    }\n",
       "\n",
       "    .dataframe tbody tr th {\n",
       "        vertical-align: top;\n",
       "    }\n",
       "\n",
       "    .dataframe thead th {\n",
       "        text-align: right;\n",
       "    }\n",
       "</style>\n",
       "<table border=\"1\" class=\"dataframe\">\n",
       "  <thead>\n",
       "    <tr style=\"text-align: right;\">\n",
       "      <th></th>\n",
       "      <th>DATE_OF_EVENT</th>\n",
       "      <th>EVENT_ID</th>\n",
       "      <th>USER_ID</th>\n",
       "      <th>WAY_ID</th>\n",
       "      <th>CAMPAIGN_ID</th>\n",
       "      <th>PLACEMENT_ID</th>\n",
       "      <th>INT_CAMPAIGN_ID</th>\n",
       "      <th>MEDIUM_ID</th>\n",
       "      <th>PRODUCT_ID</th>\n",
       "      <th>REG_TRIG</th>\n",
       "      <th>PMNT_TRIG</th>\n",
       "      <th>DAY</th>\n",
       "    </tr>\n",
       "  </thead>\n",
       "  <tbody>\n",
       "    <tr>\n",
       "      <td>0</td>\n",
       "      <td>2017-05-05</td>\n",
       "      <td>a18841cf5c3208f4c3d7b139589bc897b1f29f45</td>\n",
       "      <td>ea62471c114233e16ef425975d13d51de9e8f20d</td>\n",
       "      <td>b</td>\n",
       "      <td>ex13m</td>\n",
       "      <td>15982135</td>\n",
       "      <td>g6932ish</td>\n",
       "      <td>20484</td>\n",
       "      <td>Product</td>\n",
       "      <td>0</td>\n",
       "      <td>0</td>\n",
       "      <td>5</td>\n",
       "    </tr>\n",
       "    <tr>\n",
       "      <td>1</td>\n",
       "      <td>2017-05-05</td>\n",
       "      <td>a1893bd515bf06853f45a3d0d038e96e5210fd72</td>\n",
       "      <td>0afaf3ac1ec6f685582145038bfece98f29f8fee</td>\n",
       "      <td>a</td>\n",
       "      <td>ex13m</td>\n",
       "      <td>16056045</td>\n",
       "      <td>g1417bel</td>\n",
       "      <td>19227</td>\n",
       "      <td>Product</td>\n",
       "      <td>0</td>\n",
       "      <td>0</td>\n",
       "      <td>5</td>\n",
       "    </tr>\n",
       "    <tr>\n",
       "      <td>2</td>\n",
       "      <td>2017-05-05</td>\n",
       "      <td>a1893f9ef3cdb2f62db472b0d51bfedf92e499e9</td>\n",
       "      <td>f7135b828d63cb008497f40496a9425d0edc752d</td>\n",
       "      <td>a</td>\n",
       "      <td>ex13p1p</td>\n",
       "      <td>16051115</td>\n",
       "      <td>g6746yar</td>\n",
       "      <td>19769</td>\n",
       "      <td>Product</td>\n",
       "      <td>0</td>\n",
       "      <td>0</td>\n",
       "      <td>5</td>\n",
       "    </tr>\n",
       "    <tr>\n",
       "      <td>3</td>\n",
       "      <td>2017-05-05</td>\n",
       "      <td>a189ffe910621a892af40d0ec3a9394bbee69875</td>\n",
       "      <td>b37c9d8a3801885db63369e661c00e5ec6bdfffa</td>\n",
       "      <td>a</td>\n",
       "      <td>tru3wb</td>\n",
       "      <td>231834</td>\n",
       "      <td>g5529bel</td>\n",
       "      <td>20443</td>\n",
       "      <td>wntmRfb4b6dc7647e11e6bf1e984be1741384_b2463e76...</td>\n",
       "      <td>0</td>\n",
       "      <td>0</td>\n",
       "      <td>5</td>\n",
       "    </tr>\n",
       "    <tr>\n",
       "      <td>4</td>\n",
       "      <td>2017-05-05</td>\n",
       "      <td>a18a240c3691c73d2c9465157824b1ad3e05b4b2</td>\n",
       "      <td>28dc89f5ecc3e14b64e38caedb97ffb959bc9839</td>\n",
       "      <td>a</td>\n",
       "      <td>th3m</td>\n",
       "      <td>In4j9u2h.gi4</td>\n",
       "      <td>g6388kro</td>\n",
       "      <td>17589</td>\n",
       "      <td>Product</td>\n",
       "      <td>0</td>\n",
       "      <td>0</td>\n",
       "      <td>5</td>\n",
       "    </tr>\n",
       "  </tbody>\n",
       "</table>\n",
       "</div>"
      ],
      "text/plain": [
       "  DATE_OF_EVENT                                  EVENT_ID  \\\n",
       "0    2017-05-05  a18841cf5c3208f4c3d7b139589bc897b1f29f45   \n",
       "1    2017-05-05  a1893bd515bf06853f45a3d0d038e96e5210fd72   \n",
       "2    2017-05-05  a1893f9ef3cdb2f62db472b0d51bfedf92e499e9   \n",
       "3    2017-05-05  a189ffe910621a892af40d0ec3a9394bbee69875   \n",
       "4    2017-05-05  a18a240c3691c73d2c9465157824b1ad3e05b4b2   \n",
       "\n",
       "                                    USER_ID WAY_ID CAMPAIGN_ID  PLACEMENT_ID  \\\n",
       "0  ea62471c114233e16ef425975d13d51de9e8f20d      b       ex13m      15982135   \n",
       "1  0afaf3ac1ec6f685582145038bfece98f29f8fee      a       ex13m      16056045   \n",
       "2  f7135b828d63cb008497f40496a9425d0edc752d      a     ex13p1p      16051115   \n",
       "3  b37c9d8a3801885db63369e661c00e5ec6bdfffa      a      tru3wb        231834   \n",
       "4  28dc89f5ecc3e14b64e38caedb97ffb959bc9839      a        th3m  In4j9u2h.gi4   \n",
       "\n",
       "  INT_CAMPAIGN_ID MEDIUM_ID  \\\n",
       "0        g6932ish     20484   \n",
       "1        g1417bel     19227   \n",
       "2        g6746yar     19769   \n",
       "3        g5529bel     20443   \n",
       "4        g6388kro     17589   \n",
       "\n",
       "                                          PRODUCT_ID  REG_TRIG  PMNT_TRIG  DAY  \n",
       "0                                            Product         0          0    5  \n",
       "1                                            Product         0          0    5  \n",
       "2                                            Product         0          0    5  \n",
       "3  wntmRfb4b6dc7647e11e6bf1e984be1741384_b2463e76...         0          0    5  \n",
       "4                                            Product         0          0    5  "
      ]
     },
     "execution_count": 105,
     "metadata": {},
     "output_type": "execute_result"
    }
   ],
   "source": [
    "df.head()"
   ]
  },
  {
   "cell_type": "code",
   "execution_count": 106,
   "metadata": {},
   "outputs": [
    {
     "data": {
      "text/plain": [
       "(831146, 12)"
      ]
     },
     "execution_count": 106,
     "metadata": {},
     "output_type": "execute_result"
    }
   ],
   "source": [
    "PRODUCT = df.loc[df['PRODUCT_ID'] != 'Product']\n",
    "PRODUCT.shape"
   ]
  },
  {
   "cell_type": "code",
   "execution_count": 107,
   "metadata": {},
   "outputs": [
    {
     "data": {
      "text/plain": [
       "1400"
      ]
     },
     "execution_count": 107,
     "metadata": {},
     "output_type": "execute_result"
    }
   ],
   "source": [
    "PRODUCT['PRODUCT_ID'].nunique()"
   ]
  },
  {
   "cell_type": "code",
   "execution_count": 108,
   "metadata": {},
   "outputs": [],
   "source": [
    "PRODUCT_count  = PRODUCT['PRODUCT_ID'].value_counts()\n",
    "PRODUCT_count = PRODUCT_count[:10,]"
   ]
  },
  {
   "cell_type": "code",
   "execution_count": 109,
   "metadata": {},
   "outputs": [
    {
     "data": {
      "text/plain": [
       "<matplotlib.axes._subplots.AxesSubplot at 0x1cf1d714d48>"
      ]
     },
     "execution_count": 109,
     "metadata": {},
     "output_type": "execute_result"
    },
    {
     "data": {
      "image/png": "[encoded data removed]",
      "text/plain": [
       "<Figure size 720x360 with 1 Axes>"
      ]
     },
     "metadata": {
      "needs_background": "light"
     },
     "output_type": "display_data"
    }
   ],
   "source": [
    "pl.figure(figsize=(10,5))\n",
    "sns.barplot(PRODUCT_count.index, PRODUCT_count.values, alpha=0.8, palette='coolwarm')"
   ]
  },
  {
   "cell_type": "code",
   "execution_count": 110,
   "metadata": {},
   "outputs": [
    {
     "data": {
      "text/plain": [
       "lvhRf2db26f70dee11e58974101f74370270_bb4ffe8873ce5b6a2627b9b19d32bb58            55623\n",
       "flirtR5a7176a5436a11e68a6f101f74370270_c47566362bf21304b8ec57e43804d5ca_ver=2    35825\n",
       "lvhR9cab8803e24e11e689f9984be1741384_bb4ffe8873ce5b6a2627b9b19d32bb58            29091\n",
       "t2nR20becb19f83211e689f9984be1741384_f1878e86ded8e1fa7fc1de3151fa61d9            23703\n",
       "lvhR9cab8803e24e11e689f9984be1741384_bb4ffe8873ce5b6a2627b9b19d32bb58_ver=2      23399\n",
       "ndR10bb40acf9c111e689f9984be1741384_4d5947a22f09eec399d938bb0e6f7671             16472\n",
       "ndR8ab141f90dbf11e58974101f74370270_4d5947a22f09eec399d938bb0e6f7671             16451\n",
       "flirtR5a7176a5436a11e68a6f101f74370270_c47566362bf21304b8ec57e43804d5ca          16140\n",
       "t2nR20becb19f83211e689f9984be1741384_f1878e86ded8e1fa7fc1de3151fa61d9_ver=2      15627\n",
       "bnR5d617faa56d011e5a23b101f74370270_3c09509e33441cf21f9b1cc3a49413f2             15307\n",
       "Name: PRODUCT_ID, dtype: int64"
      ]
     },
     "execution_count": 110,
     "metadata": {},
     "output_type": "execute_result"
    }
   ],
   "source": [
    "PRODUCT['PRODUCT_ID'].value_counts().nlargest(10)"
   ]
  },
  {
   "cell_type": "code",
   "execution_count": null,
   "metadata": {},
   "outputs": [],
   "source": []
  },
  {
   "cell_type": "code",
   "execution_count": null,
   "metadata": {},
   "outputs": [],
   "source": []
  }
 ],
 "metadata": {
  "kernelspec": {
   "display_name": "Python 3",
   "language": "python",
   "name": "python3"
  },
  "language_info": {
   "codemirror_mode": {
    "name": "ipython",
    "version": 3
   },
   "file_extension": ".py",
   "mimetype": "text/x-python",
   "name": "python",
   "nbconvert_exporter": "python",
   "pygments_lexer": "ipython3",
   "version": "3.7.4"
  }
 },
 "nbformat": 4,
 "nbformat_minor": 2
}
